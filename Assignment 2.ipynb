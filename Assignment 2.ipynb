{
 "cells": [
  {
   "cell_type": "markdown",
   "id": "0ee94cd5-7332-477a-b975-0d2b2d9ed1d6",
   "metadata": {},
   "source": [
    "String based assignment problem\n",
    "\n",
    "q.1"
   ]
  },
  {
   "cell_type": "code",
   "execution_count": 1,
   "id": "325bcf3b-00e0-4071-aeec-f74989bd956d",
   "metadata": {},
   "outputs": [
    {
     "name": "stdin",
     "output_type": "stream",
     "text": [
      "Enter a string:  soni\n"
     ]
    },
    {
     "name": "stdout",
     "output_type": "stream",
     "text": [
      "Reversed string: inos\n"
     ]
    }
   ],
   "source": [
    "def reverse_string(input_string):\n",
    "    return input_string[::-1]\n",
    "\n",
    "# Get input from the user\n",
    "user_input = input(\"Enter a string: \")\n",
    "\n",
    "# Call the function and print the reversed string\n",
    "reversed_string = reverse_string(user_input)\n",
    "print(\"Reversed string:\", reversed_string)"
   ]
  },
  {
   "cell_type": "markdown",
   "id": "c3686843-0d69-46fa-80fc-1c433fbaf1ad",
   "metadata": {},
   "source": [
    "q.2"
   ]
  },
  {
   "cell_type": "code",
   "execution_count": 3,
   "id": "64f1729e-dc04-485e-8960-6f1f5d8708aa",
   "metadata": {},
   "outputs": [
    {
     "name": "stdin",
     "output_type": "stream",
     "text": [
      "Enter a string:  soni\n"
     ]
    },
    {
     "name": "stdout",
     "output_type": "stream",
     "text": [
      "The input string is not a palindrome.\n"
     ]
    }
   ],
   "source": [
    "def is_palindrome(input_string):\n",
    "    # Convert the input string to lowercase and remove spaces\n",
    "    clean_string = input_string.lower().replace(\" \", \"\")\n",
    "    \n",
    "    # Check if the cleaned string is equal to its reverse\n",
    "    return clean_string == clean_string[::-1]\n",
    "\n",
    "# Get input from the user\n",
    "user_input = input(\"Enter a string: \")\n",
    "\n",
    "# Check if the input string is a palindrome\n",
    "if is_palindrome(user_input):\n",
    "    print(\"The input string is a palindrome.\")\n",
    "else:\n",
    "    print(\"The input string is not a palindrome.\")\n",
    "\n",
    "\n",
    "\n",
    "\n",
    "\n"
   ]
  },
  {
   "cell_type": "markdown",
   "id": "b7218bfe-8246-4a70-b809-47d2f51c99c1",
   "metadata": {},
   "source": [
    "q.3"
   ]
  },
  {
   "cell_type": "code",
   "execution_count": 4,
   "id": "e21a4beb-a31d-4b57-b2fb-11138734ea8f",
   "metadata": {},
   "outputs": [
    {
     "name": "stdin",
     "output_type": "stream",
     "text": [
      "Enter a string:  siddharth\n"
     ]
    },
    {
     "name": "stdout",
     "output_type": "stream",
     "text": [
      "Uppercase string: SIDDHARTH\n"
     ]
    }
   ],
   "source": [
    "def convert_to_uppercase(input_string):\n",
    "    return input_string.upper()\n",
    "\n",
    "# Get input from the user\n",
    "user_input = input(\"Enter a string: \")\n",
    "\n",
    "# Call the function and print the string in uppercase\n",
    "uppercase_string = convert_to_uppercase(user_input)\n",
    "print(\"Uppercase string:\", uppercase_string)"
   ]
  },
  {
   "cell_type": "markdown",
   "id": "4a18130c-dbdb-423b-a508-6b6014c51d12",
   "metadata": {},
   "source": [
    "q.4"
   ]
  },
  {
   "cell_type": "code",
   "execution_count": 5,
   "id": "70164e74-a307-482b-a7c0-59226894f756",
   "metadata": {},
   "outputs": [
    {
     "name": "stdin",
     "output_type": "stream",
     "text": [
      "Enter a string:  SONI\n"
     ]
    },
    {
     "name": "stdout",
     "output_type": "stream",
     "text": [
      "Lowercase string: soni\n"
     ]
    }
   ],
   "source": [
    "def convert_to_lowercase(input_string):\n",
    "    return input_string.lower()\n",
    "\n",
    "# Get input from the user\n",
    "user_input = input(\"Enter a string: \")\n",
    "\n",
    "# Call the function and print the string in lowercase\n",
    "lowercase_string = convert_to_lowercase(user_input)\n",
    "print(\"Lowercase string:\", lowercase_string)"
   ]
  },
  {
   "cell_type": "markdown",
   "id": "ab00593a-54b3-407c-a10c-b0e2f9ffa020",
   "metadata": {},
   "source": [
    "Q.5"
   ]
  },
  {
   "cell_type": "code",
   "execution_count": 6,
   "id": "72d11ae6-ab93-4a84-af9f-30069fc87d56",
   "metadata": {},
   "outputs": [
    {
     "name": "stdin",
     "output_type": "stream",
     "text": [
      "Enter a string:  siddharth\n"
     ]
    },
    {
     "name": "stdout",
     "output_type": "stream",
     "text": [
      "Number of vowels: 2\n"
     ]
    }
   ],
   "source": [
    "def count_vowels(input_string):\n",
    "    vowels = \"aeiouAEIOU\"  # List of vowels\n",
    "    vowel_count = 0\n",
    "\n",
    "    for char in input_string:\n",
    "        if char in vowels:\n",
    "            vowel_count += 1\n",
    "\n",
    "    return vowel_count\n",
    "\n",
    "# Get input from the user\n",
    "user_input = input(\"Enter a string: \")\n",
    "\n",
    "# Call the function to count vowels and print the result\n",
    "vowel_count = count_vowels(user_input)\n",
    "print(\"Number of vowels:\", vowel_count)\n"
   ]
  },
  {
   "cell_type": "markdown",
   "id": "7f093133-96fb-48c8-b69c-f7662d7988d3",
   "metadata": {},
   "source": [
    "q.6"
   ]
  },
  {
   "cell_type": "code",
   "execution_count": 7,
   "id": "df947cc2-cf3b-44c2-ba67-2c27466344b9",
   "metadata": {},
   "outputs": [
    {
     "name": "stdin",
     "output_type": "stream",
     "text": [
      "Enter a string:  siddharth\n"
     ]
    },
    {
     "name": "stdout",
     "output_type": "stream",
     "text": [
      "Number of consonants: 7\n"
     ]
    }
   ],
   "source": [
    "def count_consonants(input_string):\n",
    "    vowels = \"aeiouAEIOU\"  # List of vowels\n",
    "    consonant_count = 0\n",
    "\n",
    "    for char in input_string:\n",
    "        if char.isalpha() and char not in vowels:\n",
    "            consonant_count += 1\n",
    "\n",
    "    return consonant_count\n",
    "\n",
    "# Get input from the user\n",
    "user_input = input(\"Enter a string: \")\n",
    "\n",
    "# Call the function to count consonants and print the result\n",
    "consonant_count = count_consonants(user_input)\n",
    "print(\"Number of consonants:\", consonant_count)\n"
   ]
  },
  {
   "cell_type": "markdown",
   "id": "a2f29b64-5176-40e8-adbd-8bd1f48b5655",
   "metadata": {},
   "source": [
    "q.7"
   ]
  },
  {
   "cell_type": "code",
   "execution_count": 8,
   "id": "4f1c6522-1993-489a-9da0-8f03a5c4f899",
   "metadata": {},
   "outputs": [
    {
     "name": "stdin",
     "output_type": "stream",
     "text": [
      "Enter a string:  siddharth soni\n"
     ]
    },
    {
     "name": "stdout",
     "output_type": "stream",
     "text": [
      "String without whitespace: siddharthsoni\n"
     ]
    }
   ],
   "source": [
    "def remove_whitespace(input_string):\n",
    "    return input_string.replace(\" \", \"\")\n",
    "\n",
    "# Get input from the user\n",
    "user_input = input(\"Enter a string: \")\n",
    "\n",
    "# Call the function to remove whitespace and print the result\n",
    "no_whitespace_string = remove_whitespace(user_input)\n",
    "print(\"String without whitespace:\", no_whitespace_string)"
   ]
  },
  {
   "cell_type": "markdown",
   "id": "00b9024c-1edf-49bf-9af2-7084124a2a6a",
   "metadata": {},
   "source": [
    "q.8"
   ]
  },
  {
   "cell_type": "code",
   "execution_count": 9,
   "id": "ece107f8-d013-4184-a38c-8fd5a53e4e51",
   "metadata": {},
   "outputs": [
    {
     "name": "stdin",
     "output_type": "stream",
     "text": [
      "Enter a string:  siddharth\n"
     ]
    },
    {
     "name": "stdout",
     "output_type": "stream",
     "text": [
      "Length of the string: 9\n"
     ]
    }
   ],
   "source": [
    "def string_length(input_string):\n",
    "    count = 0\n",
    "    for char in input_string:\n",
    "        count += 1\n",
    "    return count\n",
    "\n",
    "# Get input from the user\n",
    "user_input = input(\"Enter a string: \")\n",
    "\n",
    "# Call the function to find the length and print the result\n",
    "length = string_length(user_input)\n",
    "print(\"Length of the string:\", length)\n"
   ]
  },
  {
   "cell_type": "markdown",
   "id": "8cc621ad-5175-44bb-817a-55b9e4ac04c8",
   "metadata": {},
   "source": [
    "q.9"
   ]
  },
  {
   "cell_type": "code",
   "execution_count": 10,
   "id": "5fc652db-5d7a-4cca-b735-abb35c7c4514",
   "metadata": {},
   "outputs": [
    {
     "name": "stdin",
     "output_type": "stream",
     "text": [
      "Enter a string:  Siddharth soni\n",
      "Enter the word to check:  s\n"
     ]
    },
    {
     "name": "stdout",
     "output_type": "stream",
     "text": [
      "The string contains the word.\n"
     ]
    }
   ],
   "source": [
    "def contains_word(input_string, target_word):\n",
    "    return target_word in input_string\n",
    "\n",
    "# Get input from the user\n",
    "user_input = input(\"Enter a string: \")\n",
    "word_to_check = input(\"Enter the word to check: \")\n",
    "\n",
    "# Call the function to check if the word is present and print the result\n",
    "if contains_word(user_input, word_to_check):\n",
    "    print(\"The string contains the word.\")\n",
    "else:\n",
    "    print(\"The string does not contain the word.\")\n"
   ]
  },
  {
   "cell_type": "markdown",
   "id": "f2b530db-c9ee-4b94-a307-15479b93941e",
   "metadata": {},
   "source": [
    "q.10"
   ]
  },
  {
   "cell_type": "code",
   "execution_count": 11,
   "id": "16e2f4c1-2a38-4a08-b680-283b40cdeb24",
   "metadata": {},
   "outputs": [
    {
     "name": "stdin",
     "output_type": "stream",
     "text": [
      "Enter a string:  Siddharth soni\n",
      "Enter the word to replace:  h\n",
      "Enter the new word:  a\n"
     ]
    },
    {
     "name": "stdout",
     "output_type": "stream",
     "text": [
      "Modified string: Siddaarta soni\n"
     ]
    }
   ],
   "source": [
    "def replace_word(input_string, old_word, new_word):\n",
    "    return input_string.replace(old_word, new_word)\n",
    "\n",
    "# Get input from the user\n",
    "user_input = input(\"Enter a string: \")\n",
    "old_word = input(\"Enter the word to replace: \")\n",
    "new_word = input(\"Enter the new word: \")\n",
    "\n",
    "# Call the function to replace the word and print the result\n",
    "new_string = replace_word(user_input, old_word, new_word)\n",
    "print(\"Modified string:\", new_string)\n"
   ]
  },
  {
   "cell_type": "markdown",
   "id": "dc22d6c1-7760-4313-a73e-3a1f8e9c874a",
   "metadata": {},
   "source": [
    "q.11"
   ]
  },
  {
   "cell_type": "code",
   "execution_count": 12,
   "id": "e2883732-de49-445f-b0aa-03b4a2e9e5f9",
   "metadata": {},
   "outputs": [
    {
     "name": "stdin",
     "output_type": "stream",
     "text": [
      "Enter a string:  siddharth\n",
      "Enter the word to count:  d\n"
     ]
    },
    {
     "name": "stdout",
     "output_type": "stream",
     "text": [
      "Number of occurrences: 2\n"
     ]
    }
   ],
   "source": [
    "def count_word_occurrences(input_string, target_word):\n",
    "    return input_string.lower().count(target_word.lower())\n",
    "\n",
    "# Get input from the user\n",
    "user_input = input(\"Enter a string: \")\n",
    "word_to_count = input(\"Enter the word to count: \")\n",
    "\n",
    "# Call the function to count occurrences and print the result\n",
    "occurrences = count_word_occurrences(user_input, word_to_count)\n",
    "print(\"Number of occurrences:\", occurrences)\n"
   ]
  },
  {
   "cell_type": "markdown",
   "id": "19279f64-7c71-454a-9bd1-bfebd29d7ba6",
   "metadata": {},
   "source": [
    "q.12"
   ]
  },
  {
   "cell_type": "code",
   "execution_count": 13,
   "id": "0d007847-b4a3-4613-bbf5-67cda5462e47",
   "metadata": {},
   "outputs": [
    {
     "name": "stdin",
     "output_type": "stream",
     "text": [
      "Enter a string:  soni\n",
      "Enter the word to find:  i\n"
     ]
    },
    {
     "name": "stdout",
     "output_type": "stream",
     "text": [
      "First occurrence found at index: 3\n"
     ]
    }
   ],
   "source": [
    "def find_first_occurrence(input_string, target_word):\n",
    "    return input_string.lower().find(target_word.lower())\n",
    "\n",
    "# Get input from the user\n",
    "user_input = input(\"Enter a string: \")\n",
    "word_to_find = input(\"Enter the word to find: \")\n",
    "\n",
    "# Call the function to find the first occurrence and print the result\n",
    "first_occurrence_index = find_first_occurrence(user_input, word_to_find)\n",
    "\n",
    "if first_occurrence_index != -1:\n",
    "    print(\"First occurrence found at index:\", first_occurrence_index)\n",
    "else:\n",
    "    print(\"Word not found in the string.\")\n"
   ]
  },
  {
   "cell_type": "markdown",
   "id": "5b0d7f4b-e998-45ca-9499-64ba23d3a048",
   "metadata": {},
   "source": [
    "q.13"
   ]
  },
  {
   "cell_type": "code",
   "execution_count": 14,
   "id": "a6bdbad5-085e-4f3e-80e7-82b7bd6e9894",
   "metadata": {},
   "outputs": [
    {
     "name": "stdin",
     "output_type": "stream",
     "text": [
      "Enter a string:  soni\n",
      "Enter the word to find:  i\n"
     ]
    },
    {
     "name": "stdout",
     "output_type": "stream",
     "text": [
      "Last occurrence found at index: 3\n"
     ]
    }
   ],
   "source": [
    "def find_last_occurrence(input_string, target_word):\n",
    "    return input_string.lower().rfind(target_word.lower())\n",
    "\n",
    "# Get input from the user\n",
    "user_input = input(\"Enter a string: \")\n",
    "word_to_find = input(\"Enter the word to find: \")\n",
    "\n",
    "# Call the function to find the last occurrence and print the result\n",
    "last_occurrence_index = find_last_occurrence(user_input, word_to_find)\n",
    "\n",
    "if last_occurrence_index != -1:\n",
    "    print(\"Last occurrence found at index:\", last_occurrence_index)\n",
    "else:\n",
    "    print(\"Word not found in the string.\")\n"
   ]
  },
  {
   "cell_type": "markdown",
   "id": "8567c471-021b-4562-942a-464fdfef69b2",
   "metadata": {},
   "source": [
    "q.14"
   ]
  },
  {
   "cell_type": "code",
   "execution_count": 15,
   "id": "09adef13-82f3-4f9a-ae79-5c5d95f4bbcc",
   "metadata": {},
   "outputs": [
    {
     "name": "stdin",
     "output_type": "stream",
     "text": [
      "Enter a string:  soni\n"
     ]
    },
    {
     "name": "stdout",
     "output_type": "stream",
     "text": [
      "List of words: ['soni']\n"
     ]
    }
   ],
   "source": [
    "def split_string(input_string):\n",
    "    return input_string.split()\n",
    "\n",
    "# Get input from the user\n",
    "user_input = input(\"Enter a string: \")\n",
    "\n",
    "# Call the function to split the string and print the result\n",
    "word_list = split_string(user_input)\n",
    "print(\"List of words:\", word_list)\n"
   ]
  },
  {
   "cell_type": "markdown",
   "id": "7ac0da5d-802f-4cb4-afa0-9bf1aac2a47a",
   "metadata": {},
   "source": [
    "q.15"
   ]
  },
  {
   "cell_type": "code",
   "execution_count": 16,
   "id": "df5a6ffc-2d49-4ca0-a7c7-0533badd07c9",
   "metadata": {},
   "outputs": [
    {
     "name": "stdin",
     "output_type": "stream",
     "text": [
      "Enter a list of words separated by spaces:  siddharth\n"
     ]
    },
    {
     "name": "stdout",
     "output_type": "stream",
     "text": [
      "Joined string: siddharth\n"
     ]
    }
   ],
   "source": [
    "def join_words(word_list):\n",
    "    return \" \".join(word_list)\n",
    "\n",
    "# Get input from the user\n",
    "user_input = input(\"Enter a list of words separated by spaces: \")\n",
    "word_list = user_input.split()  # Split the input into a list of words\n",
    "\n",
    "# Call the function to join the words and print the result\n",
    "joined_string = join_words(word_list)\n",
    "print(\"Joined string:\", joined_string)\n"
   ]
  },
  {
   "cell_type": "markdown",
   "id": "e1f557c1-db1e-4756-ad21-32bd351ea723",
   "metadata": {},
   "source": [
    "q.16"
   ]
  },
  {
   "cell_type": "code",
   "execution_count": 17,
   "id": "e1c090ea-648b-4cbd-b18b-bd12b2be3e62",
   "metadata": {},
   "outputs": [
    {
     "name": "stdin",
     "output_type": "stream",
     "text": [
      "Enter a string with spaces between words:  siddharth soni\n"
     ]
    },
    {
     "name": "stdout",
     "output_type": "stream",
     "text": [
      "String with underscores: siddharth_soni\n"
     ]
    }
   ],
   "source": [
    "def replace_spaces_with_underscores(input_string):\n",
    "    return input_string.replace(\" \", \"_\")\n",
    "\n",
    "# Get input from the user\n",
    "user_input = input(\"Enter a string with spaces between words: \")\n",
    "\n",
    "# Call the function to replace spaces with underscores and print the result\n",
    "underscored_string = replace_spaces_with_underscores(user_input)\n",
    "print(\"String with underscores:\", underscored_string)\n"
   ]
  },
  {
   "cell_type": "markdown",
   "id": "282dd046-d5c6-4475-ba92-7270979d224b",
   "metadata": {},
   "source": [
    "q.17"
   ]
  },
  {
   "cell_type": "code",
   "execution_count": 18,
   "id": "05726205-b3b3-405f-92fa-ae4a3d443be7",
   "metadata": {},
   "outputs": [
    {
     "name": "stdin",
     "output_type": "stream",
     "text": [
      "Enter a string:  siddharth soni\n",
      "Enter the prefix to check:  d\n"
     ]
    },
    {
     "name": "stdout",
     "output_type": "stream",
     "text": [
      "The string does not start with the prefix.\n"
     ]
    }
   ],
   "source": [
    "def starts_with(input_string, prefix):\n",
    "    return input_string.startswith(prefix)\n",
    "\n",
    "# Get input from the user\n",
    "user_input = input(\"Enter a string: \")\n",
    "prefix_to_check = input(\"Enter the prefix to check: \")\n",
    "\n",
    "# Call the function to check if the string starts with the prefix and print the result\n",
    "if starts_with(user_input, prefix_to_check):\n",
    "    print(\"The string starts with the prefix.\")\n",
    "else:\n",
    "    print(\"The string does not start with the prefix.\")\n"
   ]
  },
  {
   "cell_type": "markdown",
   "id": "88233e88-ee88-4222-ba35-dc3bf4af8633",
   "metadata": {},
   "source": [
    "q.18"
   ]
  },
  {
   "cell_type": "code",
   "execution_count": 19,
   "id": "ad484920-3dd7-4468-96df-f982191886b4",
   "metadata": {},
   "outputs": [
    {
     "name": "stdin",
     "output_type": "stream",
     "text": [
      "Enter a string:  siddharth soni\n",
      "Enter the suffix to check:  s\n"
     ]
    },
    {
     "name": "stdout",
     "output_type": "stream",
     "text": [
      "The string does not end with the suffix.\n"
     ]
    }
   ],
   "source": [
    "def ends_with(input_string, suffix):\n",
    "    return input_string.endswith(suffix)\n",
    "\n",
    "# Get input from the user\n",
    "user_input = input(\"Enter a string: \")\n",
    "suffix_to_check = input(\"Enter the suffix to check: \")\n",
    "\n",
    "# Call the function to check if the string ends with the suffix and print the result\n",
    "if ends_with(user_input, suffix_to_check):\n",
    "    print(\"The string ends with the suffix.\")\n",
    "else:\n",
    "    print(\"The string does not end with the suffix.\")\n"
   ]
  },
  {
   "cell_type": "markdown",
   "id": "0945b656-4e9c-4ad9-a2a9-41a6ad8e7cd3",
   "metadata": {},
   "source": [
    "q.19"
   ]
  },
  {
   "cell_type": "code",
   "execution_count": 20,
   "id": "93404863-fe28-4d03-a5bc-705f850f595e",
   "metadata": {},
   "outputs": [
    {
     "name": "stdin",
     "output_type": "stream",
     "text": [
      "Enter a string:  siddharth\n"
     ]
    },
    {
     "name": "stdout",
     "output_type": "stream",
     "text": [
      "Title case string: Siddharth\n"
     ]
    }
   ],
   "source": [
    "def convert_to_title_case(input_string):\n",
    "    words = input_string.split()  # Split the string into words\n",
    "    title_case_words = [word.capitalize() for word in words]\n",
    "    return \" \".join(title_case_words)\n",
    "\n",
    "# Get input from the user\n",
    "user_input = input(\"Enter a string: \")\n",
    "\n",
    "# Call the function to convert to title case and print the result\n",
    "title_case_string = convert_to_title_case(user_input)\n",
    "print(\"Title case string:\", title_case_string)\n"
   ]
  },
  {
   "cell_type": "markdown",
   "id": "4e0baa4b-6794-41fb-a24e-bd6a397fac31",
   "metadata": {},
   "source": [
    "q.20"
   ]
  },
  {
   "cell_type": "code",
   "execution_count": 21,
   "id": "b00a423c-f5f8-4687-9b1e-7b383f9828ab",
   "metadata": {},
   "outputs": [
    {
     "name": "stdin",
     "output_type": "stream",
     "text": [
      "Enter a string:  siddharth soni\n"
     ]
    },
    {
     "name": "stdout",
     "output_type": "stream",
     "text": [
      "Longest word: siddharth\n"
     ]
    }
   ],
   "source": [
    "def find_longest_word(input_string):\n",
    "    words = input_string.split()\n",
    "    longest_word = max(words, key=len)\n",
    "    return longest_word\n",
    "\n",
    "# Get input from the user\n",
    "user_input = input(\"Enter a string: \")\n",
    "\n",
    "# Call the function to find the longest word and print the result\n",
    "longest_word = find_longest_word(user_input)\n",
    "print(\"Longest word:\", longest_word)\n"
   ]
  },
  {
   "cell_type": "markdown",
   "id": "0c863a1f-f43b-479b-bb12-14a0f2575132",
   "metadata": {},
   "source": [
    "q.21"
   ]
  },
  {
   "cell_type": "code",
   "execution_count": 22,
   "id": "fb580321-ab0d-4e88-b6ff-95adecab9821",
   "metadata": {},
   "outputs": [
    {
     "name": "stdin",
     "output_type": "stream",
     "text": [
      "Enter a string:  siddharth soni\n"
     ]
    },
    {
     "name": "stdout",
     "output_type": "stream",
     "text": [
      "Shortest word: soni\n"
     ]
    }
   ],
   "source": [
    "def find_shortest_word(input_string):\n",
    "    words = input_string.split()\n",
    "    shortest_word = min(words, key=len)\n",
    "    return shortest_word\n",
    "\n",
    "# Get input from the user\n",
    "user_input = input(\"Enter a string: \")\n",
    "\n",
    "# Call the function to find the shortest word and print the result\n",
    "shortest_word = find_shortest_word(user_input)\n",
    "print(\"Shortest word:\", shortest_word)\n"
   ]
  },
  {
   "cell_type": "markdown",
   "id": "6d5b9974-ac4b-438f-994b-e9d27497171f",
   "metadata": {},
   "source": [
    "q.22"
   ]
  },
  {
   "cell_type": "code",
   "execution_count": 23,
   "id": "f627a464-0fda-4f66-a8ae-c5005c8d51af",
   "metadata": {},
   "outputs": [
    {
     "name": "stdin",
     "output_type": "stream",
     "text": [
      "Enter a string:  siddharth soni\n"
     ]
    },
    {
     "name": "stdout",
     "output_type": "stream",
     "text": [
      "Reversed word order: soni siddharth\n"
     ]
    }
   ],
   "source": [
    "def reverse_word_order(input_string):\n",
    "    words = input_string.split()\n",
    "    reversed_words = words[::-1]\n",
    "    return \" \".join(reversed_words)\n",
    "\n",
    "# Get input from the user\n",
    "user_input = input(\"Enter a string: \")\n",
    "\n",
    "# Call the function to reverse the word order and print the result\n",
    "reversed_string = reverse_word_order(user_input)\n",
    "print(\"Reversed word order:\", reversed_string)\n"
   ]
  },
  {
   "cell_type": "markdown",
   "id": "bd63f28c-dfdc-4e5d-af78-c81d16d9889e",
   "metadata": {},
   "source": [
    "q.23"
   ]
  },
  {
   "cell_type": "code",
   "execution_count": 24,
   "id": "b1b245aa-75ef-4660-b8aa-809601e2c0a6",
   "metadata": {},
   "outputs": [
    {
     "name": "stdout",
     "output_type": "stream",
     "text": [
      "True\n",
      "False\n",
      "True\n",
      "False\n"
     ]
    }
   ],
   "source": [
    "import re\n",
    "\n",
    "def is_alphanumeric(input_string):\n",
    "    pattern = re.compile(\"^[a-zA-Z0-9]+$\")\n",
    "    return bool(pattern.match(input_string))\n",
    "\n",
    "# Test cases\n",
    "print(is_alphanumeric(\"Hello123\"))  # True\n",
    "print(is_alphanumeric(\"Hello 123\"))  # False (contains a space)\n",
    "print(is_alphanumeric(\"123456\"))    # True\n",
    "print(is_alphanumeric(\"Hello!\"))    # False (contains a special character)\n"
   ]
  },
  {
   "cell_type": "markdown",
   "id": "ae694c75-6b66-427f-89c0-68518b11a0d2",
   "metadata": {},
   "source": [
    "q.24"
   ]
  },
  {
   "cell_type": "code",
   "execution_count": 25,
   "id": "e49b02f0-3733-40ea-9a0d-ba7980bf7df7",
   "metadata": {},
   "outputs": [
    {
     "name": "stdout",
     "output_type": "stream",
     "text": [
      "['3', '25']\n"
     ]
    }
   ],
   "source": [
    "import re\n",
    "\n",
    "def extract_digits(input_string):\n",
    "    pattern = re.compile(r\"\\d+\")\n",
    "    return pattern.findall(input_string)\n",
    "\n",
    "# Test case\n",
    "string_with_digits = \"I have 3 apples and 25 bananas.\"\n",
    "digits = extract_digits(string_with_digits)\n",
    "print(digits)  # Output: ['3', '25']\n"
   ]
  },
  {
   "cell_type": "markdown",
   "id": "42e49b2c-fcad-4855-9605-da98243ab8a6",
   "metadata": {},
   "source": [
    "q.25"
   ]
  },
  {
   "cell_type": "code",
   "execution_count": 26,
   "id": "4ad15da8-9791-4b31-96e3-abdef2b6b495",
   "metadata": {},
   "outputs": [
    {
     "name": "stdout",
     "output_type": "stream",
     "text": [
      "['There', 'are', 'cats', 'and', 'dogs']\n"
     ]
    }
   ],
   "source": [
    "import re\n",
    "\n",
    "def extract_alphabets(input_string):\n",
    "    pattern = re.compile(r\"[a-zA-Z]+\")\n",
    "    return pattern.findall(input_string)\n",
    "\n",
    "# Test case\n",
    "string_with_alphabets = \"There are 5 cats and 2 dogs.\"\n",
    "alphabets = extract_alphabets(string_with_alphabets)\n",
    "print(alphabets)  # Output: ['There', 'are', 'cats', 'and', 'dogs']\n"
   ]
  },
  {
   "cell_type": "markdown",
   "id": "cde3e2af-749f-4b8f-932b-6156ae82d0b8",
   "metadata": {},
   "source": [
    "q.26"
   ]
  },
  {
   "cell_type": "code",
   "execution_count": 1,
   "id": "7aa4d01e-5e94-4099-a804-b48523c7d8ad",
   "metadata": {},
   "outputs": [
    {
     "name": "stdout",
     "output_type": "stream",
     "text": [
      "9\n"
     ]
    }
   ],
   "source": [
    "import re\n",
    "\n",
    "def count_uppercase_letters_regex(input_string):\n",
    "    pattern = re.compile(r\"[A-Z]\")\n",
    "    uppercase_letters = pattern.findall(input_string)\n",
    "    return len(uppercase_letters)\n",
    "\n",
    "# Test case\n",
    "input_string = \"Hello World! HOW ARE You?\"\n",
    "uppercase_count = count_uppercase_letters_regex(input_string)\n",
    "print(uppercase_count)  # Output: 9\n"
   ]
  },
  {
   "cell_type": "markdown",
   "id": "7409c595-ee1e-4146-ad75-15058ebbc683",
   "metadata": {},
   "source": [
    "q.27"
   ]
  },
  {
   "cell_type": "code",
   "execution_count": 2,
   "id": "c6781d7f-47bb-44ed-81b2-1175009e32e0",
   "metadata": {},
   "outputs": [
    {
     "name": "stdout",
     "output_type": "stream",
     "text": [
      "10\n"
     ]
    }
   ],
   "source": [
    "import re\n",
    "\n",
    "def count_lowercase_letters_regex(input_string):\n",
    "    pattern = re.compile(r\"[a-z]\")\n",
    "    lowercase_letters = pattern.findall(input_string)\n",
    "    return len(lowercase_letters)\n",
    "\n",
    "# Test case\n",
    "input_string = \"Hello World! HOW ARE You?\"\n",
    "lowercase_count = count_lowercase_letters_regex(input_string)\n",
    "print(lowercase_count)  # Output: 13\n"
   ]
  },
  {
   "cell_type": "markdown",
   "id": "f664b882-0a12-4ee6-a222-43f733b5a309",
   "metadata": {},
   "source": [
    "q.28"
   ]
  },
  {
   "cell_type": "code",
   "execution_count": 3,
   "id": "925e0d1c-1f82-4ac9-a0fd-9ae98cedf851",
   "metadata": {},
   "outputs": [
    {
     "name": "stdout",
     "output_type": "stream",
     "text": [
      "hELLO wORLD! how are yOU?\n"
     ]
    }
   ],
   "source": [
    "def swap_case(input_string):\n",
    "    swapped_string = \"\"\n",
    "    for char in input_string:\n",
    "        if char.islower():\n",
    "            swapped_string += char.upper()\n",
    "        elif char.isupper():\n",
    "            swapped_string += char.lower()\n",
    "        else:\n",
    "            swapped_string += char\n",
    "    return swapped_string\n",
    "\n",
    "# Test case\n",
    "input_string = \"Hello World! HOW ARE You?\"\n",
    "swapped_result = swap_case(input_string)\n",
    "print(swapped_result)  # Output: hELLO wORLD! how are yOU?\n"
   ]
  },
  {
   "cell_type": "code",
   "execution_count": 4,
   "id": "ce98c708-6ebc-40d6-a7a0-070d659a5448",
   "metadata": {},
   "outputs": [
    {
     "name": "stdout",
     "output_type": "stream",
     "text": [
      "hELLO wORLD! how are yOU?\n"
     ]
    }
   ],
   "source": [
    "input_string = \"Hello World! HOW ARE You?\"\n",
    "swapped_result = input_string.swapcase()\n",
    "print(swapped_result)  # Output: hELLO wORLD! how are yOU?\n"
   ]
  },
  {
   "cell_type": "markdown",
   "id": "a14d20e3-9f2a-4ee1-b87b-3e943d847250",
   "metadata": {},
   "source": [
    "q.29"
   ]
  },
  {
   "cell_type": "code",
   "execution_count": 5,
   "id": "bb1784ee-0bc5-4fd1-8858-4dca7b384311",
   "metadata": {},
   "outputs": [
    {
     "name": "stdout",
     "output_type": "stream",
     "text": [
      " is an example sentence.  word should be removed.\n"
     ]
    }
   ],
   "source": [
    "def remove_word(input_string, word_to_remove):\n",
    "    return input_string.replace(word_to_remove, \"\")\n",
    "\n",
    "# Test case\n",
    "input_string = \"This is an example sentence. This word should be removed.\"\n",
    "word_to_remove = \"This\"\n",
    "result = remove_word(input_string, word_to_remove)\n",
    "print(result)\n"
   ]
  },
  {
   "cell_type": "markdown",
   "id": "9181af44-6d82-49eb-8b1f-9a9c4be4ec70",
   "metadata": {},
   "source": [
    "q.30"
   ]
  },
  {
   "cell_type": "code",
   "execution_count": 6,
   "id": "15ceeaa7-f045-4353-9706-d7c379e85053",
   "metadata": {},
   "outputs": [
    {
     "name": "stdout",
     "output_type": "stream",
     "text": [
      "True\n",
      "False\n",
      "False\n"
     ]
    }
   ],
   "source": [
    "import re\n",
    "\n",
    "def is_valid_email(email):\n",
    "    pattern = re.compile(r'^[a-zA-Z0-9._%+-]+@[a-zA-Z0-9.-]+\\.[a-zA-Z]{2,}$')\n",
    "    return bool(pattern.match(email))\n",
    "\n",
    "# Test cases\n",
    "print(is_valid_email(\"example@email.com\"))  # True\n",
    "print(is_valid_email(\"invalid_email\"))     # False\n",
    "print(is_valid_email(\"name@domain\"))       # False\n"
   ]
  },
  {
   "cell_type": "markdown",
   "id": "cddedf4b-c9a8-40d9-a674-6cda78b48031",
   "metadata": {},
   "source": [
    "q.31"
   ]
  },
  {
   "cell_type": "code",
   "execution_count": 7,
   "id": "ba2dc321-c2b7-4a2e-b1d8-bcbb821b5534",
   "metadata": {},
   "outputs": [
    {
     "name": "stdout",
     "output_type": "stream",
     "text": [
      "example\n",
      "None\n"
     ]
    }
   ],
   "source": [
    "def extract_username(email):\n",
    "    parts = email.split(\"@\")\n",
    "    if len(parts) == 2:\n",
    "        return parts[0]\n",
    "    else:\n",
    "        return None\n",
    "\n",
    "# Test cases\n",
    "email_address = \"example@email.com\"\n",
    "username = extract_username(email_address)\n",
    "print(username)  # Output: \"example\"\n",
    "\n",
    "invalid_email = \"invalid_email\"\n",
    "invalid_username = extract_username(invalid_email)\n",
    "print(invalid_username)  # Output: None\n"
   ]
  },
  {
   "cell_type": "markdown",
   "id": "4f8d5f06-3275-406b-a401-3f8f496ea212",
   "metadata": {},
   "source": [
    "q.32"
   ]
  },
  {
   "cell_type": "code",
   "execution_count": 8,
   "id": "2a00319d-aa96-4235-aa5a-1b438c2faf7f",
   "metadata": {},
   "outputs": [
    {
     "name": "stdout",
     "output_type": "stream",
     "text": [
      "email.com\n",
      "None\n"
     ]
    }
   ],
   "source": [
    "def extract_domain(email):\n",
    "    parts = email.split(\"@\")\n",
    "    if len(parts) == 2:\n",
    "        return parts[1]\n",
    "    else:\n",
    "        return None\n",
    "\n",
    "# Test cases\n",
    "email_address = \"example@email.com\"\n",
    "domain = extract_domain(email_address)\n",
    "print(domain)  # Output: \"email.com\"\n",
    "\n",
    "invalid_email = \"invalid_email\"\n",
    "invalid_domain = extract_domain(invalid_email)\n",
    "print(invalid_domain)  # Output: None\n"
   ]
  },
  {
   "cell_type": "markdown",
   "id": "239e7fa1-1c25-4d7d-99e3-2760ce65c3db",
   "metadata": {},
   "source": [
    "q.33"
   ]
  },
  {
   "cell_type": "code",
   "execution_count": 9,
   "id": "a9a26fec-434b-4f27-949b-e5714dabbcd3",
   "metadata": {},
   "outputs": [
    {
     "name": "stdout",
     "output_type": "stream",
     "text": [
      "This is an example string with extra spaces.\n"
     ]
    }
   ],
   "source": [
    "import re\n",
    "\n",
    "def replace_multiple_spaces(input_string):\n",
    "    pattern = re.compile(r'\\s+')\n",
    "    return pattern.sub(' ', input_string)\n",
    "\n",
    "# Test case\n",
    "input_string = \"This    is   an example     string with    extra spaces.\"\n",
    "result = replace_multiple_spaces(input_string)\n",
    "print(result)\n"
   ]
  },
  {
   "cell_type": "code",
   "execution_count": 10,
   "id": "794c997c-2218-44d0-bc62-1fcd036dd1de",
   "metadata": {},
   "outputs": [
    {
     "name": "stdout",
     "output_type": "stream",
     "text": [
      "This is an example string with extra spaces.\n"
     ]
    }
   ],
   "source": [
    "import re\n",
    "\n",
    "def replace_multiple_spaces_only_spaces(input_string):\n",
    "    pattern = re.compile(r' +')\n",
    "    return pattern.sub(' ', input_string)\n",
    "\n",
    "# Test case\n",
    "input_string = \"This    is   an example     string with    extra spaces.\"\n",
    "result = replace_multiple_spaces_only_spaces(input_string)\n",
    "print(result)\n"
   ]
  },
  {
   "cell_type": "markdown",
   "id": "f1c7b008-43eb-4408-aa9d-86788034b439",
   "metadata": {},
   "source": [
    "q.34"
   ]
  },
  {
   "cell_type": "code",
   "execution_count": 11,
   "id": "da9b169e-5044-4fcf-be0e-ba5f480d91dd",
   "metadata": {},
   "outputs": [
    {
     "name": "stdout",
     "output_type": "stream",
     "text": [
      "True\n",
      "False\n",
      "True\n",
      "True\n"
     ]
    }
   ],
   "source": [
    "from urllib.parse import urlparse\n",
    "\n",
    "def is_valid_url(url):\n",
    "    try:\n",
    "        result = urlparse(url)\n",
    "        return all([result.scheme, result.netloc])\n",
    "    except:\n",
    "        return False\n",
    "\n",
    "# Test cases\n",
    "url1 = \"https://www.example.com\"\n",
    "url2 = \"invalid_url\"\n",
    "url3 = \"ftp://files.example.com\"\n",
    "url4 = \"http://localhost:8080\"\n",
    "print(is_valid_url(url1))  # True\n",
    "print(is_valid_url(url2))  # False\n",
    "print(is_valid_url(url3))  # True\n",
    "print(is_valid_url(url4))  # True\n"
   ]
  },
  {
   "cell_type": "markdown",
   "id": "dcd1fa74-20bd-47d3-90b4-a4d07d527c0f",
   "metadata": {},
   "source": [
    "q.35"
   ]
  },
  {
   "cell_type": "code",
   "execution_count": 12,
   "id": "49612ab7-6c68-4c55-9498-9ff110098ad7",
   "metadata": {},
   "outputs": [
    {
     "name": "stdout",
     "output_type": "stream",
     "text": [
      "https\n",
      "None\n",
      "None\n"
     ]
    }
   ],
   "source": [
    "from urllib.parse import urlparse\n",
    "\n",
    "def extract_protocol(url):\n",
    "    result = urlparse(url)\n",
    "    return result.scheme if result.scheme in [\"http\", \"https\"] else None\n",
    "\n",
    "# Test cases\n",
    "url1 = \"https://www.example.com\"\n",
    "url2 = \"ftp://files.example.com\"\n",
    "url3 = \"invalid_url\"\n",
    "print(extract_protocol(url1))  # Output: \"https\"\n",
    "print(extract_protocol(url2))  # Output: None\n",
    "print(extract_protocol(url3))  # Output: None\n"
   ]
  },
  {
   "cell_type": "markdown",
   "id": "4eb93f82-90b9-4c44-9eb6-5edd61802255",
   "metadata": {},
   "source": [
    "q.36"
   ]
  },
  {
   "cell_type": "code",
   "execution_count": 13,
   "id": "9f52b21b-6ece-41af-ba31-a0455ed2bfc1",
   "metadata": {},
   "outputs": [
    {
     "name": "stdout",
     "output_type": "stream",
     "text": [
      "{'h': 1, 'e': 1, 'l': 3, 'o': 2, ' ': 1, 'w': 1, 'r': 1, 'd': 1}\n"
     ]
    }
   ],
   "source": [
    "def character_frequency(input_string):\n",
    "    frequency = {}\n",
    "    for char in input_string:\n",
    "        if char in frequency:\n",
    "            frequency[char] += 1\n",
    "        else:\n",
    "            frequency[char] = 1\n",
    "    return frequency\n",
    "\n",
    "# Test case\n",
    "input_string = \"hello world\"\n",
    "freq_dict = character_frequency(input_string)\n",
    "print(freq_dict)\n"
   ]
  },
  {
   "cell_type": "markdown",
   "id": "c4a9f74e-849c-404f-8423-a20275ac3eff",
   "metadata": {},
   "source": [
    "q.37"
   ]
  },
  {
   "cell_type": "code",
   "execution_count": 14,
   "id": "0e335306-5c9a-46ff-bffe-dc50bc43c0cc",
   "metadata": {},
   "outputs": [
    {
     "name": "stdout",
     "output_type": "stream",
     "text": [
      "Hello world How are you\n"
     ]
    }
   ],
   "source": [
    "import string\n",
    "\n",
    "def remove_punctuation(input_string):\n",
    "    translator = str.maketrans(\"\", \"\", string.punctuation)\n",
    "    return input_string.translate(translator)\n",
    "\n",
    "# Test case\n",
    "input_string = \"Hello, world! How are you?\"\n",
    "result = remove_punctuation(input_string)\n",
    "print(result)  # Output: \"Hello world How are you\"\n"
   ]
  },
  {
   "cell_type": "markdown",
   "id": "5aeeaad7-38e4-4abd-9daf-822d535bedbb",
   "metadata": {},
   "source": [
    "q.38"
   ]
  },
  {
   "cell_type": "code",
   "execution_count": 15,
   "id": "1e8bca5a-7ec2-4650-83aa-bbc56dbcee5b",
   "metadata": {},
   "outputs": [
    {
     "name": "stdout",
     "output_type": "stream",
     "text": [
      "True\n",
      "False\n",
      "False\n"
     ]
    }
   ],
   "source": [
    "def contains_only_digits(input_string):\n",
    "    return input_string.isdigit()\n",
    "\n",
    "# Test cases\n",
    "string1 = \"12345\"\n",
    "string2 = \"123abc\"\n",
    "string3 = \"   456  \"\n",
    "print(contains_only_digits(string1))  # True\n",
    "print(contains_only_digits(string2))  # False\n",
    "print(contains_only_digits(string3))  # False\n"
   ]
  },
  {
   "cell_type": "markdown",
   "id": "85447442-2176-4b63-b0cb-5fea82098300",
   "metadata": {},
   "source": [
    "q.39"
   ]
  },
  {
   "cell_type": "code",
   "execution_count": 16,
   "id": "1e61d50d-bd93-42a5-a8b0-c5360ec7c28c",
   "metadata": {},
   "outputs": [
    {
     "name": "stdout",
     "output_type": "stream",
     "text": [
      "True\n",
      "False\n",
      "False\n"
     ]
    }
   ],
   "source": [
    "def contains_only_alphabets(input_string):\n",
    "    return input_string.isalpha()\n",
    "\n",
    "# Test cases\n",
    "string1 = \"Hello\"\n",
    "string2 = \"Hello123\"\n",
    "string3 = \"123\"\n",
    "print(contains_only_alphabets(string1))  # True\n",
    "print(contains_only_alphabets(string2))  # False\n",
    "print(contains_only_alphabets(string3))  # False\n"
   ]
  },
  {
   "cell_type": "markdown",
   "id": "b0387bf8-c620-48f7-b0ca-80c28e720164",
   "metadata": {},
   "source": [
    "q.40"
   ]
  },
  {
   "cell_type": "code",
   "execution_count": 17,
   "id": "83904bc4-c588-46a6-88c6-b94859b8283a",
   "metadata": {},
   "outputs": [
    {
     "name": "stdout",
     "output_type": "stream",
     "text": [
      "['H', 'e', 'l', 'l', 'o', ',', ' ', 'W', 'o', 'r', 'l', 'd', '!']\n"
     ]
    }
   ],
   "source": [
    "def string_to_list_iteration(input_string):\n",
    "    char_list = []\n",
    "    for char in input_string:\n",
    "        char_list.append(char)\n",
    "    return char_list\n",
    "\n",
    "# Test case\n",
    "input_string = \"Hello, World!\"\n",
    "char_list = string_to_list_iteration(input_string)\n",
    "print(char_list)  # Output: ['H', 'e', 'l', 'l', 'o', ',', ' ', 'W', 'o', 'r', 'l', 'd', '!']\n"
   ]
  },
  {
   "cell_type": "code",
   "execution_count": 18,
   "id": "25353cb0-8e9d-4269-b0a8-4f4b0f3a4560",
   "metadata": {},
   "outputs": [
    {
     "name": "stdout",
     "output_type": "stream",
     "text": [
      "['H', 'e', 'l', 'l', 'o', ',', ' ', 'W', 'o', 'r', 'l', 'd', '!']\n"
     ]
    }
   ],
   "source": [
    "def string_to_list_builtin(input_string):\n",
    "    return list(input_string)\n",
    "\n",
    "# Test case\n",
    "input_string = \"Hello, World!\"\n",
    "char_list = string_to_list_builtin(input_string)\n",
    "print(char_list)  # Output: ['H', 'e', 'l', 'l', 'o', ',', ' ', 'W', 'o', 'r', 'l', 'd', '!']\n"
   ]
  },
  {
   "cell_type": "markdown",
   "id": "bd19b74d-9957-42dd-a4c8-61e1aff25d8f",
   "metadata": {},
   "source": [
    "q.41"
   ]
  },
  {
   "cell_type": "code",
   "execution_count": 19,
   "id": "129a11ee-9ab8-43d3-ba78-fba383b611aa",
   "metadata": {},
   "outputs": [
    {
     "name": "stdout",
     "output_type": "stream",
     "text": [
      "True\n",
      "False\n"
     ]
    }
   ],
   "source": [
    "def are_anagrams(str1, str2):\n",
    "    # Remove spaces and convert to lowercase to make the comparison case-insensitive\n",
    "    str1 = str1.replace(\" \", \"\").lower()\n",
    "    str2 = str2.replace(\" \", \"\").lower()\n",
    "\n",
    "    # Check if the sorted characters of both strings are the same\n",
    "    return sorted(str1) == sorted(str2)\n",
    "\n",
    "# Test cases\n",
    "string1 = \"listen\"\n",
    "string2 = \"silent\"\n",
    "string3 = \"hello\"\n",
    "print(are_anagrams(string1, string2))  # True\n",
    "print(are_anagrams(string1, string3))  # False\n"
   ]
  },
  {
   "cell_type": "markdown",
   "id": "e3a2b160-64e0-4407-818d-887581bc4f11",
   "metadata": {},
   "source": [
    "q.42"
   ]
  },
  {
   "cell_type": "code",
   "execution_count": 20,
   "id": "000387c5-10e7-4e20-8540-651882c18dcc",
   "metadata": {},
   "outputs": [
    {
     "name": "stdout",
     "output_type": "stream",
     "text": [
      "Khoor, Zruog!\n"
     ]
    }
   ],
   "source": [
    "def caesar_cipher_encrypt(text, shift):\n",
    "    encrypted_text = \"\"\n",
    "\n",
    "    for char in text:\n",
    "        if char.isalpha():\n",
    "            shifted_char = chr(((ord(char.lower()) - ord('a') + shift) % 26) + ord('a'))\n",
    "            if char.isupper():\n",
    "                shifted_char = shifted_char.upper()\n",
    "            encrypted_text += shifted_char\n",
    "        else:\n",
    "            encrypted_text += char\n",
    "\n",
    "    return encrypted_text\n",
    "\n",
    "# Test case\n",
    "plaintext = \"Hello, World!\"\n",
    "shift = 3\n",
    "encrypted_text = caesar_cipher_encrypt(plaintext, shift)\n",
    "print(encrypted_text)  # Output: \"Khoor, Zruog!\"\n"
   ]
  },
  {
   "cell_type": "markdown",
   "id": "576bab31-c76e-427e-a756-ece5cb8f9c53",
   "metadata": {},
   "source": [
    "q.43"
   ]
  },
  {
   "cell_type": "code",
   "execution_count": 21,
   "id": "c859ecc3-6880-4d75-be6c-0c4de2f05b70",
   "metadata": {},
   "outputs": [
    {
     "name": "stdout",
     "output_type": "stream",
     "text": [
      "Hello, World!\n"
     ]
    }
   ],
   "source": [
    "def caesar_cipher_decrypt(encrypted_text, shift):\n",
    "    decrypted_text = \"\"\n",
    "\n",
    "    for char in encrypted_text:\n",
    "        if char.isalpha():\n",
    "            shifted_char = chr(((ord(char.lower()) - ord('a') - shift) % 26) + ord('a'))\n",
    "            if char.isupper():\n",
    "                shifted_char = shifted_char.upper()\n",
    "            decrypted_text += shifted_char\n",
    "        else:\n",
    "            decrypted_text += char\n",
    "\n",
    "    return decrypted_text\n",
    "\n",
    "# Test case\n",
    "encrypted_text = \"Khoor, Zruog!\"\n",
    "shift = 3\n",
    "decrypted_text = caesar_cipher_decrypt(encrypted_text, shift)\n",
    "print(decrypted_text)  # Output: \"Hello, World!\"\n"
   ]
  },
  {
   "cell_type": "markdown",
   "id": "eb378e96-6d7f-4e5c-9d90-f40812d7b734",
   "metadata": {},
   "source": [
    "q.44"
   ]
  },
  {
   "cell_type": "code",
   "execution_count": 22,
   "id": "ef7b26cb-db23-430e-a580-f1bc0d8ae787",
   "metadata": {},
   "outputs": [
    {
     "name": "stdout",
     "output_type": "stream",
     "text": [
      "this\n"
     ]
    }
   ],
   "source": [
    "def most_frequent_word(input_string):\n",
    "    words = input_string.split()  # Tokenize into words\n",
    "    word_count = {}\n",
    "    \n",
    "    for word in words:\n",
    "        # Remove punctuation and convert to lowercase for case-insensitive comparison\n",
    "        cleaned_word = word.strip('.,!?').lower()\n",
    "        if cleaned_word in word_count:\n",
    "            word_count[cleaned_word] += 1\n",
    "        else:\n",
    "            word_count[cleaned_word] = 1\n",
    "    \n",
    "    most_common_word = max(word_count, key=word_count.get, default=None)\n",
    "    return most_common_word\n",
    "\n",
    "# Test case\n",
    "input_string = \"This is a test. This test is just an example.\"\n",
    "most_frequent = most_frequent_word(input_string)\n",
    "print(most_frequent)  # Output: \"this\"\n"
   ]
  },
  {
   "cell_type": "markdown",
   "id": "2f76f1c9-6804-41f1-b424-ffa7c9f8f4f1",
   "metadata": {},
   "source": [
    "q.45"
   ]
  },
  {
   "cell_type": "code",
   "execution_count": 23,
   "id": "586ba9e3-bef1-44d4-83da-db4c52361630",
   "metadata": {},
   "outputs": [
    {
     "name": "stdout",
     "output_type": "stream",
     "text": [
      "{'is', 'test', 'example', 'this', 'an', 'a', 'just'}\n"
     ]
    }
   ],
   "source": [
    "import re\n",
    "\n",
    "def unique_words(input_string):\n",
    "    words = re.findall(r'\\b\\w+\\b', input_string.lower())  # Tokenize into words\n",
    "    unique_word_set = set(words)  # Create a set of unique words\n",
    "    return unique_word_set\n",
    "\n",
    "# Test case\n",
    "input_string = \"This is a test. This test is just an example.\"\n",
    "unique_words_set = unique_words(input_string)\n",
    "print(unique_words_set)\n"
   ]
  },
  {
   "cell_type": "markdown",
   "id": "b4b1694b-5c3c-45b4-bbb9-00a7a5530ca5",
   "metadata": {},
   "source": [
    "q.46"
   ]
  },
  {
   "cell_type": "code",
   "execution_count": 24,
   "id": "edacb4fe-af1b-4e25-a364-e339315100a4",
   "metadata": {},
   "outputs": [
    {
     "name": "stdout",
     "output_type": "stream",
     "text": [
      "7\n"
     ]
    }
   ],
   "source": [
    "def count_syllables(word):\n",
    "    vowels = \"aeiouAEIOU\"\n",
    "    count = 0\n",
    "    prev_char_vowel = False\n",
    "\n",
    "    for char in word:\n",
    "        if char in vowels:\n",
    "            if not prev_char_vowel:\n",
    "                count += 1\n",
    "            prev_char_vowel = True\n",
    "        else:\n",
    "            prev_char_vowel = False\n",
    "\n",
    "    # Adjust for silent 'e' at the end\n",
    "    if word.endswith('e') and count > 1:\n",
    "        count -= 1\n",
    "\n",
    "    return max(count, 1)  # Ensure at least one syllable\n",
    "\n",
    "def total_syllables(input_string):\n",
    "    words = input_string.split()\n",
    "    total = sum(count_syllables(word) for word in words)\n",
    "    return total\n",
    "\n",
    "# Test case\n",
    "input_string = \"This is a test sentence.\"\n",
    "syllable_count = total_syllables(input_string)\n",
    "print(syllable_count)  # Output: 7\n"
   ]
  },
  {
   "cell_type": "markdown",
   "id": "72ade729-c83d-4127-847a-4d2fb0b22ad3",
   "metadata": {},
   "source": [
    "q.47"
   ]
  },
  {
   "cell_type": "code",
   "execution_count": 25,
   "id": "58875dae-4133-4194-80ef-c203cee464f7",
   "metadata": {},
   "outputs": [
    {
     "name": "stdout",
     "output_type": "stream",
     "text": [
      "True\n",
      "False\n",
      "True\n"
     ]
    }
   ],
   "source": [
    "import re\n",
    "\n",
    "def contains_special_characters(input_string):\n",
    "    pattern = re.compile(r'[!@#$%^&*()_+{}\\[\\]:;<>,.?\\'\\\"\\\\|\\/\\-]')\n",
    "    return bool(pattern.search(input_string))\n",
    "\n",
    "# Test cases\n",
    "string1 = \"Hello World!\"\n",
    "string2 = \"Hello123\"\n",
    "string3 = \"Hello@123\"\n",
    "print(contains_special_characters(string1))  # True\n",
    "print(contains_special_characters(string2))  # False\n",
    "print(contains_special_characters(string3))  # True\n"
   ]
  },
  {
   "cell_type": "markdown",
   "id": "ef76edf2-3ec8-443b-9982-39e09e6c8b21",
   "metadata": {},
   "source": [
    "q.48"
   ]
  },
  {
   "cell_type": "code",
   "execution_count": 26,
   "id": "062153cf-babe-4cd8-b575-4d8b89dd1201",
   "metadata": {},
   "outputs": [
    {
     "name": "stdout",
     "output_type": "stream",
     "text": [
      "This is example sentence.\n"
     ]
    }
   ],
   "source": [
    "def remove_nth_word(input_string, n):\n",
    "    words = input_string.split()\n",
    "    \n",
    "    if n >= 1 and n <= len(words):\n",
    "        del words[n - 1]  # Subtract 1 to convert to zero-based index\n",
    "        return ' '.join(words)\n",
    "    else:\n",
    "        return input_string\n",
    "\n",
    "# Test case\n",
    "input_string = \"This is an example sentence.\"\n",
    "n = 3\n",
    "result = remove_nth_word(input_string, n)\n",
    "print(result)  # Output: \"This is example sentence.\"\n"
   ]
  },
  {
   "cell_type": "markdown",
   "id": "22a16716-0bf0-494a-a55b-20b3f6b82c9c",
   "metadata": {},
   "source": [
    "q.49"
   ]
  },
  {
   "cell_type": "code",
   "execution_count": 27,
   "id": "b6398fbe-80b8-4f61-b9ba-2489cf5335b1",
   "metadata": {},
   "outputs": [
    {
     "name": "stdout",
     "output_type": "stream",
     "text": [
      "This is an new example sentence.\n"
     ]
    }
   ],
   "source": [
    "def insert_word_at_nth_position(input_string, word, n):\n",
    "    words = input_string.split()\n",
    "    \n",
    "    if n >= 0 and n <= len(words):\n",
    "        words.insert(n, word)\n",
    "        return ' '.join(words)\n",
    "    else:\n",
    "        return input_string\n",
    "\n",
    "# Test case\n",
    "input_string = \"This is an example sentence.\"\n",
    "word_to_insert = \"new\"\n",
    "n = 3\n",
    "result = insert_word_at_nth_position(input_string, word_to_insert, n)\n",
    "print(result)  # Output: \"This is an new example sentence.\"\n"
   ]
  },
  {
   "cell_type": "markdown",
   "id": "45595fc0-9981-477c-bf35-868a6c1c53aa",
   "metadata": {},
   "source": [
    "q.50"
   ]
  },
  {
   "cell_type": "code",
   "execution_count": 28,
   "id": "7a8b927a-be48-45f0-9553-a2983f2c3273",
   "metadata": {},
   "outputs": [
    {
     "name": "stdout",
     "output_type": "stream",
     "text": [
      "[['1', 'John', 'Doe'], ['2', 'Jane', 'Smith'], ['3', 'James', 'Brown']]\n"
     ]
    }
   ],
   "source": [
    "import csv\n",
    "from io import StringIO\n",
    "\n",
    "def csv_string_to_list(csv_string):\n",
    "    csv_list = []\n",
    "    csv_reader = csv.reader(StringIO(csv_string))\n",
    "    \n",
    "    for row in csv_reader:\n",
    "        csv_list.append(row)\n",
    "    \n",
    "    return csv_list\n",
    "\n",
    "# Test case\n",
    "csv_string = \"1,John,Doe\\n2,Jane,Smith\\n3,James,Brown\"\n",
    "csv_list = csv_string_to_list(csv_string)\n",
    "print(csv_list)\n"
   ]
  },
  {
   "cell_type": "markdown",
   "id": "d1078642-2309-47a2-9b43-2904d72582dc",
   "metadata": {},
   "source": [
    "using string splitting"
   ]
  },
  {
   "cell_type": "code",
   "execution_count": 29,
   "id": "8c3ae0fc-be79-4c22-b77e-d2e4e1405e7c",
   "metadata": {},
   "outputs": [
    {
     "name": "stdout",
     "output_type": "stream",
     "text": [
      "[['1', 'John', 'Doe'], ['2', 'Jane', 'Smith'], ['3', 'James', 'Brown']]\n"
     ]
    }
   ],
   "source": [
    "def csv_string_to_list_split(csv_string):\n",
    "    csv_list = []\n",
    "    lines = csv_string.strip().split('\\n')\n",
    "    \n",
    "    for line in lines:\n",
    "        values = line.split(',')\n",
    "        csv_list.append(values)\n",
    "    \n",
    "    return csv_list\n",
    "\n",
    "# Test case\n",
    "csv_string = \"1,John,Doe\\n2,Jane,Smith\\n3,James,Brown\"\n",
    "csv_list = csv_string_to_list_split(csv_string)\n",
    "print(csv_list)\n"
   ]
  },
  {
   "cell_type": "markdown",
   "id": "26b0dc72-5bbe-4246-8867-ffeeea8b29b1",
   "metadata": {},
   "source": [
    "List based practice problem\n",
    "\n",
    "q.1  Create a list with integers from 1 to 10."
   ]
  },
  {
   "cell_type": "code",
   "execution_count": 1,
   "id": "e44d42eb-e9ff-4951-806f-a39515e75969",
   "metadata": {},
   "outputs": [
    {
     "name": "stdout",
     "output_type": "stream",
     "text": [
      "[1, 2, 3, 4, 5, 6, 7, 8, 9, 10]\n"
     ]
    }
   ],
   "source": [
    "# Create a list of integers from 1 to 10\n",
    "integer_list = list(range(1, 11))\n",
    "\n",
    "# Print the list\n",
    "print(integer_list)\n"
   ]
  },
  {
   "cell_type": "markdown",
   "id": "18bf6b69-eb59-4e90-8726-b80457421db2",
   "metadata": {},
   "source": [
    "q.2  Find the length of a list without using the `len()` function."
   ]
  },
  {
   "cell_type": "code",
   "execution_count": 2,
   "id": "d2a1e643-5ac6-412d-b477-0f19dc1cba58",
   "metadata": {},
   "outputs": [
    {
     "name": "stdout",
     "output_type": "stream",
     "text": [
      "Length of the list: 10\n"
     ]
    }
   ],
   "source": [
    "# Create a list\n",
    "my_list = [1, 2, 3, 4, 5, 6, 7, 8, 9, 10]\n",
    "\n",
    "# Initialize a counter\n",
    "length = 0\n",
    "\n",
    "# Iterate through the list and increment the counter for each element\n",
    "for _ in my_list:\n",
    "    length += 1\n",
    "\n",
    "# Print the length of the list\n",
    "print(\"Length of the list:\", length)\n"
   ]
  },
  {
   "cell_type": "markdown",
   "id": "3c48c222-4f63-4e2c-88e5-e6bd4ce71de1",
   "metadata": {},
   "source": [
    "q.3 Append an element to the end of a list."
   ]
  },
  {
   "cell_type": "code",
   "execution_count": 3,
   "id": "91a3e43a-7e9b-42ad-90ab-8ed03850d0c3",
   "metadata": {},
   "outputs": [
    {
     "name": "stdout",
     "output_type": "stream",
     "text": [
      "[1, 2, 3, 4, 5, 6]\n"
     ]
    }
   ],
   "source": [
    "# Create a list\n",
    "my_list = [1, 2, 3, 4, 5]\n",
    "\n",
    "# Append an element to the end of the list\n",
    "my_list.append(6)\n",
    "\n",
    "# Print the updated list\n",
    "print(my_list)\n"
   ]
  },
  {
   "cell_type": "markdown",
   "id": "029a8183-5c66-4341-8b6c-a4f46227b5ea",
   "metadata": {},
   "source": [
    "q.4 Insert an element at a specific index in a list."
   ]
  },
  {
   "cell_type": "code",
   "execution_count": 4,
   "id": "d1d1b4ca-f403-47f1-a5c4-d338a228ae34",
   "metadata": {},
   "outputs": [
    {
     "name": "stdout",
     "output_type": "stream",
     "text": [
      "[1, 2, 10, 3, 4, 5]\n"
     ]
    }
   ],
   "source": [
    "# Create a list\n",
    "my_list = [1, 2, 3, 4, 5]\n",
    "\n",
    "# Insert an element (e.g., 10) at index 2\n",
    "my_list.insert(2, 10)\n",
    "\n",
    "# Print the updated list\n",
    "print(my_list)\n"
   ]
  },
  {
   "cell_type": "markdown",
   "id": "26bb547d-5ed5-4f1e-b7b9-e0dee4728874",
   "metadata": {},
   "source": [
    "q.5 Remove an element from a list by its value."
   ]
  },
  {
   "cell_type": "code",
   "execution_count": 5,
   "id": "82a1cca8-090e-4c3c-b5fc-3c0965a7c336",
   "metadata": {},
   "outputs": [
    {
     "name": "stdout",
     "output_type": "stream",
     "text": [
      "[1, 2, 4, 5]\n"
     ]
    }
   ],
   "source": [
    "# Create a list\n",
    "my_list = [1, 2, 3, 4, 5]\n",
    "\n",
    "# Remove an element (e.g., 3) from the list\n",
    "my_list.remove(3)\n",
    "\n",
    "# Print the updated list\n",
    "print(my_list)\n"
   ]
  },
  {
   "cell_type": "markdown",
   "id": "6f6a6a72-bf18-455b-b825-2b6bf9df622f",
   "metadata": {},
   "source": [
    "q.6 Remove an element from a list by its index."
   ]
  },
  {
   "cell_type": "code",
   "execution_count": 6,
   "id": "58b3c75f-c511-47ea-9941-c76fca88f687",
   "metadata": {},
   "outputs": [
    {
     "name": "stdout",
     "output_type": "stream",
     "text": [
      "Updated list: [1, 2, 4, 5]\n",
      "Removed element: 3\n"
     ]
    }
   ],
   "source": [
    "# Create a list\n",
    "my_list = [1, 2, 3, 4, 5]\n",
    "\n",
    "# Remove an element at index 2\n",
    "removed_element = my_list.pop(2)\n",
    "\n",
    "# Print the updated list and the removed element\n",
    "print(\"Updated list:\", my_list)\n",
    "print(\"Removed element:\", removed_element)\n"
   ]
  },
  {
   "cell_type": "markdown",
   "id": "93920a81-eabe-4fd1-8907-05f75063d84f",
   "metadata": {},
   "source": [
    "q.7 Check if an element exists in a list."
   ]
  },
  {
   "cell_type": "code",
   "execution_count": 7,
   "id": "0c651a95-c493-406c-afcd-65a0647efd69",
   "metadata": {},
   "outputs": [
    {
     "name": "stdout",
     "output_type": "stream",
     "text": [
      "3 exists in the list.\n"
     ]
    }
   ],
   "source": [
    "# Create a list\n",
    "my_list = [1, 2, 3, 4, 5]\n",
    "\n",
    "# Check if an element (e.g., 3) exists in the list\n",
    "element_to_check = 3\n",
    "if element_to_check in my_list:\n",
    "    print(f\"{element_to_check} exists in the list.\")\n",
    "else:\n",
    "    print(f\"{element_to_check} does not exist in the list.\")\n"
   ]
  },
  {
   "cell_type": "markdown",
   "id": "2cbb6b38-84e1-4ef6-8e77-8feebd9219a5",
   "metadata": {},
   "source": [
    "q.8 Find the index of the first occurrence of an element in a list."
   ]
  },
  {
   "cell_type": "code",
   "execution_count": 8,
   "id": "8b4e991d-3721-48b4-9c93-5db0c5b681aa",
   "metadata": {},
   "outputs": [
    {
     "name": "stdout",
     "output_type": "stream",
     "text": [
      "The index of 3 is: 2\n"
     ]
    }
   ],
   "source": [
    "# Create a list\n",
    "my_list = [1, 2, 3, 4, 3, 5]\n",
    "\n",
    "# Find the index of the first occurrence of an element (e.g., 3)\n",
    "element_to_find = 3\n",
    "index = my_list.index(element_to_find)\n",
    "\n",
    "print(f\"The index of {element_to_find} is: {index}\")\n"
   ]
  },
  {
   "cell_type": "markdown",
   "id": "9d1286f2-2dfe-4cd6-844c-955370780632",
   "metadata": {},
   "source": [
    "q.9 Count the occurrences of an element in a list."
   ]
  },
  {
   "cell_type": "code",
   "execution_count": 9,
   "id": "34cdb529-86bc-4daf-a304-c300d14bcaba",
   "metadata": {},
   "outputs": [
    {
     "name": "stdout",
     "output_type": "stream",
     "text": [
      "The element 3 appears 3 times in the list.\n"
     ]
    }
   ],
   "source": [
    "# Create a list\n",
    "my_list = [1, 2, 3, 4, 3, 5, 3]\n",
    "\n",
    "# Count the occurrences of an element (e.g., 3)\n",
    "element_to_count = 3\n",
    "count = my_list.count(element_to_count)\n",
    "\n",
    "print(f\"The element {element_to_count} appears {count} times in the list.\")\n"
   ]
  },
  {
   "cell_type": "markdown",
   "id": "2192c9f5-b583-4657-a5e8-27613ec7dc1a",
   "metadata": {},
   "source": [
    "q.10 Reverse the order of elements in a list."
   ]
  },
  {
   "cell_type": "code",
   "execution_count": 10,
   "id": "5c6ec063-7310-4f3a-b5ee-66869cf52e73",
   "metadata": {},
   "outputs": [
    {
     "name": "stdout",
     "output_type": "stream",
     "text": [
      "[5, 4, 3, 2, 1]\n"
     ]
    }
   ],
   "source": [
    "# Create a list\n",
    "my_list = [1, 2, 3, 4, 5]\n",
    "\n",
    "# Reverse the order of elements in the list\n",
    "my_list.reverse()\n",
    "\n",
    "# Print the reversed list\n",
    "print(my_list)\n"
   ]
  },
  {
   "cell_type": "markdown",
   "id": "149d2323-b035-4f0b-bc0a-75df364effdd",
   "metadata": {},
   "source": [
    "q.11 Sort a list in ascending order."
   ]
  },
  {
   "cell_type": "code",
   "execution_count": 11,
   "id": "8f2b1566-0154-44d4-80a5-99b402c1de3e",
   "metadata": {},
   "outputs": [
    {
     "name": "stdout",
     "output_type": "stream",
     "text": [
      "[1, 2, 3, 5, 8]\n"
     ]
    }
   ],
   "source": [
    "# Create a list\n",
    "my_list = [5, 2, 8, 1, 3]\n",
    "\n",
    "# Sort the list in ascending order\n",
    "my_list.sort()\n",
    "\n",
    "# Print the sorted list\n",
    "print(my_list)\n"
   ]
  },
  {
   "cell_type": "markdown",
   "id": "fe18773f-8037-4ba2-8a16-8e6155081cb3",
   "metadata": {},
   "source": [
    "q.12 Sort a list in descending order."
   ]
  },
  {
   "cell_type": "code",
   "execution_count": 12,
   "id": "6b77d52f-5358-4a78-96a6-e6a31b8d5939",
   "metadata": {},
   "outputs": [
    {
     "name": "stdout",
     "output_type": "stream",
     "text": [
      "[8, 5, 3, 2, 1]\n"
     ]
    }
   ],
   "source": [
    "# Create a list\n",
    "my_list = [5, 2, 8, 1, 3]\n",
    "\n",
    "# Sort the list in descending order\n",
    "my_list.sort(reverse=True)\n",
    "\n",
    "# Print the sorted list in descending order\n",
    "print(my_list)\n"
   ]
  },
  {
   "cell_type": "markdown",
   "id": "775a226a-5102-4b5d-b5c5-a5f3946738b4",
   "metadata": {},
   "source": [
    "q.13 Create a list of even numbers from 1 to 20."
   ]
  },
  {
   "cell_type": "code",
   "execution_count": 13,
   "id": "3a0e0889-75b5-42ca-90d9-8159c9f84a94",
   "metadata": {},
   "outputs": [
    {
     "name": "stdout",
     "output_type": "stream",
     "text": [
      "[2, 4, 6, 8, 10, 12, 14, 16, 18, 20]\n"
     ]
    }
   ],
   "source": [
    "# Create a list of even numbers from 1 to 20 using list comprehension\n",
    "even_numbers = [x for x in range(1, 21) if x % 2 == 0]\n",
    "\n",
    "# Print the list of even numbers\n",
    "print(even_numbers)\n"
   ]
  },
  {
   "cell_type": "markdown",
   "id": "df0a883c-d4bf-4b5b-ac5b-40659b144c90",
   "metadata": {},
   "source": [
    "q.14 Create a list of odd numbers from 1 to 20."
   ]
  },
  {
   "cell_type": "code",
   "execution_count": 14,
   "id": "06964695-1285-488c-a3d1-076493fec193",
   "metadata": {},
   "outputs": [
    {
     "name": "stdout",
     "output_type": "stream",
     "text": [
      "[1, 3, 5, 7, 9, 11, 13, 15, 17, 19]\n"
     ]
    }
   ],
   "source": [
    "# Create a list of odd numbers from 1 to 20 using list comprehension\n",
    "odd_numbers = [x for x in range(1, 21) if x % 2 != 0]\n",
    "\n",
    "# Print the list of odd numbers\n",
    "print(odd_numbers)\n"
   ]
  },
  {
   "cell_type": "markdown",
   "id": "c50dba6a-8f99-4ed4-919d-d999ae7eff6d",
   "metadata": {},
   "source": [
    "q.15 Find the sum of all elements in a list."
   ]
  },
  {
   "cell_type": "code",
   "execution_count": 15,
   "id": "e1f3ec8e-65b3-4548-861b-839a207a9ca2",
   "metadata": {},
   "outputs": [
    {
     "name": "stdout",
     "output_type": "stream",
     "text": [
      "Sum of elements: 15\n"
     ]
    }
   ],
   "source": [
    "# Create a list\n",
    "my_list = [1, 2, 3, 4, 5]\n",
    "\n",
    "# Calculate the sum of all elements in the list\n",
    "sum_of_elements = sum(my_list)\n",
    "\n",
    "# Print the sum\n",
    "print(\"Sum of elements:\", sum_of_elements)\n"
   ]
  },
  {
   "cell_type": "markdown",
   "id": "e8ff09d5-5297-4cd0-ae46-c17723539533",
   "metadata": {},
   "source": [
    "q.16 Find the maximum value in a list."
   ]
  },
  {
   "cell_type": "code",
   "execution_count": 16,
   "id": "cfc07670-41a4-4a1e-bd1c-b04027307580",
   "metadata": {},
   "outputs": [
    {
     "name": "stdout",
     "output_type": "stream",
     "text": [
      "Maximum value: 9\n"
     ]
    }
   ],
   "source": [
    "# Create a list\n",
    "my_list = [4, 9, 2, 7, 5]\n",
    "\n",
    "# Find the maximum value in the list\n",
    "max_value = max(my_list)\n",
    "\n",
    "# Print the maximum value\n",
    "print(\"Maximum value:\", max_value)\n"
   ]
  },
  {
   "cell_type": "markdown",
   "id": "82b1453c-1ec6-405b-89c2-b7143e13f768",
   "metadata": {},
   "source": [
    "q.17 Find the minimum value in a list."
   ]
  },
  {
   "cell_type": "code",
   "execution_count": 17,
   "id": "d5823e9e-69c5-4c8d-bf27-b9fbd4e2c031",
   "metadata": {},
   "outputs": [
    {
     "name": "stdout",
     "output_type": "stream",
     "text": [
      "Minimum value: 2\n"
     ]
    }
   ],
   "source": [
    "# Create a list\n",
    "my_list = [4, 9, 2, 7, 5]\n",
    "\n",
    "# Find the minimum value in the list\n",
    "min_value = min(my_list)\n",
    "\n",
    "# Print the minimum value\n",
    "print(\"Minimum value:\", min_value)\n"
   ]
  },
  {
   "cell_type": "markdown",
   "id": "8abd1aa1-2e9a-4e99-a95a-3cb8b46f3d2c",
   "metadata": {},
   "source": [
    "q.18 Create a list of squares of numbers from 1 to 10."
   ]
  },
  {
   "cell_type": "code",
   "execution_count": 18,
   "id": "81da4e04-0ba7-4ad4-a931-3c42a8cb4f3e",
   "metadata": {},
   "outputs": [
    {
     "name": "stdout",
     "output_type": "stream",
     "text": [
      "[1, 4, 9, 16, 25, 36, 49, 64, 81, 100]\n"
     ]
    }
   ],
   "source": [
    "# Create a list of squares of numbers from 1 to 10 using list comprehension\n",
    "squares_list = [x ** 2 for x in range(1, 11)]\n",
    "\n",
    "# Print the list of squares\n",
    "print(squares_list)\n"
   ]
  },
  {
   "cell_type": "markdown",
   "id": "416c39e7-2cfa-4c11-aa0a-e28817453214",
   "metadata": {},
   "source": [
    "q.19 Create a list of random numbers."
   ]
  },
  {
   "cell_type": "code",
   "execution_count": 19,
   "id": "23c42dbc-aa19-425e-b578-e3418a55130c",
   "metadata": {},
   "outputs": [
    {
     "name": "stdout",
     "output_type": "stream",
     "text": [
      "[10, 88, 98, 10, 10, 67, 21, 62, 41, 46]\n"
     ]
    }
   ],
   "source": [
    "import random\n",
    "\n",
    "# Create a list of 10 random numbers between 1 and 100\n",
    "random_numbers = [random.randint(1, 100) for _ in range(10)]\n",
    "\n",
    "# Print the list of random numbers\n",
    "print(random_numbers)\n"
   ]
  },
  {
   "cell_type": "markdown",
   "id": "37b78b81-8b3c-4bae-97c3-c29e142dc810",
   "metadata": {},
   "source": [
    "q.20 Remove duplicates from a list."
   ]
  },
  {
   "cell_type": "code",
   "execution_count": 20,
   "id": "1ab6d7d0-e8c0-48f7-8c28-3b0e09993f0d",
   "metadata": {},
   "outputs": [
    {
     "name": "stdout",
     "output_type": "stream",
     "text": [
      "[2, 4, 6, 8, 10]\n"
     ]
    }
   ],
   "source": [
    "# Create a list with duplicates\n",
    "my_list = [2, 4, 6, 2, 8, 6, 10, 4]\n",
    "\n",
    "# Remove duplicates using the set() function\n",
    "unique_list = list(set(my_list))\n",
    "\n",
    "# Print the list with duplicates removed\n",
    "print(unique_list)\n"
   ]
  },
  {
   "cell_type": "code",
   "execution_count": 21,
   "id": "94dfbff9-a85c-44a2-a19f-ca6dc5a1108f",
   "metadata": {},
   "outputs": [],
   "source": [
    "#Using a loop (maintains the original order of elements):"
   ]
  },
  {
   "cell_type": "code",
   "execution_count": 22,
   "id": "a371bb96-2f3e-44fe-a83c-543b1b5134bd",
   "metadata": {},
   "outputs": [
    {
     "name": "stdout",
     "output_type": "stream",
     "text": [
      "[2, 4, 6, 8, 10]\n"
     ]
    }
   ],
   "source": [
    "# Create a list with duplicates\n",
    "my_list = [2, 4, 6, 2, 8, 6, 10, 4]\n",
    "\n",
    "# Remove duplicates using a loop\n",
    "unique_list = []\n",
    "for item in my_list:\n",
    "    if item not in unique_list:\n",
    "        unique_list.append(item)\n",
    "\n",
    "# Print the list with duplicates removed\n",
    "print(unique_list)\n"
   ]
  },
  {
   "cell_type": "markdown",
   "id": "e8c0f8f5-8912-4612-884c-85d9fa8f5c0f",
   "metadata": {},
   "source": [
    "q.21 Find the common elements between two lists."
   ]
  },
  {
   "cell_type": "code",
   "execution_count": 23,
   "id": "e92f367a-81b5-4264-8834-f5788041ef7a",
   "metadata": {},
   "outputs": [
    {
     "name": "stdout",
     "output_type": "stream",
     "text": [
      "[3, 4, 5]\n"
     ]
    }
   ],
   "source": [
    "# Create two lists\n",
    "list1 = [1, 2, 3, 4, 5]\n",
    "list2 = [3, 4, 5, 6, 7]\n",
    "\n",
    "# Find the common elements using sets\n",
    "common_elements = list(set(list1).intersection(list2))\n",
    "\n",
    "# Print the common elements\n",
    "print(common_elements)\n"
   ]
  },
  {
   "cell_type": "markdown",
   "id": "e758b7b8-1b8b-47ab-a0a2-a4409815b4d0",
   "metadata": {},
   "source": [
    "q.22 Find the difference between two lists."
   ]
  },
  {
   "cell_type": "code",
   "execution_count": 24,
   "id": "c1c57243-9943-4b25-9ad8-aeac70f94068",
   "metadata": {},
   "outputs": [
    {
     "name": "stdout",
     "output_type": "stream",
     "text": [
      "[1, 2]\n"
     ]
    }
   ],
   "source": [
    "# Create two lists\n",
    "list1 = [1, 2, 3, 4, 5]\n",
    "list2 = [3, 4, 5, 6, 7]\n",
    "\n",
    "# Find the difference between the lists using sets\n",
    "difference_list = list(set(list1) - set(list2))\n",
    "\n",
    "# Print the difference list\n",
    "print(difference_list)\n"
   ]
  },
  {
   "cell_type": "markdown",
   "id": "e8964373-3740-4157-9719-f9461bdaa921",
   "metadata": {},
   "source": [
    "q.23 Merge two lists."
   ]
  },
  {
   "cell_type": "code",
   "execution_count": 25,
   "id": "f387b29e-8163-4e82-a2e2-bdb37aedab26",
   "metadata": {},
   "outputs": [
    {
     "name": "stdout",
     "output_type": "stream",
     "text": [
      "[1, 2, 3, 4, 5, 6]\n"
     ]
    }
   ],
   "source": [
    "# Create two lists\n",
    "list1 = [1, 2, 3]\n",
    "list2 = [4, 5, 6]\n",
    "\n",
    "# Merge the two lists\n",
    "merged_list = list1 + list2\n",
    "\n",
    "# Print the merged list\n",
    "print(merged_list)\n"
   ]
  },
  {
   "cell_type": "markdown",
   "id": "5cfc4e58-a65e-4535-b070-7be6827a65d4",
   "metadata": {},
   "source": [
    "q.24 Multiply all elements in a list by 2."
   ]
  },
  {
   "cell_type": "code",
   "execution_count": 26,
   "id": "c67a21c9-647c-4274-8914-8a3f509cc0e2",
   "metadata": {},
   "outputs": [
    {
     "name": "stdout",
     "output_type": "stream",
     "text": [
      "[2, 4, 6, 8, 10]\n"
     ]
    }
   ],
   "source": [
    "# Create a list\n",
    "my_list = [1, 2, 3, 4, 5]\n",
    "\n",
    "# Multiply all elements in the list by 2 using a list comprehension\n",
    "multiplied_list = [x * 2 for x in my_list]\n",
    "\n",
    "# Print the multiplied list\n",
    "print(multiplied_list)\n"
   ]
  },
  {
   "cell_type": "markdown",
   "id": "af852248-ea93-4ece-911a-a4ad52024157",
   "metadata": {},
   "source": [
    "q.25 Filter out all even numbers from a list."
   ]
  },
  {
   "cell_type": "code",
   "execution_count": 27,
   "id": "a6a2f39a-3e94-4711-9337-a3898fd11b39",
   "metadata": {},
   "outputs": [
    {
     "name": "stdout",
     "output_type": "stream",
     "text": [
      "[1, 3, 5, 7, 9]\n"
     ]
    }
   ],
   "source": [
    "# Create a list\n",
    "my_list = [1, 2, 3, 4, 5, 6, 7, 8, 9, 10]\n",
    "\n",
    "# Filter out even numbers from the list using a list comprehension\n",
    "filtered_list = [x for x in my_list if x % 2 != 0]\n",
    "\n",
    "# Print the filtered list\n",
    "print(filtered_list)\n"
   ]
  },
  {
   "cell_type": "markdown",
   "id": "89375cff-c6a5-4cde-aa00-63825b1aa511",
   "metadata": {},
   "source": [
    "q.26 Convert a list of strings to a list of integers."
   ]
  },
  {
   "cell_type": "code",
   "execution_count": 28,
   "id": "e7ea1f61-8bf5-4488-ae95-c439a590f0c7",
   "metadata": {},
   "outputs": [],
   "source": [
    "#Using a list comprehension:"
   ]
  },
  {
   "cell_type": "code",
   "execution_count": 29,
   "id": "82884c61-46d5-4f42-a616-f67369fa3583",
   "metadata": {},
   "outputs": [
    {
     "name": "stdout",
     "output_type": "stream",
     "text": [
      "[1, 2, 3, 4, 5]\n"
     ]
    }
   ],
   "source": [
    "string_list = [\"1\", \"2\", \"3\", \"4\", \"5\"]\n",
    "integer_list = [int(x) for x in string_list]\n",
    "print(integer_list)\n"
   ]
  },
  {
   "cell_type": "code",
   "execution_count": 30,
   "id": "c9815e65-3508-4fc9-892d-ed2f3a8f24fd",
   "metadata": {},
   "outputs": [],
   "source": [
    "#Using a loop:"
   ]
  },
  {
   "cell_type": "code",
   "execution_count": 31,
   "id": "4d4d696f-a5c5-4536-95cd-2ba46a607015",
   "metadata": {},
   "outputs": [
    {
     "name": "stdout",
     "output_type": "stream",
     "text": [
      "[1, 2, 3, 4, 5]\n"
     ]
    }
   ],
   "source": [
    "string_list = [\"1\", \"2\", \"3\", \"4\", \"5\"]\n",
    "integer_list = []\n",
    "for x in string_list:\n",
    "    integer_list.append(int(x))\n",
    "print(integer_list)\n"
   ]
  },
  {
   "cell_type": "markdown",
   "id": "e7a8808a-75f2-4157-804b-d9f3fc1bbb4e",
   "metadata": {},
   "source": [
    "q.27 Convert a list of integers to a list of strings."
   ]
  },
  {
   "cell_type": "code",
   "execution_count": 32,
   "id": "aa62c2cf-5200-4628-8e20-60e83b6d28a7",
   "metadata": {},
   "outputs": [],
   "source": [
    "#Using a list comprehension:"
   ]
  },
  {
   "cell_type": "code",
   "execution_count": 33,
   "id": "601da6e7-9b4f-4d8d-b711-4c681cd44269",
   "metadata": {},
   "outputs": [
    {
     "name": "stdout",
     "output_type": "stream",
     "text": [
      "['1', '2', '3', '4', '5']\n"
     ]
    }
   ],
   "source": [
    "integer_list = [1, 2, 3, 4, 5]\n",
    "string_list = [str(x) for x in integer_list]\n",
    "print(string_list)\n"
   ]
  },
  {
   "cell_type": "code",
   "execution_count": 34,
   "id": "e69e8d2a-802a-428a-884c-ccfc46787510",
   "metadata": {},
   "outputs": [],
   "source": [
    "#Using a loop:"
   ]
  },
  {
   "cell_type": "code",
   "execution_count": 35,
   "id": "039aaef8-b539-4ef6-9f37-9ef63b75a0a1",
   "metadata": {},
   "outputs": [
    {
     "name": "stdout",
     "output_type": "stream",
     "text": [
      "['1', '2', '3', '4', '5']\n"
     ]
    }
   ],
   "source": [
    "integer_list = [1, 2, 3, 4, 5]\n",
    "string_list = []\n",
    "for x in integer_list:\n",
    "    string_list.append(str(x))\n",
    "print(string_list)\n"
   ]
  },
  {
   "cell_type": "markdown",
   "id": "d3f160d1-bb58-406d-9267-e5fb95ee67d7",
   "metadata": {},
   "source": [
    "q.28 Flatten a nested list."
   ]
  },
  {
   "cell_type": "code",
   "execution_count": 36,
   "id": "5391f295-5db2-4550-9def-fd91f00f6170",
   "metadata": {},
   "outputs": [],
   "source": [
    "#Using recursion:"
   ]
  },
  {
   "cell_type": "code",
   "execution_count": 37,
   "id": "a094b092-7986-496d-84fc-8da68eaaf9ea",
   "metadata": {},
   "outputs": [
    {
     "name": "stdout",
     "output_type": "stream",
     "text": [
      "[1, 2, 3, 4, 5, 6, 7]\n"
     ]
    }
   ],
   "source": [
    "def flatten_nested_list(nested_list):\n",
    "    flattened_list = []\n",
    "    for item in nested_list:\n",
    "        if isinstance(item, list):\n",
    "            flattened_list.extend(flatten_nested_list(item))\n",
    "        else:\n",
    "            flattened_list.append(item)\n",
    "    return flattened_list\n",
    "\n",
    "nested_list = [1, [2, 3], [4, [5, 6]], 7]\n",
    "flattened = flatten_nested_list(nested_list)\n",
    "print(flattened)\n"
   ]
  },
  {
   "cell_type": "code",
   "execution_count": 38,
   "id": "2d72f32c-5513-40f2-b97c-0eac9c81795b",
   "metadata": {},
   "outputs": [],
   "source": [
    "#Using an iterative approach:"
   ]
  },
  {
   "cell_type": "code",
   "execution_count": 39,
   "id": "7ed7c8b5-bd18-49c5-bec3-6afd60c6c149",
   "metadata": {},
   "outputs": [
    {
     "name": "stdout",
     "output_type": "stream",
     "text": [
      "[1, 2, 3, 4, 5, 6, 7]\n"
     ]
    }
   ],
   "source": [
    "def flatten_nested_list(nested_list):\n",
    "    flattened_list = []\n",
    "    stack = [nested_list]\n",
    "\n",
    "    while stack:\n",
    "        current = stack.pop()\n",
    "        if isinstance(current, list):\n",
    "            stack.extend(reversed(current))\n",
    "        else:\n",
    "            flattened_list.append(current)\n",
    "\n",
    "    return flattened_list\n",
    "\n",
    "nested_list = [1, [2, 3], [4, [5, 6]], 7]\n",
    "flattened = flatten_nested_list(nested_list)\n",
    "print(flattened)\n"
   ]
  },
  {
   "cell_type": "markdown",
   "id": "bfa07e23-abf8-4204-bfec-cfde88d63508",
   "metadata": {},
   "source": [
    "q.29 Create a list of the first 10 Fibonacci numbers."
   ]
  },
  {
   "cell_type": "code",
   "execution_count": 40,
   "id": "4a0184df-ea1f-478b-a53f-b16ffcb66e49",
   "metadata": {},
   "outputs": [
    {
     "name": "stdout",
     "output_type": "stream",
     "text": [
      "[0, 1, 1, 2, 3, 5, 8, 13, 21, 34]\n"
     ]
    }
   ],
   "source": [
    "fibonacci_list = [0, 1]\n",
    "while len(fibonacci_list) < 10:\n",
    "    next_number = fibonacci_list[-1] + fibonacci_list[-2]\n",
    "    fibonacci_list.append(next_number)\n",
    "\n",
    "print(fibonacci_list)\n"
   ]
  },
  {
   "cell_type": "markdown",
   "id": "0e58b2e6-859d-41b2-a1dc-f79b0226020c",
   "metadata": {},
   "source": [
    "q.30 Check if a list is sorted."
   ]
  },
  {
   "cell_type": "code",
   "execution_count": 41,
   "id": "0e458262-d308-4d06-a19e-762e6df04288",
   "metadata": {},
   "outputs": [
    {
     "name": "stdout",
     "output_type": "stream",
     "text": [
      "True\n",
      "False\n"
     ]
    }
   ],
   "source": [
    "def is_sorted(lst):\n",
    "    for i in range(len(lst) - 1):\n",
    "        if lst[i] > lst[i + 1]:\n",
    "            return False\n",
    "    return True\n",
    "\n",
    "# Example lists\n",
    "sorted_list = [1, 2, 3, 4, 5]\n",
    "unsorted_list = [3, 1, 4, 2, 5]\n",
    "\n",
    "print(is_sorted(sorted_list))   # Output: True\n",
    "print(is_sorted(unsorted_list)) # Output: False\n"
   ]
  },
  {
   "cell_type": "markdown",
   "id": "073f3439-99a9-41c0-9bf3-fe21713bb7d9",
   "metadata": {},
   "source": [
    "q.31 Rotate a list to the left by `n` positions."
   ]
  },
  {
   "cell_type": "code",
   "execution_count": 42,
   "id": "6de0b1f6-80f7-4e64-84e0-c8e7164d3e97",
   "metadata": {},
   "outputs": [
    {
     "name": "stdout",
     "output_type": "stream",
     "text": [
      "[3, 4, 5, 1, 2]\n"
     ]
    }
   ],
   "source": [
    "def rotate_left(lst, n):\n",
    "    n = n % len(lst)  # Normalize n in case it's larger than the list length\n",
    "    rotated = lst[n:] + lst[:n]\n",
    "    return rotated\n",
    "\n",
    "original_list = [1, 2, 3, 4, 5]\n",
    "n = 2  # Number of positions to rotate\n",
    "\n",
    "rotated_list = rotate_left(original_list, n)\n",
    "print(rotated_list)  # Output: [3, 4, 5, 1, 2]\n"
   ]
  },
  {
   "cell_type": "markdown",
   "id": "c1645bd8-cd52-4613-ba96-29d3a9fa6f72",
   "metadata": {},
   "source": [
    "q.32 Rotate a list to the right by `n` positions."
   ]
  },
  {
   "cell_type": "code",
   "execution_count": 43,
   "id": "3d7e9e90-33c5-4d3a-88cf-b434cbcfd78e",
   "metadata": {},
   "outputs": [
    {
     "name": "stdout",
     "output_type": "stream",
     "text": [
      "[4, 5, 1, 2, 3]\n"
     ]
    }
   ],
   "source": [
    "def rotate_right(lst, n):\n",
    "    n = n % len(lst)  # Normalize n in case it's larger than the list length\n",
    "    rotated = lst[-n:] + lst[:-n]\n",
    "    return rotated\n",
    "\n",
    "original_list = [1, 2, 3, 4, 5]\n",
    "n = 2  # Number of positions to rotate\n",
    "\n",
    "rotated_list = rotate_right(original_list, n)\n",
    "print(rotated_list)  # Output: [4, 5, 1, 2, 3]\n"
   ]
  },
  {
   "cell_type": "markdown",
   "id": "62660b87-257b-41f2-a626-734be759c638",
   "metadata": {},
   "source": [
    "q.33 Create a list of prime numbers up to 50."
   ]
  },
  {
   "cell_type": "code",
   "execution_count": 44,
   "id": "6a66b8f2-56f1-4a9e-968e-4138f6051b89",
   "metadata": {},
   "outputs": [
    {
     "name": "stdout",
     "output_type": "stream",
     "text": [
      "[2, 3, 5, 7, 11, 13, 17, 19, 23, 29, 31, 37, 41, 43, 47]\n"
     ]
    }
   ],
   "source": [
    "def is_prime(n):\n",
    "    if n <= 1:\n",
    "        return False\n",
    "    if n <= 3:\n",
    "        return True\n",
    "    if n % 2 == 0 or n % 3 == 0:\n",
    "        return False\n",
    "    i = 5\n",
    "    while i * i <= n:\n",
    "        if n % i == 0 or n % (i + 2) == 0:\n",
    "            return False\n",
    "        i += 6\n",
    "    return True\n",
    "\n",
    "prime_numbers = [num for num in range(2, 51) if is_prime(num)]\n",
    "\n",
    "print(prime_numbers)\n"
   ]
  },
  {
   "cell_type": "markdown",
   "id": "8088fad0-d7bc-4695-b7a9-4dfa8ab84b39",
   "metadata": {},
   "source": [
    "q.34 Split a list into chunks of size `n`."
   ]
  },
  {
   "cell_type": "code",
   "execution_count": 45,
   "id": "9a88c085-d500-4e3d-8492-c722a136a72d",
   "metadata": {},
   "outputs": [
    {
     "name": "stdout",
     "output_type": "stream",
     "text": [
      "[[1, 2, 3], [4, 5, 6], [7, 8, 9], [10]]\n"
     ]
    }
   ],
   "source": [
    "def split_into_chunks(lst, n):\n",
    "    return [lst[i:i + n] for i in range(0, len(lst), n)]\n",
    "\n",
    "# Example usage\n",
    "original_list = [1, 2, 3, 4, 5, 6, 7, 8, 9, 10]\n",
    "chunk_size = 3\n",
    "chunks = split_into_chunks(original_list, chunk_size)\n",
    "\n",
    "print(chunks)\n"
   ]
  },
  {
   "cell_type": "markdown",
   "id": "3e24fb87-8ab4-4941-a518-f973d0380386",
   "metadata": {},
   "source": [
    "q.35 Find the second largest number in a list."
   ]
  },
  {
   "cell_type": "code",
   "execution_count": 46,
   "id": "ccde39a0-6573-4e90-b448-0e080534a419",
   "metadata": {},
   "outputs": [
    {
     "name": "stdout",
     "output_type": "stream",
     "text": [
      "The second largest number is: 15\n"
     ]
    }
   ],
   "source": [
    "def second_largest(lst):\n",
    "    if len(lst) < 2:\n",
    "        return None\n",
    "\n",
    "    largest = second = float('-inf')\n",
    "\n",
    "    for num in lst:\n",
    "        if num > largest:\n",
    "            second = largest\n",
    "            largest = num\n",
    "        elif num > second and num != largest:\n",
    "            second = num\n",
    "\n",
    "    return second\n",
    "\n",
    "# Example usage\n",
    "numbers = [10, 5, 8, 20, 15]\n",
    "result = second_largest(numbers)\n",
    "\n",
    "if result is not None:\n",
    "    print(\"The second largest number is:\", result)\n",
    "else:\n",
    "    print(\"The list doesn't have a second largest number.\")\n"
   ]
  },
  {
   "cell_type": "markdown",
   "id": "a85c2922-bc04-49bf-b012-158fe05a9a02",
   "metadata": {},
   "source": [
    "q.36 Replace every element in a list with its square."
   ]
  },
  {
   "cell_type": "code",
   "execution_count": 47,
   "id": "5f18557e-44f0-4682-843d-ab71078d2aaf",
   "metadata": {},
   "outputs": [
    {
     "name": "stdout",
     "output_type": "stream",
     "text": [
      "Original List: [2, 3, 4, 5, 6]\n",
      "List with Squares: [4, 9, 16, 25, 36]\n"
     ]
    }
   ],
   "source": [
    "def square_elements(lst):\n",
    "    return [num ** 2 for num in lst]\n",
    "\n",
    "# Example usage\n",
    "original_list = [2, 3, 4, 5, 6]\n",
    "squared_list = square_elements(original_list)\n",
    "\n",
    "print(\"Original List:\", original_list)\n",
    "print(\"List with Squares:\", squared_list)\n"
   ]
  },
  {
   "cell_type": "markdown",
   "id": "9d8f5d97-7549-4b49-99a4-3c4efe94bc08",
   "metadata": {},
   "source": [
    "q.37 Convert a list to a dictionary where list elements become keys and their\n",
    "indices become values."
   ]
  },
  {
   "cell_type": "code",
   "execution_count": 48,
   "id": "d0d3d3b9-5a93-43fd-ac10-73ed4a321481",
   "metadata": {},
   "outputs": [
    {
     "name": "stdout",
     "output_type": "stream",
     "text": [
      "Original List: ['apple', 'banana', 'orange', 'grape']\n",
      "Dictionary: {'apple': 0, 'banana': 1, 'orange': 2, 'grape': 3}\n"
     ]
    }
   ],
   "source": [
    "def list_to_dict(lst):\n",
    "    return {value: index for index, value in enumerate(lst)}\n",
    "\n",
    "# Example usage\n",
    "original_list = ['apple', 'banana', 'orange', 'grape']\n",
    "result_dict = list_to_dict(original_list)\n",
    "\n",
    "print(\"Original List:\", original_list)\n",
    "print(\"Dictionary:\", result_dict)\n"
   ]
  },
  {
   "cell_type": "markdown",
   "id": "1ae35709-552f-46e9-ba1a-753686b9559f",
   "metadata": {},
   "source": [
    "q.38 Shuffle the elements of a list randomly."
   ]
  },
  {
   "cell_type": "code",
   "execution_count": 49,
   "id": "e472f9a0-c3a9-4eed-a5fe-50a0678ad0f0",
   "metadata": {},
   "outputs": [
    {
     "name": "stdout",
     "output_type": "stream",
     "text": [
      "Original List: [1, 2, 3, 4, 5]\n",
      "Shuffled List: [3, 5, 4, 1, 2]\n"
     ]
    }
   ],
   "source": [
    "import random\n",
    "\n",
    "def shuffle_list(lst):\n",
    "    shuffled = lst.copy()\n",
    "    random.shuffle(shuffled)\n",
    "    return shuffled\n",
    "\n",
    "# Example usage\n",
    "original_list = [1, 2, 3, 4, 5]\n",
    "shuffled_list = shuffle_list(original_list)\n",
    "\n",
    "print(\"Original List:\", original_list)\n",
    "print(\"Shuffled List:\", shuffled_list)\n"
   ]
  },
  {
   "cell_type": "markdown",
   "id": "09cdf9f2-a409-4917-a767-ac4b6b888cee",
   "metadata": {},
   "source": [
    "q.39 Create a list of the first 10 factorial numbers."
   ]
  },
  {
   "cell_type": "code",
   "execution_count": 50,
   "id": "6754d262-7416-4a6a-8787-d7b3bd5f9a72",
   "metadata": {},
   "outputs": [
    {
     "name": "stdout",
     "output_type": "stream",
     "text": [
      "First 10 Factorial Numbers: [1, 1, 2, 6, 24, 120, 720, 5040, 40320, 362880]\n"
     ]
    }
   ],
   "source": [
    "def factorial(n):\n",
    "    if n == 0 or n == 1:\n",
    "        return 1\n",
    "    else:\n",
    "        return n * factorial(n - 1)\n",
    "\n",
    "factorial_numbers = [factorial(i) for i in range(10)]\n",
    "\n",
    "print(\"First 10 Factorial Numbers:\", factorial_numbers)\n"
   ]
  },
  {
   "cell_type": "markdown",
   "id": "00fce792-8dfd-4847-889e-303e6b65eb1a",
   "metadata": {},
   "source": [
    "q.40 Check if two lists have at least one element in common."
   ]
  },
  {
   "cell_type": "code",
   "execution_count": 51,
   "id": "6620deba-0cde-424c-811e-905dd9c867db",
   "metadata": {},
   "outputs": [
    {
     "name": "stdout",
     "output_type": "stream",
     "text": [
      "List 1 and List 2 have common elements: True\n",
      "List 1 and List 3 have common elements: False\n"
     ]
    }
   ],
   "source": [
    "def have_common_element(list1, list2):\n",
    "    return any(item in list2 for item in list1)\n",
    "\n",
    "# Example usage\n",
    "list1 = [1, 2, 3, 4, 5]\n",
    "list2 = [5, 6, 7, 8, 9]\n",
    "list3 = [10, 11, 12]\n",
    "\n",
    "print(\"List 1 and List 2 have common elements:\", have_common_element(list1, list2))\n",
    "print(\"List 1 and List 3 have common elements:\", have_common_element(list1, list3))\n"
   ]
  },
  {
   "cell_type": "markdown",
   "id": "f941b61d-4783-475e-b472-5f3567e8cd49",
   "metadata": {},
   "source": [
    "q.41 Remove all elements from a list."
   ]
  },
  {
   "cell_type": "code",
   "execution_count": 52,
   "id": "188656d5-866b-41c5-b146-486694ca3169",
   "metadata": {},
   "outputs": [],
   "source": [
    "#Using the clear() method:"
   ]
  },
  {
   "cell_type": "code",
   "execution_count": 53,
   "id": "7d452408-1ff4-4159-b855-be704de59932",
   "metadata": {},
   "outputs": [
    {
     "name": "stdout",
     "output_type": "stream",
     "text": [
      "List after clearing: []\n"
     ]
    }
   ],
   "source": [
    "my_list = [1, 2, 3, 4, 5]\n",
    "my_list.clear()\n",
    "\n",
    "print(\"List after clearing:\", my_list)  # Output: List after clearing: []\n"
   ]
  },
  {
   "cell_type": "code",
   "execution_count": 54,
   "id": "edeef261-69da-4325-9520-a5676ceae3be",
   "metadata": {},
   "outputs": [],
   "source": [
    "#Reassigning an empty list to the original list:"
   ]
  },
  {
   "cell_type": "code",
   "execution_count": 55,
   "id": "1e6d4912-b4da-41f6-8087-38b6b202d0e9",
   "metadata": {},
   "outputs": [
    {
     "name": "stdout",
     "output_type": "stream",
     "text": [
      "List after clearing: []\n"
     ]
    }
   ],
   "source": [
    "my_list = [1, 2, 3, 4, 5]\n",
    "my_list = []\n",
    "\n",
    "print(\"List after clearing:\", my_list)  # Output: List after clearing: []\n"
   ]
  },
  {
   "cell_type": "markdown",
   "id": "4bc05ab0-9dd4-43fe-b964-25880c17bd17",
   "metadata": {},
   "source": [
    "q.42 Replace negative numbers in a list with 0."
   ]
  },
  {
   "cell_type": "code",
   "execution_count": 56,
   "id": "6ca08afa-9f93-485e-a10b-683e84cd05f7",
   "metadata": {},
   "outputs": [
    {
     "name": "stdout",
     "output_type": "stream",
     "text": [
      "Original List: [1, -2, 3, -4, 5, -6]\n",
      "Updated List: [1, 0, 3, 0, 5, 0]\n"
     ]
    }
   ],
   "source": [
    "original_list = [1, -2, 3, -4, 5, -6]\n",
    "\n",
    "updated_list = [0 if num < 0 else num for num in original_list]\n",
    "\n",
    "print(\"Original List:\", original_list)\n",
    "print(\"Updated List:\", updated_list)\n"
   ]
  },
  {
   "cell_type": "markdown",
   "id": "b42eca74-42f8-4831-9a83-64307e3c2c25",
   "metadata": {},
   "source": [
    "q.43 Convert a string into a list of words."
   ]
  },
  {
   "cell_type": "code",
   "execution_count": 57,
   "id": "93e7f834-6abd-4c12-92db-1b5ce002dddd",
   "metadata": {},
   "outputs": [
    {
     "name": "stdout",
     "output_type": "stream",
     "text": [
      "Original Sentence: This is an example sentence.\n",
      "List of Words: ['This', 'is', 'an', 'example', 'sentence.']\n"
     ]
    }
   ],
   "source": [
    "sentence = \"This is an example sentence.\"\n",
    "words_list = sentence.split()\n",
    "\n",
    "print(\"Original Sentence:\", sentence)\n",
    "print(\"List of Words:\", words_list)\n"
   ]
  },
  {
   "cell_type": "markdown",
   "id": "bf972bce-fc54-4fbf-80ea-73ec8252ed60",
   "metadata": {},
   "source": [
    "q.44 Convert a list of words into a string."
   ]
  },
  {
   "cell_type": "code",
   "execution_count": 58,
   "id": "d12bcae9-2f95-4231-ae24-e19238edb263",
   "metadata": {},
   "outputs": [
    {
     "name": "stdout",
     "output_type": "stream",
     "text": [
      "List of Words: ['This', 'is', 'an', 'example', 'sentence.']\n",
      "Joined Sentence: This is an example sentence.\n"
     ]
    }
   ],
   "source": [
    "words_list = ['This', 'is', 'an', 'example', 'sentence.']\n",
    "sentence = ' '.join(words_list)\n",
    "\n",
    "print(\"List of Words:\", words_list)\n",
    "print(\"Joined Sentence:\", sentence)\n"
   ]
  },
  {
   "cell_type": "markdown",
   "id": "b42f31d3-8289-46d6-b843-dcb2bd308c18",
   "metadata": {},
   "source": [
    "q.45 Create a list of the first `n` powers of 2."
   ]
  },
  {
   "cell_type": "code",
   "execution_count": 59,
   "id": "a1b33855-24c9-440f-904c-33a0e5c57111",
   "metadata": {},
   "outputs": [
    {
     "name": "stdout",
     "output_type": "stream",
     "text": [
      "List of the first 5 powers of 2: [1, 2, 4, 8, 16]\n"
     ]
    }
   ],
   "source": [
    "n = 5  # Change this value to the desired number of powers of 2\n",
    "\n",
    "powers_of_2 = [2 ** i for i in range(n)]\n",
    "\n",
    "print(\"List of the first\", n, \"powers of 2:\", powers_of_2)\n"
   ]
  },
  {
   "cell_type": "markdown",
   "id": "2b6d66b3-bd24-4d78-8f2b-86420c08dcbc",
   "metadata": {},
   "source": [
    "q.46 Find the longest string in a list of strings."
   ]
  },
  {
   "cell_type": "code",
   "execution_count": 60,
   "id": "b7dfac1c-421d-4462-a5f1-efaf8587eb8a",
   "metadata": {},
   "outputs": [
    {
     "name": "stdout",
     "output_type": "stream",
     "text": [
      "Longest string: strawberry\n"
     ]
    }
   ],
   "source": [
    "def find_longest_string(strings):\n",
    "    longest_string = \"\"\n",
    "    \n",
    "    for string in strings:\n",
    "        if len(string) > len(longest_string):\n",
    "            longest_string = string\n",
    "            \n",
    "    return longest_string\n",
    "\n",
    "# Example usage\n",
    "string_list = [\"apple\", \"banana\", \"kiwi\", \"strawberry\", \"orange\"]\n",
    "longest = find_longest_string(string_list)\n",
    "print(\"Longest string:\", longest)\n"
   ]
  },
  {
   "cell_type": "markdown",
   "id": "5a0cac70-947e-43fd-b0a3-64746d5d180e",
   "metadata": {},
   "source": [
    "q.47 Find the shortest string in a list of strings."
   ]
  },
  {
   "cell_type": "code",
   "execution_count": 61,
   "id": "0483a290-dd7d-4df7-8eb3-0486e88f7871",
   "metadata": {},
   "outputs": [
    {
     "name": "stdout",
     "output_type": "stream",
     "text": [
      "Shortest string: kiwi\n"
     ]
    }
   ],
   "source": [
    "def find_shortest_string(strings):\n",
    "    shortest_string = None\n",
    "    \n",
    "    for string in strings:\n",
    "        if shortest_string is None or len(string) < len(shortest_string):\n",
    "            shortest_string = string\n",
    "            \n",
    "    return shortest_string\n",
    "\n",
    "# Example usage\n",
    "string_list = [\"apple\", \"banana\", \"kiwi\", \"strawberry\", \"orange\"]\n",
    "shortest = find_shortest_string(string_list)\n",
    "print(\"Shortest string:\", shortest)\n"
   ]
  },
  {
   "cell_type": "markdown",
   "id": "b6a6dc00-1bad-4283-a338-7873233a56f3",
   "metadata": {},
   "source": [
    "q.48 Create a list of the first `n` triangular numbers."
   ]
  },
  {
   "cell_type": "code",
   "execution_count": 62,
   "id": "d320cf9d-c332-49eb-9090-0903b75d48ef",
   "metadata": {},
   "outputs": [
    {
     "name": "stdout",
     "output_type": "stream",
     "text": [
      "First 5 triangular numbers: [1, 3, 6, 10, 15]\n"
     ]
    }
   ],
   "source": [
    "def generate_triangular_numbers(n):\n",
    "    triangular_numbers = []\n",
    "    \n",
    "    for i in range(1, n + 1):\n",
    "        triangular_numbers.append(i * (i + 1) // 2)\n",
    "        \n",
    "    return triangular_numbers\n",
    "\n",
    "# Example usage\n",
    "n = 5\n",
    "triangular_list = generate_triangular_numbers(n)\n",
    "print(\"First\", n, \"triangular numbers:\", triangular_list)\n"
   ]
  },
  {
   "cell_type": "markdown",
   "id": "2aebcd1a-0629-4485-98eb-5d46f1fafe30",
   "metadata": {},
   "source": [
    "q.49 Check if a list contains another list as a subsequence."
   ]
  },
  {
   "cell_type": "code",
   "execution_count": 63,
   "id": "2561d4ba-c79e-4531-a505-90b94be17ff1",
   "metadata": {},
   "outputs": [
    {
     "name": "stdout",
     "output_type": "stream",
     "text": [
      "True\n",
      "True\n",
      "True\n"
     ]
    }
   ],
   "source": [
    "def is_subsequence(subsequence, main_list):\n",
    "    sub_len = len(subsequence)\n",
    "    main_len = len(main_list)\n",
    "    \n",
    "    if sub_len > main_len:\n",
    "        return False\n",
    "    \n",
    "    sub_index = 0\n",
    "    \n",
    "    for element in main_list:\n",
    "        if sub_index == sub_len:\n",
    "            break\n",
    "        if element == subsequence[sub_index]:\n",
    "            sub_index += 1\n",
    "            \n",
    "    return sub_index == sub_len\n",
    "\n",
    "# Example usage\n",
    "main_list = [1, 2, 3, 4, 5, 6, 7, 8]\n",
    "subsequence1 = [2, 4, 6]\n",
    "subsequence2 = [3, 5, 7]\n",
    "subsequence3 = [1, 3, 5]\n",
    "\n",
    "print(is_subsequence(subsequence1, main_list))  # True\n",
    "print(is_subsequence(subsequence2, main_list))  # True\n",
    "print(is_subsequence(subsequence3, main_list))  # False\n"
   ]
  },
  {
   "cell_type": "markdown",
   "id": "3e84e5c9-d951-4811-b39a-7e78546c61e2",
   "metadata": {},
   "source": [
    "q.50 Swap two elements in a list by their indices."
   ]
  },
  {
   "cell_type": "code",
   "execution_count": 64,
   "id": "276dbe13-7c5f-4042-9742-bd82bdde5c53",
   "metadata": {},
   "outputs": [
    {
     "name": "stdout",
     "output_type": "stream",
     "text": [
      "Original list: [1, 2, 3, 4, 5]\n",
      "After swapping: [1, 4, 3, 2, 5]\n"
     ]
    }
   ],
   "source": [
    "def swap_elements_by_indices(lst, index1, index2):\n",
    "    if 0 <= index1 < len(lst) and 0 <= index2 < len(lst):\n",
    "        lst[index1], lst[index2] = lst[index2], lst[index1]\n",
    "\n",
    "# Example usage\n",
    "my_list = [1, 2, 3, 4, 5]\n",
    "print(\"Original list:\", my_list)\n",
    "\n",
    "swap_elements_by_indices(my_list, 1, 3)\n",
    "print(\"After swapping:\", my_list)\n"
   ]
  },
  {
   "cell_type": "markdown",
   "id": "498d7439-5a9d-43e9-a83a-3ad2a88b4e04",
   "metadata": {},
   "source": [
    "Tuple based practice problem\n",
    "\n",
    "q.1 Create a tuple with integers from 1 to 5."
   ]
  },
  {
   "cell_type": "code",
   "execution_count": 1,
   "id": "d6decd00-ab43-42bb-b803-32b5ee98f359",
   "metadata": {},
   "outputs": [
    {
     "name": "stdout",
     "output_type": "stream",
     "text": [
      "(1, 2, 3, 4, 5)\n"
     ]
    }
   ],
   "source": [
    "my_tuple = (1, 2, 3, 4, 5)\n",
    "print(my_tuple)\n"
   ]
  },
  {
   "cell_type": "markdown",
   "id": "c1754fea-b7ff-4ce3-b911-a54c4a1155df",
   "metadata": {},
   "source": [
    "q.2 Access the third element of a tuple."
   ]
  },
  {
   "cell_type": "code",
   "execution_count": 2,
   "id": "cb953acb-d531-4927-a50e-529fd1860dbc",
   "metadata": {},
   "outputs": [
    {
     "name": "stdout",
     "output_type": "stream",
     "text": [
      "3\n"
     ]
    }
   ],
   "source": [
    "my_tuple = (1, 2, 3, 4, 5)\n",
    "third_element = my_tuple[2]\n",
    "print(third_element)\n"
   ]
  },
  {
   "cell_type": "markdown",
   "id": "cea51394-62b7-49cf-80d2-5d4d039c0bee",
   "metadata": {},
   "source": [
    "q.3 Find the length of a tuple without using the `len()` function."
   ]
  },
  {
   "cell_type": "code",
   "execution_count": 3,
   "id": "c3bc9213-9562-4075-a99b-ca9aec3d901a",
   "metadata": {},
   "outputs": [
    {
     "name": "stdout",
     "output_type": "stream",
     "text": [
      "Length of the tuple: 5\n"
     ]
    }
   ],
   "source": [
    "my_tuple = (1, 2, 3, 4, 5)\n",
    "count = 0\n",
    "\n",
    "for _ in my_tuple:\n",
    "    count += 1\n",
    "\n",
    "print(\"Length of the tuple:\", count)\n"
   ]
  },
  {
   "cell_type": "markdown",
   "id": "83e0ac16-a833-4b8d-9375-2044f00a880b",
   "metadata": {},
   "source": [
    "q.4 Count the occurrences of an element in a tuple."
   ]
  },
  {
   "cell_type": "code",
   "execution_count": 4,
   "id": "d83dab93-18f9-49e4-8cc6-59e0e75c5d1b",
   "metadata": {},
   "outputs": [
    {
     "name": "stdout",
     "output_type": "stream",
     "text": [
      "The element 2 appears 3 times in the tuple.\n"
     ]
    }
   ],
   "source": [
    "my_tuple = (1, 2, 2, 3, 4, 2, 5)\n",
    "element_to_count = 2\n",
    "count = 0\n",
    "\n",
    "for item in my_tuple:\n",
    "    if item == element_to_count:\n",
    "        count += 1\n",
    "\n",
    "print(f\"The element {element_to_count} appears {count} times in the tuple.\")\n"
   ]
  },
  {
   "cell_type": "markdown",
   "id": "c383bb60-15bd-40e5-88bd-3bb12f34f186",
   "metadata": {},
   "source": [
    "q.5 Find the index of the first occurrence of an element in a tuple."
   ]
  },
  {
   "cell_type": "code",
   "execution_count": 5,
   "id": "56d3820c-b7de-46ca-bbf4-5f211003d06e",
   "metadata": {},
   "outputs": [
    {
     "name": "stdout",
     "output_type": "stream",
     "text": [
      "Index of the first occurrence: 1\n"
     ]
    }
   ],
   "source": [
    "my_tuple = (10, 20, 30, 40, 50, 20)\n",
    "element_to_find = 20\n",
    "\n",
    "index = my_tuple.index(element_to_find)\n",
    "print(\"Index of the first occurrence:\", index)\n"
   ]
  },
  {
   "cell_type": "markdown",
   "id": "e109112e-9d1c-4e52-a757-5623e6cb5fa9",
   "metadata": {},
   "source": [
    "q.6 Check if an element exists in a tuple."
   ]
  },
  {
   "cell_type": "code",
   "execution_count": 6,
   "id": "c5c1698b-1a4c-4c72-b8f6-d8b5968e5ffb",
   "metadata": {},
   "outputs": [
    {
     "name": "stdout",
     "output_type": "stream",
     "text": [
      "Element exists in the tuple.\n"
     ]
    }
   ],
   "source": [
    "my_tuple = (10, 20, 30, 40, 50)\n",
    "element_to_check = 30\n",
    "\n",
    "if element_to_check in my_tuple:\n",
    "    print(\"Element exists in the tuple.\")\n",
    "else:\n",
    "    print(\"Element does not exist in the tuple.\")\n"
   ]
  },
  {
   "cell_type": "markdown",
   "id": "3ed5df37-ba1c-43d7-830a-ed4f510048d5",
   "metadata": {},
   "source": [
    "q.7 Convert a tuple to a list."
   ]
  },
  {
   "cell_type": "code",
   "execution_count": 7,
   "id": "f0cf8484-0731-4c00-bd99-283142756f97",
   "metadata": {},
   "outputs": [
    {
     "name": "stdout",
     "output_type": "stream",
     "text": [
      "[10, 20, 30, 40, 50]\n"
     ]
    }
   ],
   "source": [
    "my_tuple = (10, 20, 30, 40, 50)\n",
    "my_list = list(my_tuple)\n",
    "\n",
    "print(my_list)\n"
   ]
  },
  {
   "cell_type": "markdown",
   "id": "fbeb3c3e-c99c-49e9-9647-a47966fa3494",
   "metadata": {},
   "source": [
    "q.8 Convert a list to a tuple."
   ]
  },
  {
   "cell_type": "code",
   "execution_count": 8,
   "id": "49ae34a0-2d99-4a05-930e-bc1d884b8ccf",
   "metadata": {},
   "outputs": [
    {
     "name": "stdout",
     "output_type": "stream",
     "text": [
      "(10, 20, 30, 40, 50)\n"
     ]
    }
   ],
   "source": [
    "my_list = [10, 20, 30, 40, 50]\n",
    "my_tuple = tuple(my_list)\n",
    "\n",
    "print(my_tuple)\n"
   ]
  },
  {
   "cell_type": "markdown",
   "id": "a9a62443-cd44-41c9-9180-531766e116f6",
   "metadata": {},
   "source": [
    "q.9 Unpack the elements of a tuple into variables."
   ]
  },
  {
   "cell_type": "code",
   "execution_count": 9,
   "id": "7b22cd41-9b53-4456-8c97-fb9dce1f3e22",
   "metadata": {},
   "outputs": [
    {
     "name": "stdout",
     "output_type": "stream",
     "text": [
      "a: 10\n",
      "b: 20\n",
      "c: 30\n"
     ]
    }
   ],
   "source": [
    "my_tuple = (10, 20, 30)\n",
    "a, b, c = my_tuple\n",
    "\n",
    "print(\"a:\", a)\n",
    "print(\"b:\", b)\n",
    "print(\"c:\", c)\n"
   ]
  },
  {
   "cell_type": "markdown",
   "id": "c16874ef-d87b-453a-bcf0-ad0866820732",
   "metadata": {},
   "source": [
    "q.10 Create a tuple of even numbers from 1 to 10."
   ]
  },
  {
   "cell_type": "code",
   "execution_count": 10,
   "id": "ca7c429d-e57a-428f-97fc-1c3d2b2ef0d8",
   "metadata": {},
   "outputs": [
    {
     "name": "stdout",
     "output_type": "stream",
     "text": [
      "(2, 4, 6, 8, 10)\n"
     ]
    }
   ],
   "source": [
    "even_numbers_tuple = (2, 4, 6, 8, 10)\n",
    "print(even_numbers_tuple)\n"
   ]
  },
  {
   "cell_type": "code",
   "execution_count": 11,
   "id": "4aecb1fa-bc59-49e9-b64d-ea030dd739e8",
   "metadata": {},
   "outputs": [
    {
     "name": "stdout",
     "output_type": "stream",
     "text": [
      "(2, 4, 6, 8, 10)\n"
     ]
    }
   ],
   "source": [
    "even_numbers_list = [x for x in range(2, 11, 2)]  # Generates even numbers from 2 to 10\n",
    "even_numbers_tuple = tuple(even_numbers_list)\n",
    "print(even_numbers_tuple)\n"
   ]
  },
  {
   "cell_type": "markdown",
   "id": "845483c2-a251-4e1f-abd1-9edfdda1ce7e",
   "metadata": {},
   "source": [
    "q.11 Create a tuple of odd numbers from 1 to 10."
   ]
  },
  {
   "cell_type": "code",
   "execution_count": 12,
   "id": "920873fb-dc5d-436b-be38-9a79e8072ab7",
   "metadata": {},
   "outputs": [
    {
     "name": "stdout",
     "output_type": "stream",
     "text": [
      "(1, 3, 5, 7, 9)\n"
     ]
    }
   ],
   "source": [
    "odd_numbers_tuple = (1, 3, 5, 7, 9)\n",
    "print(odd_numbers_tuple)\n"
   ]
  },
  {
   "cell_type": "code",
   "execution_count": 13,
   "id": "cfabed22-4284-4a86-bc87-79952a823848",
   "metadata": {},
   "outputs": [
    {
     "name": "stdout",
     "output_type": "stream",
     "text": [
      "(1, 3, 5, 7, 9)\n"
     ]
    }
   ],
   "source": [
    "odd_numbers_list = [x for x in range(1, 11, 2)]  # Generates odd numbers from 1 to 9\n",
    "odd_numbers_tuple = tuple(odd_numbers_list)\n",
    "print(odd_numbers_tuple)\n"
   ]
  },
  {
   "cell_type": "markdown",
   "id": "36bd202d-b82b-4217-a346-60c1be9f1e97",
   "metadata": {},
   "source": [
    "q.12 Concatenate two tuples."
   ]
  },
  {
   "cell_type": "code",
   "execution_count": 14,
   "id": "9d217bb6-5d0c-40b8-8acf-fcbc6dcc03b5",
   "metadata": {},
   "outputs": [
    {
     "name": "stdout",
     "output_type": "stream",
     "text": [
      "(1, 2, 3, 4, 5, 6)\n"
     ]
    }
   ],
   "source": [
    "tuple1 = (1, 2, 3)\n",
    "tuple2 = (4, 5, 6)\n",
    "concatenated_tuple = tuple1 + tuple2\n",
    "\n",
    "print(concatenated_tuple)\n"
   ]
  },
  {
   "cell_type": "markdown",
   "id": "89332b9a-5075-492a-bf7c-a564f5a3a1c8",
   "metadata": {},
   "source": [
    "q.13 Repeat a tuple three times."
   ]
  },
  {
   "cell_type": "code",
   "execution_count": 15,
   "id": "9b646db5-47ca-4dde-b636-65b55ef24bd4",
   "metadata": {},
   "outputs": [
    {
     "name": "stdout",
     "output_type": "stream",
     "text": [
      "(1, 2, 3, 1, 2, 3, 1, 2, 3)\n"
     ]
    }
   ],
   "source": [
    "original_tuple = (1, 2, 3)\n",
    "repeated_tuple = original_tuple * 3\n",
    "\n",
    "print(repeated_tuple)\n"
   ]
  },
  {
   "cell_type": "markdown",
   "id": "2343ba90-3cb7-4f80-8436-fc6e02b4ab14",
   "metadata": {},
   "source": [
    "q.14 Check if a tuple is empty."
   ]
  },
  {
   "cell_type": "code",
   "execution_count": 16,
   "id": "24455524-3564-42e0-9fc8-49b06b59130c",
   "metadata": {},
   "outputs": [
    {
     "name": "stdout",
     "output_type": "stream",
     "text": [
      "Tuple is empty.\n"
     ]
    }
   ],
   "source": [
    "my_tuple = ()\n",
    "\n",
    "if not my_tuple:\n",
    "    print(\"Tuple is empty.\")\n",
    "else:\n",
    "    print(\"Tuple is not empty.\")\n"
   ]
  },
  {
   "cell_type": "markdown",
   "id": "1f5ae921-6b9d-4203-9bf4-bf9fbaa7d17c",
   "metadata": {},
   "source": [
    "q.15 Create a nested tuple."
   ]
  },
  {
   "cell_type": "code",
   "execution_count": 17,
   "id": "c641fc0e-4780-4d78-b292-3fe41da92688",
   "metadata": {},
   "outputs": [
    {
     "name": "stdout",
     "output_type": "stream",
     "text": [
      "((1, 2, 3), (4, 5, 6), (7, 8, 9))\n"
     ]
    }
   ],
   "source": [
    "nested_tuple = ((1, 2, 3), (4, 5, 6), (7, 8, 9))\n",
    "\n",
    "print(nested_tuple)\n"
   ]
  },
  {
   "cell_type": "markdown",
   "id": "3490a4e8-3ac0-4e44-80c5-a576bcbc4284",
   "metadata": {},
   "source": [
    "q.16 Access the first element of a nested tuple."
   ]
  },
  {
   "cell_type": "code",
   "execution_count": 18,
   "id": "a4ba0475-05f6-49c3-b8eb-a3246389845c",
   "metadata": {},
   "outputs": [
    {
     "name": "stdout",
     "output_type": "stream",
     "text": [
      "First element of the nested tuple: 1\n"
     ]
    }
   ],
   "source": [
    "nested_tuple = ((1, 2, 3), (4, 5, 6), (7, 8, 9))\n",
    "\n",
    "first_element = nested_tuple[0][0]\n",
    "\n",
    "print(\"First element of the nested tuple:\", first_element)\n"
   ]
  },
  {
   "cell_type": "markdown",
   "id": "20437094-f503-4f6b-a0d7-393ba17a35ee",
   "metadata": {},
   "source": [
    "q.17 Create a tuple with a single element."
   ]
  },
  {
   "cell_type": "code",
   "execution_count": 19,
   "id": "f49fb396-442d-49a6-be9a-fbce23b4b11f",
   "metadata": {},
   "outputs": [
    {
     "name": "stdout",
     "output_type": "stream",
     "text": [
      "(42,)\n"
     ]
    }
   ],
   "source": [
    "single_element_tuple = (42,)\n",
    "print(single_element_tuple)\n"
   ]
  },
  {
   "cell_type": "markdown",
   "id": "5cfa3f39-21f2-438b-9dd4-3802292e334d",
   "metadata": {},
   "source": [
    "q.18 Compare two tuples."
   ]
  },
  {
   "cell_type": "code",
   "execution_count": 20,
   "id": "466d18ff-0f21-4a2b-af34-ac4f953ba37b",
   "metadata": {},
   "outputs": [
    {
     "name": "stdout",
     "output_type": "stream",
     "text": [
      "tuple1 == tuple2: True\n",
      "tuple1 != tuple3: True\n",
      "tuple1 < tuple3: True\n",
      "tuple2 >= tuple1: True\n"
     ]
    }
   ],
   "source": [
    "tuple1 = (1, 2, 3)\n",
    "tuple2 = (1, 2, 3)\n",
    "tuple3 = (4, 5, 6)\n",
    "\n",
    "print(\"tuple1 == tuple2:\", tuple1 == tuple2)  # True\n",
    "print(\"tuple1 != tuple3:\", tuple1 != tuple3)  # True\n",
    "print(\"tuple1 < tuple3:\", tuple1 < tuple3)    # True\n",
    "print(\"tuple2 >= tuple1:\", tuple2 >= tuple1)  # True\n"
   ]
  },
  {
   "cell_type": "markdown",
   "id": "1443fd2e-849e-4f07-8988-5f117419e1fc",
   "metadata": {},
   "source": [
    "q.19 Delete a tuple."
   ]
  },
  {
   "cell_type": "code",
   "execution_count": 22,
   "id": "a5608737-1920-4c06-8602-4672ac365f34",
   "metadata": {},
   "outputs": [
    {
     "ename": "NameError",
     "evalue": "name 'my_tuple' is not defined",
     "output_type": "error",
     "traceback": [
      "\u001b[0;31m---------------------------------------------------------------------------\u001b[0m",
      "\u001b[0;31mNameError\u001b[0m                                 Traceback (most recent call last)",
      "Cell \u001b[0;32mIn[22], line 5\u001b[0m\n\u001b[1;32m      2\u001b[0m \u001b[38;5;28;01mdel\u001b[39;00m my_tuple\n\u001b[1;32m      4\u001b[0m \u001b[38;5;66;03m# This will raise a NameError because the tuple no longer exists\u001b[39;00m\n\u001b[0;32m----> 5\u001b[0m \u001b[38;5;28mprint\u001b[39m(\u001b[43mmy_tuple\u001b[49m)\n",
      "\u001b[0;31mNameError\u001b[0m: name 'my_tuple' is not defined"
     ]
    }
   ],
   "source": [
    "my_tuple = (1, 2, 3)\n",
    "del my_tuple\n",
    "\n",
    "# This will raise a NameError because the tuple no longer exists\n",
    "print(my_tuple)\n"
   ]
  },
  {
   "cell_type": "markdown",
   "id": "129192e1-c690-4397-8ae6-9903cb128c13",
   "metadata": {},
   "source": [
    "q.20 Slice a tuple."
   ]
  },
  {
   "cell_type": "code",
   "execution_count": 1,
   "id": "23a5a984-c739-43f6-a807-28eaf186796e",
   "metadata": {},
   "outputs": [
    {
     "ename": "NameError",
     "evalue": "name 'tuple_name' is not defined",
     "output_type": "error",
     "traceback": [
      "\u001b[0;31m---------------------------------------------------------------------------\u001b[0m",
      "\u001b[0;31mNameError\u001b[0m                                 Traceback (most recent call last)",
      "Cell \u001b[0;32mIn[1], line 1\u001b[0m\n\u001b[0;32m----> 1\u001b[0m \u001b[43mtuple_name\u001b[49m[start_index:end_index]\n",
      "\u001b[0;31mNameError\u001b[0m: name 'tuple_name' is not defined"
     ]
    }
   ],
   "source": [
    "tuple_name[start_index:end_index]\n"
   ]
  },
  {
   "cell_type": "code",
   "execution_count": 2,
   "id": "c8f1de3e-531f-4d55-8b3d-98c740fb97ff",
   "metadata": {},
   "outputs": [
    {
     "name": "stdout",
     "output_type": "stream",
     "text": [
      "(3, 4, 5, 6)\n"
     ]
    }
   ],
   "source": [
    "my_tuple = (1, 2, 3, 4, 5, 6, 7, 8, 9, 10)\n",
    "\n",
    "# Slice from index 2 to index 5 (inclusive:exclusive)\n",
    "sliced_tuple = my_tuple[2:6]\n",
    "print(sliced_tuple)  # Output: (3, 4, 5, 6)\n"
   ]
  },
  {
   "cell_type": "code",
   "execution_count": 3,
   "id": "5ea6c0d5-e8da-4f15-affc-0c9f22b8bc90",
   "metadata": {},
   "outputs": [
    {
     "name": "stdout",
     "output_type": "stream",
     "text": [
      "(1, 2, 3, 4)\n",
      "(8, 9, 10)\n"
     ]
    }
   ],
   "source": [
    "# Slice from the beginning to index 3 (exclusive)\n",
    "sliced_tuple_beginning = my_tuple[:4]\n",
    "print(sliced_tuple_beginning)  # Output: (1, 2, 3, 4)\n",
    "\n",
    "# Slice from index 7 to the end\n",
    "sliced_tuple_end = my_tuple[7:]\n",
    "print(sliced_tuple_end)  # Output: (8, 9, 10)\n"
   ]
  },
  {
   "cell_type": "markdown",
   "id": "237c0432-7bbe-4a90-87c1-8850daf288f7",
   "metadata": {},
   "source": [
    "q.21 Find the maximum value in a tuple."
   ]
  },
  {
   "cell_type": "code",
   "execution_count": 4,
   "id": "cb19ed26-8b70-4a9e-bbb6-8a0a92279c56",
   "metadata": {},
   "outputs": [
    {
     "name": "stdout",
     "output_type": "stream",
     "text": [
      "The maximum value in the tuple is: 32\n"
     ]
    }
   ],
   "source": [
    "my_tuple = (15, 7, 32, 19, 8, 25)\n",
    "\n",
    "max_value = max(my_tuple)\n",
    "print(\"The maximum value in the tuple is:\", max_value)\n"
   ]
  },
  {
   "cell_type": "markdown",
   "id": "2f5459c9-2b5c-42b0-b32c-fb5b09ae0baf",
   "metadata": {},
   "source": [
    "q.22 Find the minimum value in a tuple."
   ]
  },
  {
   "cell_type": "code",
   "execution_count": 5,
   "id": "29ebdaae-c0af-4215-a16b-4bfe60c19f2b",
   "metadata": {},
   "outputs": [
    {
     "name": "stdout",
     "output_type": "stream",
     "text": [
      "The minimum value in the tuple is: 7\n"
     ]
    }
   ],
   "source": [
    "my_tuple = (15, 7, 32, 19, 8, 25)\n",
    "\n",
    "min_value = min(my_tuple)\n",
    "print(\"The minimum value in the tuple is:\", min_value)\n"
   ]
  },
  {
   "cell_type": "markdown",
   "id": "c5f93881-fc6d-43cb-95b0-b607f76c0630",
   "metadata": {},
   "source": [
    "q.23 Convert a string to a tuple of characters."
   ]
  },
  {
   "cell_type": "code",
   "execution_count": 6,
   "id": "7ee7dce7-ebf6-46c3-9061-4156fd572ec5",
   "metadata": {},
   "outputs": [
    {
     "name": "stdout",
     "output_type": "stream",
     "text": [
      "('H', 'e', 'l', 'l', 'o', ',', ' ', 'W', 'o', 'r', 'l', 'd', '!')\n"
     ]
    }
   ],
   "source": [
    "my_string = \"Hello, World!\"\n",
    "\n",
    "# Convert the string to a tuple of characters\n",
    "char_tuple = tuple(my_string)\n",
    "\n",
    "print(char_tuple)\n"
   ]
  },
  {
   "cell_type": "markdown",
   "id": "c1c926f4-b5b1-4d5e-b5b2-701e6128b660",
   "metadata": {},
   "source": [
    "q.24 Convert a tuple of characters to a string."
   ]
  },
  {
   "cell_type": "code",
   "execution_count": 7,
   "id": "a17a8069-0ba4-4396-b910-413119b48117",
   "metadata": {},
   "outputs": [
    {
     "name": "stdout",
     "output_type": "stream",
     "text": [
      "Hello, World!\n"
     ]
    }
   ],
   "source": [
    "char_tuple = ('H', 'e', 'l', 'l', 'o', ',', ' ', 'W', 'o', 'r', 'l', 'd', '!')\n",
    "\n",
    "# Convert the tuple of characters to a string\n",
    "my_string = ''.join(char_tuple)\n",
    "\n",
    "print(my_string)\n"
   ]
  },
  {
   "cell_type": "markdown",
   "id": "a17a6946-92e2-442d-8578-58b0ea9ee2b8",
   "metadata": {},
   "source": [
    "q.25 Create a tuple from multiple data types."
   ]
  },
  {
   "cell_type": "code",
   "execution_count": 8,
   "id": "aecc9e4c-2c30-4f58-a719-55da9d41c805",
   "metadata": {},
   "outputs": [
    {
     "name": "stdout",
     "output_type": "stream",
     "text": [
      "(42, 'hello', 3.14, [1, 2, 3], {'a': 1, 'b': 2})\n"
     ]
    }
   ],
   "source": [
    "mixed_tuple = (42, \"hello\", 3.14, [1, 2, 3], {'a': 1, 'b': 2})\n",
    "\n",
    "print(mixed_tuple)\n"
   ]
  },
  {
   "cell_type": "markdown",
   "id": "c17f4514-4ac1-42e9-9795-0157bb73dbcf",
   "metadata": {},
   "source": [
    "q.26 Check if two tuples are identical."
   ]
  },
  {
   "cell_type": "code",
   "execution_count": 9,
   "id": "57822f15-156c-4671-84c5-062f40c7182f",
   "metadata": {},
   "outputs": [
    {
     "name": "stdout",
     "output_type": "stream",
     "text": [
      "tuple1 and tuple2 are identical\n",
      "tuple1 and tuple3 are not identical\n"
     ]
    }
   ],
   "source": [
    "tuple1 = (1, 2, 3)\n",
    "tuple2 = (1, 2, 3)\n",
    "tuple3 = (3, 2, 1)\n",
    "\n",
    "# Check if tuple1 and tuple2 are identical\n",
    "if tuple1 == tuple2:\n",
    "    print(\"tuple1 and tuple2 are identical\")\n",
    "else:\n",
    "    print(\"tuple1 and tuple2 are not identical\")\n",
    "\n",
    "# Check if tuple1 and tuple3 are identical\n",
    "if tuple1 == tuple3:\n",
    "    print(\"tuple1 and tuple3 are identical\")\n",
    "else:\n",
    "    print(\"tuple1 and tuple3 are not identical\")\n"
   ]
  },
  {
   "cell_type": "markdown",
   "id": "80cd4033-8272-4e52-b4ea-caa4d57dbf5b",
   "metadata": {},
   "source": [
    "q.27 Sort the elements of a tuple."
   ]
  },
  {
   "cell_type": "code",
   "execution_count": 10,
   "id": "74ec84e7-6596-4456-9935-c555c4760299",
   "metadata": {},
   "outputs": [
    {
     "name": "stdout",
     "output_type": "stream",
     "text": [
      "(1, 2, 3, 4, 5, 6, 7)\n"
     ]
    }
   ],
   "source": [
    "my_tuple = (4, 1, 6, 3, 7, 2, 5)\n",
    "\n",
    "# Convert the tuple to a list, sort the list, and convert it back to a tuple\n",
    "sorted_tuple = tuple(sorted(my_tuple))\n",
    "\n",
    "print(sorted_tuple)\n"
   ]
  },
  {
   "cell_type": "markdown",
   "id": "eadb0230-aff2-45ae-80b8-934551690597",
   "metadata": {},
   "source": [
    "q.28 Convert a tuple of integers to a tuple of strings."
   ]
  },
  {
   "cell_type": "code",
   "execution_count": 11,
   "id": "3a757e29-8700-42db-9f93-c4f0e5edb477",
   "metadata": {},
   "outputs": [],
   "source": [
    "#Using List Comprehension:"
   ]
  },
  {
   "cell_type": "code",
   "execution_count": 12,
   "id": "84f7494e-3cf1-4b4f-bf58-891019194789",
   "metadata": {},
   "outputs": [
    {
     "name": "stdout",
     "output_type": "stream",
     "text": [
      "('1', '2', '3', '4', '5')\n"
     ]
    }
   ],
   "source": [
    "integer_tuple = (1, 2, 3, 4, 5)\n",
    "\n",
    "# Convert the tuple of integers to a tuple of strings using list comprehension\n",
    "string_tuple = tuple(str(i) for i in integer_tuple)\n",
    "\n",
    "print(string_tuple)\n"
   ]
  },
  {
   "cell_type": "code",
   "execution_count": 13,
   "id": "71c1d0b0-92e4-407a-899e-727fdacca6e5",
   "metadata": {},
   "outputs": [],
   "source": [
    "#Using map() function:"
   ]
  },
  {
   "cell_type": "code",
   "execution_count": 14,
   "id": "42e35118-cb8a-4437-b51d-cd7f68fc67be",
   "metadata": {},
   "outputs": [
    {
     "name": "stdout",
     "output_type": "stream",
     "text": [
      "('1', '2', '3', '4', '5')\n"
     ]
    }
   ],
   "source": [
    "integer_tuple = (1, 2, 3, 4, 5)\n",
    "\n",
    "# Convert the tuple of integers to a tuple of strings using map() and lambda function\n",
    "string_tuple = tuple(map(str, integer_tuple))\n",
    "\n",
    "print(string_tuple)\n"
   ]
  },
  {
   "cell_type": "markdown",
   "id": "799ca9c6-cfd4-4465-933c-2e88436abeb4",
   "metadata": {},
   "source": [
    "q.29 Convert a tuple of strings to a tuple of integers."
   ]
  },
  {
   "cell_type": "code",
   "execution_count": 15,
   "id": "16b0970c-ea41-47f0-a0c0-2cd446a0e953",
   "metadata": {},
   "outputs": [
    {
     "name": "stdout",
     "output_type": "stream",
     "text": [
      "(1, 2, 3, 4, 5)\n"
     ]
    }
   ],
   "source": [
    "string_tuple = ('1', '2', '3', '4', '5')\n",
    "\n",
    "# Convert the tuple of strings to a tuple of integers using map() and int()\n",
    "integer_tuple = tuple(map(int, string_tuple))\n",
    "\n",
    "print(integer_tuple)\n"
   ]
  },
  {
   "cell_type": "markdown",
   "id": "5c1ad8b4-5943-4bbb-a843-92f85712e414",
   "metadata": {},
   "source": [
    "q.30 Merge two tuples."
   ]
  },
  {
   "cell_type": "code",
   "execution_count": 16,
   "id": "91753402-a34f-47c7-8d5b-133eb41e09e9",
   "metadata": {},
   "outputs": [
    {
     "name": "stdout",
     "output_type": "stream",
     "text": [
      "(1, 2, 3, 4, 5, 6)\n"
     ]
    }
   ],
   "source": [
    "tuple1 = (1, 2, 3)\n",
    "tuple2 = (4, 5, 6)\n",
    "\n",
    "merged_tuple = tuple1 + tuple2\n",
    "\n",
    "print(merged_tuple)\n"
   ]
  },
  {
   "cell_type": "markdown",
   "id": "f3372e2b-3a1f-4e66-8d2d-e5519c74897f",
   "metadata": {},
   "source": [
    "q.31 Flatten a nested tuple."
   ]
  },
  {
   "cell_type": "code",
   "execution_count": 1,
   "id": "76eaffa6-5774-4d02-9b0c-d621360388c6",
   "metadata": {},
   "outputs": [
    {
     "name": "stdout",
     "output_type": "stream",
     "text": [
      "(1, 2, 3, 4, 5, 6, 7)\n"
     ]
    }
   ],
   "source": [
    "def flatten_tuple(nested_tuple):\n",
    "    flattened = []\n",
    "    for item in nested_tuple:\n",
    "        if isinstance(item, tuple):\n",
    "            flattened.extend(flatten_tuple(item))\n",
    "        else:\n",
    "            flattened.append(item)\n",
    "    return tuple(flattened)\n",
    "\n",
    "# Example nested tuple\n",
    "nested_tuple = (1, (2, 3), (4, (5, 6)), 7)\n",
    "flattened_tuple = flatten_tuple(nested_tuple)\n",
    "print(flattened_tuple)\n"
   ]
  },
  {
   "cell_type": "markdown",
   "id": "163c3538-b33a-4e50-8612-dc5073f7dce3",
   "metadata": {},
   "source": [
    "q.32 Create a tuple of the first 5 prime numbers."
   ]
  },
  {
   "cell_type": "code",
   "execution_count": 2,
   "id": "07d4fcd4-061d-48a2-9d61-0eebd1c394ee",
   "metadata": {},
   "outputs": [
    {
     "name": "stdout",
     "output_type": "stream",
     "text": [
      "(2, 3, 5, 7, 11)\n"
     ]
    }
   ],
   "source": [
    "prime_numbers_tuple = (2, 3, 5, 7, 11)\n",
    "print(prime_numbers_tuple)\n"
   ]
  },
  {
   "cell_type": "markdown",
   "id": "fd9544ef-96fb-43f8-ba57-ac7c156b483a",
   "metadata": {},
   "source": [
    "q.33 Check if a tuple is a palindrome."
   ]
  },
  {
   "cell_type": "code",
   "execution_count": 3,
   "id": "ceb695c2-56bf-45a7-83c4-c090466d0a16",
   "metadata": {},
   "outputs": [
    {
     "name": "stdout",
     "output_type": "stream",
     "text": [
      "True\n",
      "False\n"
     ]
    }
   ],
   "source": [
    "def is_tuple_palindrome(t):\n",
    "    return t == t[::-1]\n",
    "\n",
    "# Test cases\n",
    "tuple1 = (1, 2, 3, 2, 1)\n",
    "tuple2 = (1, 2, 3, 4, 5)\n",
    "\n",
    "print(is_tuple_palindrome(tuple1))  # True, as it's a palindrome\n",
    "print(is_tuple_palindrome(tuple2))  # False, as it's not a palindrome\n"
   ]
  },
  {
   "cell_type": "markdown",
   "id": "3ff6c5a7-8dc2-4274-b466-3d97f1b4522c",
   "metadata": {},
   "source": [
    "q.34 Create a tuple of squares of numbers from 1 to 5."
   ]
  },
  {
   "cell_type": "code",
   "execution_count": 4,
   "id": "f1f38107-935a-4cf2-81e3-7de8f052a5f5",
   "metadata": {},
   "outputs": [
    {
     "name": "stdout",
     "output_type": "stream",
     "text": [
      "(1, 4, 9, 16, 25)\n"
     ]
    }
   ],
   "source": [
    "squares_tuple = (1**2, 2**2, 3**2, 4**2, 5**2)\n",
    "print(squares_tuple)\n"
   ]
  },
  {
   "cell_type": "markdown",
   "id": "a1f693de-ca95-4066-8585-055955e792e5",
   "metadata": {},
   "source": [
    "q.35 Filter out all even numbers from a tuple."
   ]
  },
  {
   "cell_type": "code",
   "execution_count": 5,
   "id": "24381abe-92e6-4b1c-8768-e5fc77de9796",
   "metadata": {},
   "outputs": [
    {
     "name": "stdout",
     "output_type": "stream",
     "text": [
      "(1, 3, 5, 7, 9)\n"
     ]
    }
   ],
   "source": [
    "original_tuple = (1, 2, 3, 4, 5, 6, 7, 8, 9, 10)\n",
    "\n",
    "filtered_tuple = tuple(x for x in original_tuple if x % 2 != 0)\n",
    "\n",
    "print(filtered_tuple)\n"
   ]
  },
  {
   "cell_type": "markdown",
   "id": "94d57dbb-aaa7-4685-ae11-d234422ed835",
   "metadata": {},
   "source": [
    "q.36 Multiply all elements in a tuple by 2."
   ]
  },
  {
   "cell_type": "code",
   "execution_count": 6,
   "id": "b847259e-6463-49e3-ac3b-a19179f064ad",
   "metadata": {},
   "outputs": [
    {
     "name": "stdout",
     "output_type": "stream",
     "text": [
      "(2, 4, 6, 8, 10)\n"
     ]
    }
   ],
   "source": [
    "original_tuple = (1, 2, 3, 4, 5)\n",
    "\n",
    "doubled_tuple = tuple(x * 2 for x in original_tuple)\n",
    "\n",
    "print(doubled_tuple)\n"
   ]
  },
  {
   "cell_type": "markdown",
   "id": "9b6db1dd-5635-4147-a2ed-08e9b67f7405",
   "metadata": {},
   "source": [
    "q.37 Create a tuple of random numbers."
   ]
  },
  {
   "cell_type": "code",
   "execution_count": 7,
   "id": "e0f90b4e-9a45-4314-9f09-17beb566fde2",
   "metadata": {},
   "outputs": [
    {
     "name": "stdout",
     "output_type": "stream",
     "text": [
      "(91, 98, 18, 31, 28)\n"
     ]
    }
   ],
   "source": [
    "import random\n",
    "\n",
    "num_elements = 5  # Number of random elements\n",
    "min_value = 1     # Minimum value for random numbers\n",
    "max_value = 100   # Maximum value for random numbers\n",
    "\n",
    "random_numbers_tuple = tuple(random.randint(min_value, max_value) for _ in range(num_elements))\n",
    "\n",
    "print(random_numbers_tuple)\n"
   ]
  },
  {
   "cell_type": "markdown",
   "id": "b8ac4341-7228-4f7a-8d6c-304bcbcb93f4",
   "metadata": {},
   "source": [
    "q.38 Check if a tuple is sorted."
   ]
  },
  {
   "cell_type": "code",
   "execution_count": 8,
   "id": "0d3490b5-14b1-45bf-a1a9-ab023ba4fad3",
   "metadata": {},
   "outputs": [
    {
     "name": "stdout",
     "output_type": "stream",
     "text": [
      "True\n",
      "False\n"
     ]
    }
   ],
   "source": [
    "def is_tuple_sorted(t):\n",
    "    return all(t[i] <= t[i + 1] for i in range(len(t) - 1))\n",
    "\n",
    "# Test cases\n",
    "sorted_tuple = (1, 2, 3, 4, 5)\n",
    "unsorted_tuple = (5, 2, 9, 1, 7)\n",
    "\n",
    "print(is_tuple_sorted(sorted_tuple))     # True, as it's sorted\n",
    "print(is_tuple_sorted(unsorted_tuple))   # False, as it's not sorted\n"
   ]
  },
  {
   "cell_type": "markdown",
   "id": "f9bb164b-8bb8-4ab9-b357-6b57e0cbd733",
   "metadata": {},
   "source": [
    "q.39 Rotate a tuple to the left by `n` positions."
   ]
  },
  {
   "cell_type": "code",
   "execution_count": 10,
   "id": "1f16731b-150c-4a72-8973-08218d847bea",
   "metadata": {},
   "outputs": [
    {
     "name": "stdout",
     "output_type": "stream",
     "text": [
      "(3, 4, 5, 1, 2)\n"
     ]
    }
   ],
   "source": [
    "def rotate_tuple_left(t, n):\n",
    "    n %= len(t)  # Ensure n is within the range of the tuple length\n",
    "    return t[n:] + t[:n]\n",
    "\n",
    "# Test case\n",
    "original_tuple = (1, 2, 3, 4, 5)\n",
    "n_positions = 2\n",
    "\n",
    "rotated_tuple = rotate_tuple_left(original_tuple, n_positions)\n",
    "print(rotated_tuple)\n"
   ]
  },
  {
   "cell_type": "markdown",
   "id": "86472215-325d-4f78-b8ff-475077a129bd",
   "metadata": {},
   "source": [
    "q.40 Rotate a tuple to the right by `n` positions."
   ]
  },
  {
   "cell_type": "code",
   "execution_count": 11,
   "id": "9f24064d-b9b2-4c68-90a0-964feb2e3980",
   "metadata": {},
   "outputs": [
    {
     "name": "stdout",
     "output_type": "stream",
     "text": [
      "(4, 5, 1, 2, 3)\n"
     ]
    }
   ],
   "source": [
    "def rotate_tuple_right(t, n):\n",
    "    n %= len(t)  # Ensure n is within the range of the tuple length\n",
    "    return t[-n:] + t[:-n]\n",
    "\n",
    "# Test case\n",
    "original_tuple = (1, 2, 3, 4, 5)\n",
    "n_positions = 2\n",
    "\n",
    "rotated_tuple = rotate_tuple_right(original_tuple, n_positions)\n",
    "print(rotated_tuple)\n"
   ]
  },
  {
   "cell_type": "markdown",
   "id": "dc7671a0-447c-4ef9-94f8-e91d4ae25189",
   "metadata": {},
   "source": [
    "q.41 Create a tuple of the first 5 Fibonacci numbers."
   ]
  },
  {
   "cell_type": "code",
   "execution_count": 12,
   "id": "cebf93b6-b380-46df-900f-4b2bb2b0393a",
   "metadata": {},
   "outputs": [
    {
     "name": "stdout",
     "output_type": "stream",
     "text": [
      "(0, 1, 1, 2, 3)\n"
     ]
    }
   ],
   "source": [
    "def generate_fibonacci(n):\n",
    "    fibonacci = [0, 1]\n",
    "    for i in range(2, n):\n",
    "        fibonacci.append(fibonacci[i - 1] + fibonacci[i - 2])\n",
    "    return tuple(fibonacci)\n",
    "\n",
    "# Get the first 5 Fibonacci numbers\n",
    "fibonacci_tuple = generate_fibonacci(5)\n",
    "print(fibonacci_tuple)\n"
   ]
  },
  {
   "cell_type": "markdown",
   "id": "cccd1481-7f10-43a9-bdbd-c954a71443b8",
   "metadata": {},
   "source": [
    "q.42 Create a tuple from user input."
   ]
  },
  {
   "cell_type": "code",
   "execution_count": 13,
   "id": "d10511d2-1d79-475e-ad3e-7e3b83a15735",
   "metadata": {},
   "outputs": [
    {
     "name": "stdin",
     "output_type": "stream",
     "text": [
      "Enter a sequence of values separated by spaces:  siddharth soni\n"
     ]
    },
    {
     "name": "stdout",
     "output_type": "stream",
     "text": [
      "User input as tuple: ('siddharth', 'soni')\n"
     ]
    }
   ],
   "source": [
    "user_input = input(\"Enter a sequence of values separated by spaces: \")\n",
    "user_values = user_input.split()  # Split the input into individual values\n",
    "user_tuple = tuple(user_values)    # Convert the list of values into a tuple\n",
    "\n",
    "print(\"User input as tuple:\", user_tuple)\n"
   ]
  },
  {
   "cell_type": "markdown",
   "id": "9348f893-e5be-4447-b531-2695deb08b10",
   "metadata": {},
   "source": [
    "q.43 Swap two elements in a tuple."
   ]
  },
  {
   "cell_type": "code",
   "execution_count": 14,
   "id": "16e54f39-1993-4062-b084-e3a9e0fe54f8",
   "metadata": {},
   "outputs": [
    {
     "name": "stdout",
     "output_type": "stream",
     "text": [
      "(1, 4, 3, 2, 5)\n"
     ]
    }
   ],
   "source": [
    "def swap_elements(t, index1, index2):\n",
    "    # Convert the tuple to a list to modify it\n",
    "    t_list = list(t)\n",
    "    \n",
    "    # Swap the elements at the specified indices\n",
    "    t_list[index1], t_list[index2] = t_list[index2], t_list[index1]\n",
    "    \n",
    "    # Convert the list back to a tuple\n",
    "    swapped_tuple = tuple(t_list)\n",
    "    return swapped_tuple\n",
    "\n",
    "# Test case\n",
    "original_tuple = (1, 2, 3, 4, 5)\n",
    "index_to_swap1 = 1\n",
    "index_to_swap2 = 3\n",
    "\n",
    "swapped_tuple = swap_elements(original_tuple, index_to_swap1, index_to_swap2)\n",
    "print(swapped_tuple)\n"
   ]
  },
  {
   "cell_type": "markdown",
   "id": "e14de67e-d9c2-473c-b12d-6cfc47776b1a",
   "metadata": {},
   "source": [
    "q.44 Reverse the elements of a tuple."
   ]
  },
  {
   "cell_type": "code",
   "execution_count": 15,
   "id": "d468a16f-0f03-4e17-8738-a602aef95c9c",
   "metadata": {},
   "outputs": [
    {
     "name": "stdout",
     "output_type": "stream",
     "text": [
      "(5, 4, 3, 2, 1)\n"
     ]
    }
   ],
   "source": [
    "def reverse_tuple(t):\n",
    "    reversed_tuple = tuple(reversed(t))\n",
    "    return reversed_tuple\n",
    "\n",
    "# Test case\n",
    "original_tuple = (1, 2, 3, 4, 5)\n",
    "\n",
    "reversed_tuple = reverse_tuple(original_tuple)\n",
    "print(reversed_tuple)\n"
   ]
  },
  {
   "cell_type": "markdown",
   "id": "d459be52-df67-4ce4-bb07-c66b3ae2d9c4",
   "metadata": {},
   "source": [
    "q.45 Create a tuple of the first `n` powers of 2."
   ]
  },
  {
   "cell_type": "code",
   "execution_count": 16,
   "id": "04285b07-08ce-4546-bb90-f30a6a5168bf",
   "metadata": {},
   "outputs": [
    {
     "name": "stdout",
     "output_type": "stream",
     "text": [
      "(1, 2, 4, 8, 16)\n"
     ]
    }
   ],
   "source": [
    "def powers_of_2(n):\n",
    "    return tuple(2 ** i for i in range(n))\n",
    "\n",
    "# Test case\n",
    "n = 5\n",
    "\n",
    "powers_tuple = powers_of_2(n)\n",
    "print(powers_tuple)\n"
   ]
  },
  {
   "cell_type": "markdown",
   "id": "5248bec6-1629-43fc-845c-6eed81d88bfd",
   "metadata": {},
   "source": [
    "q.46 Find the longest string in a tuple of strings."
   ]
  },
  {
   "cell_type": "code",
   "execution_count": 17,
   "id": "2861205a-f128-4a6e-9931-331e69f52554",
   "metadata": {},
   "outputs": [
    {
     "name": "stdout",
     "output_type": "stream",
     "text": [
      "Longest string: elderberry\n"
     ]
    }
   ],
   "source": [
    "def find_longest_string(strings_tuple):\n",
    "    longest_string = \"\"\n",
    "    for string in strings_tuple:\n",
    "        if len(string) > len(longest_string):\n",
    "            longest_string = string\n",
    "    return longest_string\n",
    "\n",
    "# Test case\n",
    "strings_tuple = (\"apple\", \"banana\", \"cherry\", \"date\", \"elderberry\")\n",
    "\n",
    "longest = find_longest_string(strings_tuple)\n",
    "print(\"Longest string:\", longest)\n"
   ]
  },
  {
   "cell_type": "markdown",
   "id": "ebe2b268-1fbf-4594-8fe6-479022d6b73f",
   "metadata": {},
   "source": [
    "q.47 Find the shortest string in a tuple of strings."
   ]
  },
  {
   "cell_type": "code",
   "execution_count": 18,
   "id": "fbf16609-31cd-4302-a317-155707318316",
   "metadata": {},
   "outputs": [
    {
     "name": "stdout",
     "output_type": "stream",
     "text": [
      "Shortest string: date\n"
     ]
    }
   ],
   "source": [
    "def find_shortest_string(strings_tuple):\n",
    "    shortest_string = None\n",
    "    for string in strings_tuple:\n",
    "        if shortest_string is None or len(string) < len(shortest_string):\n",
    "            shortest_string = string\n",
    "    return shortest_string\n",
    "\n",
    "# Test case\n",
    "strings_tuple = (\"apple\", \"banana\", \"cherry\", \"date\", \"elderberry\")\n",
    "\n",
    "shortest = find_shortest_string(strings_tuple)\n",
    "print(\"Shortest string:\", shortest)\n"
   ]
  },
  {
   "cell_type": "markdown",
   "id": "fe3e6100-b65b-4800-9201-66e978d2a1fc",
   "metadata": {},
   "source": [
    "q.48 Create a tuple of the first `n` triangular numbers."
   ]
  },
  {
   "cell_type": "code",
   "execution_count": 19,
   "id": "48142b39-f48c-4e16-9dd7-3bc3aa52f61d",
   "metadata": {},
   "outputs": [
    {
     "name": "stdout",
     "output_type": "stream",
     "text": [
      "(1, 3, 6, 10, 15)\n"
     ]
    }
   ],
   "source": [
    "def triangular_numbers(n):\n",
    "    return tuple(i * (i + 1) // 2 for i in range(1, n + 1))\n",
    "\n",
    "# Test case\n",
    "n = 5\n",
    "\n",
    "triangular_tuple = triangular_numbers(n)\n",
    "print(triangular_tuple)\n"
   ]
  },
  {
   "cell_type": "markdown",
   "id": "852a26b8-a1a7-4ef3-ad47-18b4c9c95d29",
   "metadata": {},
   "source": [
    "q.49 Check if a tuple contains another tuple as a subsequence."
   ]
  },
  {
   "cell_type": "code",
   "execution_count": 20,
   "id": "8eafcd7e-5525-460c-9339-d0a88a83cc9d",
   "metadata": {},
   "outputs": [
    {
     "name": "stdout",
     "output_type": "stream",
     "text": [
      "True\n",
      "False\n"
     ]
    }
   ],
   "source": [
    "def contains_subtuple(main_tuple, sub_tuple):\n",
    "    main_len = len(main_tuple)\n",
    "    sub_len = len(sub_tuple)\n",
    "\n",
    "    for i in range(main_len - sub_len + 1):\n",
    "        if main_tuple[i:i + sub_len] == sub_tuple:\n",
    "            return True\n",
    "\n",
    "    return False\n",
    "\n",
    "# Test cases\n",
    "main_tuple = (1, 2, 3, 4, 5, 6)\n",
    "sub_tuple1 = (2, 3)\n",
    "sub_tuple2 = (4, 5, 6, 7)\n",
    "\n",
    "print(contains_subtuple(main_tuple, sub_tuple1))  # True, as (2, 3) is a subsequence\n",
    "print(contains_subtuple(main_tuple, sub_tuple2))  # False, as (4, 5, 6, 7) is not a subsequence\n"
   ]
  },
  {
   "cell_type": "markdown",
   "id": "c8dc7355-a0df-43fb-9018-a4feeef90c02",
   "metadata": {},
   "source": [
    "q.50 Create a tuple of alternating 1s and 0s of length `n`."
   ]
  },
  {
   "cell_type": "code",
   "execution_count": 21,
   "id": "f3138683-6997-47aa-829a-201e4d1cc45f",
   "metadata": {},
   "outputs": [
    {
     "name": "stdout",
     "output_type": "stream",
     "text": [
      "(0, 1, 0, 1, 0, 1, 0, 1, 0, 1)\n"
     ]
    }
   ],
   "source": [
    "def alternating_tuple(n):\n",
    "    return tuple(i % 2 for i in range(n))\n",
    "\n",
    "# Test case\n",
    "n = 10\n",
    "\n",
    "alternating = alternating_tuple(n)\n",
    "print(alternating)\n"
   ]
  },
  {
   "cell_type": "markdown",
   "id": "80cc527d-a6eb-43ff-807e-28ae3a450b68",
   "metadata": {},
   "source": [
    "Set based practice problem \n",
    "\n",
    "q.1 Create a set with integers from 1 to 5."
   ]
  },
  {
   "cell_type": "code",
   "execution_count": 22,
   "id": "b586d993-76ce-4c24-8cdd-a5897c45f2e5",
   "metadata": {},
   "outputs": [
    {
     "name": "stdout",
     "output_type": "stream",
     "text": [
      "{1, 2, 3, 4, 5}\n"
     ]
    }
   ],
   "source": [
    "# Create a set with integers from 1 to 5\n",
    "integer_set = {1, 2, 3, 4, 5}\n",
    "\n",
    "# Print the set\n",
    "print(integer_set)\n"
   ]
  },
  {
   "cell_type": "markdown",
   "id": "dc6ed766-b3aa-4ae4-b86d-3a36a2ba463c",
   "metadata": {},
   "source": [
    "q.2 Add an element to a set."
   ]
  },
  {
   "cell_type": "code",
   "execution_count": 23,
   "id": "58157807-3efb-4e8f-9d56-f1e812e94a7f",
   "metadata": {},
   "outputs": [
    {
     "name": "stdout",
     "output_type": "stream",
     "text": [
      "{1, 2, 3, 4}\n"
     ]
    }
   ],
   "source": [
    "# Create a set\n",
    "my_set = {1, 2, 3}\n",
    "\n",
    "# Add an element to the set\n",
    "my_set.add(4)\n",
    "\n",
    "# Print the updated set\n",
    "print(my_set)\n"
   ]
  },
  {
   "cell_type": "markdown",
   "id": "bf769ce3-b852-47b4-8e81-4300e83ece6a",
   "metadata": {},
   "source": [
    "q.3 Remove an element from a set."
   ]
  },
  {
   "cell_type": "code",
   "execution_count": 24,
   "id": "023762da-e544-4f60-8886-5502cd52a2f4",
   "metadata": {},
   "outputs": [
    {
     "name": "stdout",
     "output_type": "stream",
     "text": [
      "{1, 2, 4, 5}\n",
      "{1, 2, 4}\n"
     ]
    }
   ],
   "source": [
    "# Create a set\n",
    "my_set = {1, 2, 3, 4, 5}\n",
    "\n",
    "# Remove an element using the remove() method\n",
    "my_set.remove(3)\n",
    "print(my_set)  # Output: {1, 2, 4, 5}\n",
    "\n",
    "# Remove an element using the discard() method\n",
    "my_set.discard(5)\n",
    "print(my_set)  # Output: {1, 2, 4}\n"
   ]
  },
  {
   "cell_type": "markdown",
   "id": "ce7d9583-21ec-4b14-86f7-897755b5ef41",
   "metadata": {},
   "source": [
    "q.4 Check if an element exists in a set."
   ]
  },
  {
   "cell_type": "code",
   "execution_count": 25,
   "id": "d5a67615-3857-4f65-b87d-3c320f211909",
   "metadata": {},
   "outputs": [
    {
     "name": "stdout",
     "output_type": "stream",
     "text": [
      "3 exists in the set.\n"
     ]
    }
   ],
   "source": [
    "# Create a set\n",
    "my_set = {1, 2, 3, 4, 5}\n",
    "\n",
    "# Check if an element exists in the set\n",
    "element_to_check = 3\n",
    "if element_to_check in my_set:\n",
    "    print(f\"{element_to_check} exists in the set.\")\n",
    "else:\n",
    "    print(f\"{element_to_check} does not exist in the set.\")\n"
   ]
  },
  {
   "cell_type": "markdown",
   "id": "105f45c3-a998-4376-b841-d994e28f9b4e",
   "metadata": {},
   "source": [
    "q.5 Find the length of a set without using the `len()` function."
   ]
  },
  {
   "cell_type": "code",
   "execution_count": 26,
   "id": "441fb4ee-08ee-415e-9531-82189bafc1d6",
   "metadata": {},
   "outputs": [
    {
     "name": "stdout",
     "output_type": "stream",
     "text": [
      "Length of the set: 5\n"
     ]
    }
   ],
   "source": [
    "# Create a set\n",
    "my_set = {1, 2, 3, 4, 5}\n",
    "\n",
    "# Find the length of the set without using len()\n",
    "length = 0\n",
    "for _ in my_set:\n",
    "    length += 1\n",
    "\n",
    "print(\"Length of the set:\", length)\n"
   ]
  },
  {
   "cell_type": "markdown",
   "id": "305fa40b-6a2d-4477-8c2e-22833fc097e3",
   "metadata": {},
   "source": [
    "q.6 Clear all elements from a set."
   ]
  },
  {
   "cell_type": "code",
   "execution_count": 27,
   "id": "1c24f259-01c9-4193-81f8-1b054565a519",
   "metadata": {},
   "outputs": [
    {
     "name": "stdout",
     "output_type": "stream",
     "text": [
      "set()\n"
     ]
    }
   ],
   "source": [
    "# Create a set\n",
    "my_set = {1, 2, 3, 4, 5}\n",
    "\n",
    "# Clear all elements from the set\n",
    "my_set.clear()\n",
    "\n",
    "# Print the set after clearing\n",
    "print(my_set)  # Output: set()\n"
   ]
  },
  {
   "cell_type": "markdown",
   "id": "4f5b54fd-5083-42aa-acb2-784bd0613cd2",
   "metadata": {},
   "source": [
    "q.7 Create a set of even numbers from 1 to 10."
   ]
  },
  {
   "cell_type": "code",
   "execution_count": 28,
   "id": "71fb024d-4407-4e04-8325-538be330996e",
   "metadata": {},
   "outputs": [
    {
     "name": "stdout",
     "output_type": "stream",
     "text": [
      "{2, 4, 6, 8, 10}\n"
     ]
    }
   ],
   "source": [
    "# Create an empty set to store even numbers\n",
    "even_numbers = set()\n",
    "\n",
    "# Loop through numbers from 1 to 10\n",
    "for num in range(1, 11):\n",
    "    if num % 2 == 0:\n",
    "        even_numbers.add(num)\n",
    "\n",
    "# Print the set of even numbers\n",
    "print(even_numbers)\n"
   ]
  },
  {
   "cell_type": "markdown",
   "id": "034f0a44-c883-48f2-b138-8979e27725a7",
   "metadata": {},
   "source": [
    "q.8 Create a set of odd numbers from 1 to 10."
   ]
  },
  {
   "cell_type": "code",
   "execution_count": 29,
   "id": "b8cb8115-1cf4-4813-8460-d4a7c95dfdbd",
   "metadata": {},
   "outputs": [
    {
     "name": "stdout",
     "output_type": "stream",
     "text": [
      "{1, 3, 5, 7, 9}\n"
     ]
    }
   ],
   "source": [
    "# Create an empty set to store odd numbers\n",
    "odd_numbers = set()\n",
    "\n",
    "# Loop through numbers from 1 to 10\n",
    "for num in range(1, 11):\n",
    "    if num % 2 != 0:\n",
    "        odd_numbers.add(num)\n",
    "\n",
    "# Print the set of odd numbers\n",
    "print(odd_numbers)\n"
   ]
  },
  {
   "cell_type": "markdown",
   "id": "0834fa46-5694-44b2-b037-f5cbe112baa3",
   "metadata": {},
   "source": [
    "q.9 Find the union of two sets."
   ]
  },
  {
   "cell_type": "code",
   "execution_count": 30,
   "id": "2526a1cf-3e27-4ac8-b664-022a81cc9788",
   "metadata": {},
   "outputs": [],
   "source": [
    "#Using the union() method"
   ]
  },
  {
   "cell_type": "code",
   "execution_count": 31,
   "id": "fe9f8a12-7ef0-4651-ab3c-44ef724a9181",
   "metadata": {},
   "outputs": [
    {
     "name": "stdout",
     "output_type": "stream",
     "text": [
      "{1, 2, 3, 4, 5}\n"
     ]
    }
   ],
   "source": [
    "# Create two sets\n",
    "set1 = {1, 2, 3}\n",
    "set2 = {3, 4, 5}\n",
    "\n",
    "# Find the union of the two sets using the union() method\n",
    "union_set = set1.union(set2)\n",
    "\n",
    "# Print the union set\n",
    "print(union_set)\n"
   ]
  },
  {
   "cell_type": "code",
   "execution_count": 32,
   "id": "2123398e-9b80-4d2c-a939-a31e7e9b6813",
   "metadata": {},
   "outputs": [],
   "source": [
    "#Using the | operator"
   ]
  },
  {
   "cell_type": "code",
   "execution_count": 33,
   "id": "5bd98574-4122-4857-9dff-19af806ba944",
   "metadata": {},
   "outputs": [
    {
     "name": "stdout",
     "output_type": "stream",
     "text": [
      "{1, 2, 3, 4, 5}\n"
     ]
    }
   ],
   "source": [
    "# Create two sets\n",
    "set1 = {1, 2, 3}\n",
    "set2 = {3, 4, 5}\n",
    "\n",
    "# Find the union of the two sets using the | operator\n",
    "union_set = set1 | set2\n",
    "\n",
    "# Print the union set\n",
    "print(union_set)\n"
   ]
  },
  {
   "cell_type": "markdown",
   "id": "7698dc50-7477-4888-ba96-6ebf5033eb6c",
   "metadata": {},
   "source": [
    "q.10 Find the intersection of two sets."
   ]
  },
  {
   "cell_type": "code",
   "execution_count": 34,
   "id": "84044bd8-e111-4152-8c67-9158f121157e",
   "metadata": {},
   "outputs": [],
   "source": [
    "#Using the intersection() method"
   ]
  },
  {
   "cell_type": "code",
   "execution_count": 35,
   "id": "dee37b6b-0323-4c3d-be7d-20bfd0159aa8",
   "metadata": {},
   "outputs": [
    {
     "name": "stdout",
     "output_type": "stream",
     "text": [
      "{3, 4}\n"
     ]
    }
   ],
   "source": [
    "# Create two sets\n",
    "set1 = {1, 2, 3, 4}\n",
    "set2 = {3, 4, 5, 6}\n",
    "\n",
    "# Find the intersection of the two sets using the intersection() method\n",
    "intersection_set = set1.intersection(set2)\n",
    "\n",
    "# Print the intersection set\n",
    "print(intersection_set)\n"
   ]
  },
  {
   "cell_type": "code",
   "execution_count": 36,
   "id": "59a6bf96-50cd-4fa0-8c02-1cab74168064",
   "metadata": {},
   "outputs": [],
   "source": [
    "#Using the & operator"
   ]
  },
  {
   "cell_type": "code",
   "execution_count": 37,
   "id": "fd8eee3c-dd28-4db4-845c-ae00e6db475a",
   "metadata": {},
   "outputs": [
    {
     "name": "stdout",
     "output_type": "stream",
     "text": [
      "{3, 4}\n"
     ]
    }
   ],
   "source": [
    "# Create two sets\n",
    "set1 = {1, 2, 3, 4}\n",
    "set2 = {3, 4, 5, 6}\n",
    "\n",
    "# Find the intersection of the two sets using the & operator\n",
    "intersection_set = set1 & set2\n",
    "\n",
    "# Print the intersection set\n",
    "print(intersection_set)\n"
   ]
  },
  {
   "cell_type": "markdown",
   "id": "9ee03274-c223-460c-af16-c254e9828fba",
   "metadata": {},
   "source": [
    "q.11 Find the difference between two sets."
   ]
  },
  {
   "cell_type": "code",
   "execution_count": 38,
   "id": "7c1356eb-1182-44ee-820f-f965b291b97d",
   "metadata": {},
   "outputs": [],
   "source": [
    "#Using the difference() method"
   ]
  },
  {
   "cell_type": "code",
   "execution_count": 39,
   "id": "f88e773c-10e1-4085-8e81-8874df47125a",
   "metadata": {},
   "outputs": [
    {
     "name": "stdout",
     "output_type": "stream",
     "text": [
      "{1, 2}\n"
     ]
    }
   ],
   "source": [
    "# Create two sets\n",
    "set1 = {1, 2, 3, 4}\n",
    "set2 = {3, 4, 5, 6}\n",
    "\n",
    "# Find the difference between the two sets using the difference() method\n",
    "difference_set = set1.difference(set2)\n",
    "\n",
    "# Print the difference set\n",
    "print(difference_set)\n"
   ]
  },
  {
   "cell_type": "code",
   "execution_count": 40,
   "id": "75390b8f-ddb2-4c6d-9286-5b9903dbf20b",
   "metadata": {},
   "outputs": [],
   "source": [
    "#Using the - operator"
   ]
  },
  {
   "cell_type": "code",
   "execution_count": 41,
   "id": "a49cc893-1305-49f2-a91e-2534cc0a0fb3",
   "metadata": {},
   "outputs": [
    {
     "name": "stdout",
     "output_type": "stream",
     "text": [
      "{1, 2}\n"
     ]
    }
   ],
   "source": [
    "# Create two sets\n",
    "set1 = {1, 2, 3, 4}\n",
    "set2 = {3, 4, 5, 6}\n",
    "\n",
    "# Find the difference between the two sets using the - operator\n",
    "difference_set = set1 - set2\n",
    "\n",
    "# Print the difference set\n",
    "print(difference_set)\n"
   ]
  },
  {
   "cell_type": "markdown",
   "id": "95dfdc33-d7fc-40db-805f-70308af7e463",
   "metadata": {},
   "source": [
    "q.12 Check if a set is a subset of another set."
   ]
  },
  {
   "cell_type": "code",
   "execution_count": 42,
   "id": "8e183f46-f60d-40d9-b91b-f2c895c54e71",
   "metadata": {},
   "outputs": [
    {
     "name": "stdout",
     "output_type": "stream",
     "text": [
      "set2 is a subset of set1\n"
     ]
    }
   ],
   "source": [
    "# Create two sets\n",
    "set1 = {1, 2, 3, 4, 5}\n",
    "set2 = {3, 4}\n",
    "\n",
    "# Check if set2 is a subset of set1\n",
    "if set2.issubset(set1):\n",
    "    print(\"set2 is a subset of set1\")\n",
    "else:\n",
    "    print(\"set2 is not a subset of set1\")\n"
   ]
  },
  {
   "cell_type": "markdown",
   "id": "7c8340d2-8c17-492a-b7be-5814e62f1315",
   "metadata": {},
   "source": [
    "q.13 Check if a set is a superset of another set."
   ]
  },
  {
   "cell_type": "code",
   "execution_count": 44,
   "id": "ceefb038-f394-48c9-9a9c-2f256e3b1d1e",
   "metadata": {},
   "outputs": [
    {
     "name": "stdout",
     "output_type": "stream",
     "text": [
      "set1 is a superset of set2\n"
     ]
    }
   ],
   "source": [
    "# Create two sets\n",
    "set1 = {1, 2, 3, 4, 5}\n",
    "set2 = {3, 4}\n",
    "\n",
    "# Check if set1 is a superset of set2\n",
    "if set1.issuperset(set2):\n",
    "    print(\"set1 is a superset of set2\")\n",
    "else:\n",
    "    print(\"set1 is not a superset of set2\")\n"
   ]
  },
  {
   "cell_type": "markdown",
   "id": "e0991351-ff33-4c49-95aa-69523855b6e5",
   "metadata": {},
   "source": [
    "q.14 Create a set from a list."
   ]
  },
  {
   "cell_type": "code",
   "execution_count": 45,
   "id": "d6d35114-146f-40ae-83a5-2dc9ee3b55a0",
   "metadata": {},
   "outputs": [
    {
     "name": "stdout",
     "output_type": "stream",
     "text": [
      "{1, 2, 3, 4, 5}\n"
     ]
    }
   ],
   "source": [
    "# Create a list\n",
    "my_list = [1, 2, 3, 4, 5]\n",
    "\n",
    "# Create a set from the list\n",
    "my_set = set(my_list)\n",
    "\n",
    "# Print the set\n",
    "print(my_set)\n"
   ]
  },
  {
   "cell_type": "markdown",
   "id": "8b7002a1-5014-49d8-8716-57e6cc7805dd",
   "metadata": {},
   "source": [
    "q.15 Convert a set to a list."
   ]
  },
  {
   "cell_type": "code",
   "execution_count": 46,
   "id": "eb7fe305-a67c-4494-b458-b223d6046ed1",
   "metadata": {},
   "outputs": [
    {
     "name": "stdout",
     "output_type": "stream",
     "text": [
      "[1, 2, 3, 4, 5]\n"
     ]
    }
   ],
   "source": [
    "# Create a set\n",
    "my_set = {1, 2, 3, 4, 5}\n",
    "\n",
    "# Convert the set to a list\n",
    "my_list = list(my_set)\n",
    "\n",
    "# Print the list\n",
    "print(my_list)\n"
   ]
  },
  {
   "cell_type": "markdown",
   "id": "af2535fa-dfc3-4572-9453-40db3f82e33f",
   "metadata": {},
   "source": [
    "q.16 Remove a random element from a set."
   ]
  },
  {
   "cell_type": "code",
   "execution_count": 47,
   "id": "2541059b-7dbf-468a-83a6-067b4777346d",
   "metadata": {},
   "outputs": [
    {
     "name": "stdout",
     "output_type": "stream",
     "text": [
      "Removed element: 1\n",
      "Updated set: {2, 3, 4, 5}\n"
     ]
    }
   ],
   "source": [
    "# Create a set\n",
    "my_set = {1, 2, 3, 4, 5}\n",
    "\n",
    "# Remove a random element from the set using pop()\n",
    "removed_element = my_set.pop()\n",
    "\n",
    "# Print the removed element and the updated set\n",
    "print(\"Removed element:\", removed_element)\n",
    "print(\"Updated set:\", my_set)\n"
   ]
  },
  {
   "cell_type": "markdown",
   "id": "88a888ba-0404-4730-9270-8169b6bf57a7",
   "metadata": {},
   "source": [
    "q.17 Pop an element from a set."
   ]
  },
  {
   "cell_type": "code",
   "execution_count": 48,
   "id": "719808d2-37a5-4260-86be-8c9363effd3f",
   "metadata": {},
   "outputs": [
    {
     "name": "stdout",
     "output_type": "stream",
     "text": [
      "Popped element: 1\n",
      "Updated set: {2, 3, 4, 5}\n"
     ]
    }
   ],
   "source": [
    "# Create a set\n",
    "my_set = {1, 2, 3, 4, 5}\n",
    "\n",
    "# Pop an element from the set\n",
    "popped_element = my_set.pop()\n",
    "\n",
    "# Print the popped element and the updated set\n",
    "print(\"Popped element:\", popped_element)\n",
    "print(\"Updated set:\", my_set)\n"
   ]
  },
  {
   "cell_type": "markdown",
   "id": "0f709918-d367-4720-b5fc-cf9855263a11",
   "metadata": {},
   "source": [
    "q.18 Check if two sets have no elements in common."
   ]
  },
  {
   "cell_type": "code",
   "execution_count": 49,
   "id": "f2a674de-b80c-4ba1-bfca-d5e041b25a35",
   "metadata": {},
   "outputs": [
    {
     "name": "stdout",
     "output_type": "stream",
     "text": [
      "The sets have no elements in common.\n"
     ]
    }
   ],
   "source": [
    "# Create two sets\n",
    "set1 = {1, 2, 3}\n",
    "set2 = {4, 5, 6}\n",
    "\n",
    "# Check if the sets are disjoint\n",
    "if set1.isdisjoint(set2):\n",
    "    print(\"The sets have no elements in common.\")\n",
    "else:\n",
    "    print(\"The sets have some elements in common.\")\n"
   ]
  },
  {
   "cell_type": "markdown",
   "id": "14c23631-253e-48a8-a302-f558add83382",
   "metadata": {},
   "source": [
    "q.19 Find the symmetric difference between two sets."
   ]
  },
  {
   "cell_type": "code",
   "execution_count": 50,
   "id": "23cb190b-468d-4d88-aa73-c705325aabd5",
   "metadata": {},
   "outputs": [],
   "source": [
    "#Using the symmetric_difference() method"
   ]
  },
  {
   "cell_type": "code",
   "execution_count": 51,
   "id": "a5f3c45c-e77e-4f10-9a49-953a2f0d85be",
   "metadata": {},
   "outputs": [
    {
     "name": "stdout",
     "output_type": "stream",
     "text": [
      "{1, 2, 5, 6}\n"
     ]
    }
   ],
   "source": [
    "# Create two sets\n",
    "set1 = {1, 2, 3, 4}\n",
    "set2 = {3, 4, 5, 6}\n",
    "\n",
    "# Find the symmetric difference between the two sets using symmetric_difference()\n",
    "symmetric_diff_set = set1.symmetric_difference(set2)\n",
    "\n",
    "# Print the symmetric difference set\n",
    "print(symmetric_diff_set)\n"
   ]
  },
  {
   "cell_type": "code",
   "execution_count": 52,
   "id": "208bef25-0e3d-4aa7-9f9c-2a98e6e35316",
   "metadata": {},
   "outputs": [],
   "source": [
    "#Using the ^ operator"
   ]
  },
  {
   "cell_type": "code",
   "execution_count": 53,
   "id": "a4ea7160-ddc6-4be1-8f9d-c56d4586ea5d",
   "metadata": {},
   "outputs": [
    {
     "name": "stdout",
     "output_type": "stream",
     "text": [
      "{1, 2, 5, 6}\n"
     ]
    }
   ],
   "source": [
    "# Create two sets\n",
    "set1 = {1, 2, 3, 4}\n",
    "set2 = {3, 4, 5, 6}\n",
    "\n",
    "# Find the symmetric difference between the two sets using the ^ operator\n",
    "symmetric_diff_set = set1 ^ set2\n",
    "\n",
    "# Print the symmetric difference set\n",
    "print(symmetric_diff_set)\n"
   ]
  },
  {
   "cell_type": "markdown",
   "id": "31b7f168-1fac-41a7-baf1-6d9507d7f720",
   "metadata": {},
   "source": [
    "q.20 Update a set with elements from another set."
   ]
  },
  {
   "cell_type": "code",
   "execution_count": 54,
   "id": "300c59bd-797f-45b7-ae68-6f35f61df9ba",
   "metadata": {},
   "outputs": [
    {
     "name": "stdout",
     "output_type": "stream",
     "text": [
      "{1, 2, 3, 4, 5}\n"
     ]
    }
   ],
   "source": [
    "# Create two sets\n",
    "set1 = {1, 2, 3}\n",
    "set2 = {3, 4, 5}\n",
    "\n",
    "# Update set1 with elements from set2\n",
    "set1.update(set2)\n",
    "\n",
    "# Print the updated set1\n",
    "print(set1)\n"
   ]
  },
  {
   "cell_type": "markdown",
   "id": "9cd800cd-ee0d-44ee-823b-eb1768274387",
   "metadata": {},
   "source": [
    "q.21 Create a set of the first 5 prime numbers."
   ]
  },
  {
   "cell_type": "code",
   "execution_count": 55,
   "id": "9b08f81d-fa50-412c-857c-c134c6486c36",
   "metadata": {},
   "outputs": [
    {
     "name": "stdout",
     "output_type": "stream",
     "text": [
      "{2, 3, 5, 7, 11}\n"
     ]
    }
   ],
   "source": [
    "# Create a set of the first 5 prime numbers\n",
    "prime_numbers = {2, 3, 5, 7, 11}\n",
    "\n",
    "# Print the set\n",
    "print(prime_numbers)\n"
   ]
  },
  {
   "cell_type": "markdown",
   "id": "c3cae61e-b6d7-46e8-81fc-1f0e091c3b5b",
   "metadata": {},
   "source": [
    "q.22 Check if two sets are identical."
   ]
  },
  {
   "cell_type": "code",
   "execution_count": 56,
   "id": "54687cb4-c8cb-4813-941e-3fa82fe9ee7a",
   "metadata": {},
   "outputs": [],
   "source": [
    "# Using the == operator"
   ]
  },
  {
   "cell_type": "code",
   "execution_count": 57,
   "id": "e30ea418-e615-4c41-b6a5-73d49b365a06",
   "metadata": {},
   "outputs": [
    {
     "name": "stdout",
     "output_type": "stream",
     "text": [
      "The sets are identical.\n"
     ]
    }
   ],
   "source": [
    "# Create two sets\n",
    "set1 = {1, 2, 3}\n",
    "set2 = {3, 2, 1}\n",
    "\n",
    "# Check if the sets are identical using the == operator\n",
    "if set1 == set2:\n",
    "    print(\"The sets are identical.\")\n",
    "else:\n",
    "    print(\"The sets are not identical.\")\n"
   ]
  },
  {
   "cell_type": "code",
   "execution_count": 58,
   "id": "b6ca519c-9f98-434d-aec9-eddf8185b337",
   "metadata": {},
   "outputs": [],
   "source": [
    "#Using the issubset() and issuperset() methods"
   ]
  },
  {
   "cell_type": "code",
   "execution_count": 59,
   "id": "39872719-1091-4825-8969-0d9967b4f954",
   "metadata": {},
   "outputs": [
    {
     "name": "stdout",
     "output_type": "stream",
     "text": [
      "The sets are identical.\n"
     ]
    }
   ],
   "source": [
    "# Create two sets\n",
    "set1 = {1, 2, 3}\n",
    "set2 = {3, 2, 1}\n",
    "\n",
    "# Check if set2 is a subset of set1 and vice versa\n",
    "if set1.issubset(set2) and set2.issubset(set1):\n",
    "    print(\"The sets are identical.\")\n",
    "else:\n",
    "    print(\"The sets are not identical.\")\n"
   ]
  },
  {
   "cell_type": "markdown",
   "id": "d0dd2bf1-7447-4e9e-a686-967dfc803ad3",
   "metadata": {},
   "source": [
    "q.23 Create a frozen set."
   ]
  },
  {
   "cell_type": "code",
   "execution_count": 60,
   "id": "14c4ae88-136e-4bbb-a1b1-e6b27dccb07e",
   "metadata": {},
   "outputs": [
    {
     "name": "stdout",
     "output_type": "stream",
     "text": [
      "frozenset({1, 2, 3, 4, 5})\n"
     ]
    }
   ],
   "source": [
    "# Create a frozen set\n",
    "my_frozen_set = frozenset([1, 2, 3, 4, 5])\n",
    "\n",
    "# Print the frozen set\n",
    "print(my_frozen_set)\n"
   ]
  },
  {
   "cell_type": "markdown",
   "id": "329e4421-3583-4948-b65d-7a3831a74e56",
   "metadata": {},
   "source": [
    "q.24 Check if a set is disjoint with another set."
   ]
  },
  {
   "cell_type": "code",
   "execution_count": 61,
   "id": "d7ee5ab8-352e-43da-9037-22389ce39b16",
   "metadata": {},
   "outputs": [
    {
     "name": "stdout",
     "output_type": "stream",
     "text": [
      "The sets are disjoint (have no elements in common).\n"
     ]
    }
   ],
   "source": [
    "# Create two sets\n",
    "set1 = {1, 2, 3}\n",
    "set2 = {4, 5, 6}\n",
    "\n",
    "# Check if the sets are disjoint using the isdisjoint() method\n",
    "if set1.isdisjoint(set2):\n",
    "    print(\"The sets are disjoint (have no elements in common).\")\n",
    "else:\n",
    "    print(\"The sets are not disjoint (have some elements in common).\")\n"
   ]
  },
  {
   "cell_type": "markdown",
   "id": "01cef5e4-921f-46c1-a515-b5b5d0f55b62",
   "metadata": {},
   "source": [
    "q.25 Create a set of squares of numbers from 1 to 5."
   ]
  },
  {
   "cell_type": "code",
   "execution_count": 62,
   "id": "e22da86a-a06a-4335-8ce8-e71491039a52",
   "metadata": {},
   "outputs": [
    {
     "name": "stdout",
     "output_type": "stream",
     "text": [
      "{1, 4, 9, 16, 25}\n"
     ]
    }
   ],
   "source": [
    "# Create an empty set to store squares\n",
    "square_set = set()\n",
    "\n",
    "# Loop through numbers from 1 to 5\n",
    "for num in range(1, 6):\n",
    "    square_set.add(num ** 2)\n",
    "\n",
    "# Print the set of squares\n",
    "print(square_set)\n"
   ]
  },
  {
   "cell_type": "markdown",
   "id": "06862ae1-0b67-4914-9a50-6d351123d828",
   "metadata": {},
   "source": [
    "q.26 Filter out all even numbers from a set."
   ]
  },
  {
   "cell_type": "code",
   "execution_count": 2,
   "id": "b3ca7ca6-389c-4ba1-8eda-f6ff96a97bde",
   "metadata": {},
   "outputs": [
    {
     "name": "stdout",
     "output_type": "stream",
     "text": [
      "Original Set: {1, 2, 3, 4, 5, 6, 7, 8, 9, 10}\n",
      "Set with Odd Numbers: {1, 3, 5, 7, 9}\n"
     ]
    }
   ],
   "source": [
    "def filter_even_numbers(input_set):\n",
    "    return set(x for x in input_set if x % 2 != 0)\n",
    "\n",
    "input_set = {1, 2, 3, 4, 5, 6, 7, 8, 9, 10}\n",
    "result_set = filter_even_numbers(input_set)\n",
    "print(\"Original Set:\", input_set)\n",
    "print(\"Set with Odd Numbers:\", result_set)\n"
   ]
  },
  {
   "cell_type": "markdown",
   "id": "30d27759-556a-4edd-896f-9ecb0dd30253",
   "metadata": {},
   "source": [
    "q.27 Multiply all elements in a set by 2."
   ]
  },
  {
   "cell_type": "code",
   "execution_count": 3,
   "id": "66c6679d-7f04-4933-bb89-f1ae8d5b7023",
   "metadata": {},
   "outputs": [
    {
     "name": "stdout",
     "output_type": "stream",
     "text": [
      "Original Set: {1, 2, 3, 4, 5}\n",
      "Set with Elements Multiplied by 2 : {2, 4, 6, 8, 10}\n"
     ]
    }
   ],
   "source": [
    "def multiply_set_elements(input_set, multiplier):\n",
    "    return set(x * multiplier for x in input_set)\n",
    "\n",
    "input_set = {1, 2, 3, 4, 5}\n",
    "multiplier = 2\n",
    "result_set = multiply_set_elements(input_set, multiplier)\n",
    "\n",
    "print(\"Original Set:\", input_set)\n",
    "print(\"Set with Elements Multiplied by\", multiplier, \":\", result_set)\n"
   ]
  },
  {
   "cell_type": "markdown",
   "id": "18392fe2-b8fa-4428-9c03-c029591e058c",
   "metadata": {},
   "source": [
    "q.28 Create a set of random numbers."
   ]
  },
  {
   "cell_type": "code",
   "execution_count": 4,
   "id": "cd50958d-b2c7-479c-84ee-7488518e10c9",
   "metadata": {},
   "outputs": [
    {
     "name": "stdout",
     "output_type": "stream",
     "text": [
      "Random Set: {65, 99, 38, 8, 73, 13, 79, 81, 30}\n"
     ]
    }
   ],
   "source": [
    "import random\n",
    "\n",
    "def generate_random_set(size, start_range, end_range):\n",
    "    random_set = set()\n",
    "    for _ in range(size):\n",
    "        random_set.add(random.randint(start_range, end_range))\n",
    "    return random_set\n",
    "\n",
    "size = 10  # Number of random elements in the set\n",
    "start_range = 1  # Minimum value for random numbers\n",
    "end_range = 100  # Maximum value for random numbers\n",
    "\n",
    "random_set = generate_random_set(size, start_range, end_range)\n",
    "print(\"Random Set:\", random_set)\n"
   ]
  },
  {
   "cell_type": "markdown",
   "id": "850e0846-9faa-45d1-adef-5aaf1e41a67c",
   "metadata": {},
   "source": [
    "q.29 Check if a set is empty."
   ]
  },
  {
   "cell_type": "code",
   "execution_count": 5,
   "id": "cdd2664c-f1ef-41d9-a973-4b5f2a936ecc",
   "metadata": {},
   "outputs": [
    {
     "name": "stdout",
     "output_type": "stream",
     "text": [
      "Is the empty_set empty? True\n",
      "Is the non_empty_set empty? False\n"
     ]
    }
   ],
   "source": [
    "def check_if_empty(input_set):\n",
    "    if len(input_set) == 0:\n",
    "        return True\n",
    "    else:\n",
    "        return False\n",
    "\n",
    "# Example sets\n",
    "empty_set = set()\n",
    "non_empty_set = {1, 2, 3}\n",
    "\n",
    "# Check if sets are empty\n",
    "empty_result = check_if_empty(empty_set)\n",
    "non_empty_result = check_if_empty(non_empty_set)\n",
    "\n",
    "print(\"Is the empty_set empty?\", empty_result)\n",
    "print(\"Is the non_empty_set empty?\", non_empty_result)\n"
   ]
  },
  {
   "cell_type": "markdown",
   "id": "f0c1d043-b7e6-4b7f-9406-3b5bbf00d76a",
   "metadata": {},
   "source": [
    "q.30 Create a nested set (hint: use frozenset)."
   ]
  },
  {
   "cell_type": "code",
   "execution_count": 6,
   "id": "f3362cb9-ab55-41f8-bcd9-c3d6acb60491",
   "metadata": {},
   "outputs": [
    {
     "name": "stdout",
     "output_type": "stream",
     "text": [
      "Nested Set: {frozenset({3, 4, 5}), frozenset({1, 2}), frozenset({8, 9, 6, 7})}\n"
     ]
    }
   ],
   "source": [
    "# Creating nested sets using frozensets\n",
    "nested_set = {frozenset({1, 2}), frozenset({3, 4, 5}), frozenset({6, 7, 8, 9})}\n",
    "\n",
    "print(\"Nested Set:\", nested_set)\n"
   ]
  },
  {
   "cell_type": "markdown",
   "id": "ab5b8f49-b27d-40c5-9c0a-040ad5da1ede",
   "metadata": {},
   "source": [
    "q.31 Remove an element from a set using the discard method."
   ]
  },
  {
   "cell_type": "code",
   "execution_count": 7,
   "id": "aead47db-e345-44a8-a9d5-40700e2e7501",
   "metadata": {},
   "outputs": [
    {
     "name": "stdout",
     "output_type": "stream",
     "text": [
      "Original Set: {1, 2, 3, 4, 5}\n",
      "Set after discarding 3 : {1, 2, 4, 5}\n"
     ]
    }
   ],
   "source": [
    "my_set = {1, 2, 3, 4, 5}\n",
    "element_to_remove = 3\n",
    "\n",
    "print(\"Original Set:\", my_set)\n",
    "my_set.discard(element_to_remove)\n",
    "print(\"Set after discarding\", element_to_remove, \":\", my_set)\n"
   ]
  },
  {
   "cell_type": "markdown",
   "id": "3a6193eb-5eca-4b39-87bb-20815ac2dc5b",
   "metadata": {},
   "source": [
    "q.32 Compare two sets."
   ]
  },
  {
   "cell_type": "code",
   "execution_count": 8,
   "id": "211a56e7-3962-4d05-96e8-ece9e8657491",
   "metadata": {},
   "outputs": [],
   "source": [
    "#Equality: Check if two sets are equal."
   ]
  },
  {
   "cell_type": "code",
   "execution_count": 9,
   "id": "785f4727-8c9e-4995-9767-82fca464fab3",
   "metadata": {},
   "outputs": [
    {
     "name": "stdout",
     "output_type": "stream",
     "text": [
      "Are the sets equal? True\n"
     ]
    }
   ],
   "source": [
    "set1 = {1, 2, 3}\n",
    "set2 = {3, 1, 2}\n",
    "\n",
    "are_equal = set1 == set2\n",
    "print(\"Are the sets equal?\", are_equal)\n"
   ]
  },
  {
   "cell_type": "code",
   "execution_count": 10,
   "id": "331e63b9-c0ee-4289-90f3-b0846315e94b",
   "metadata": {},
   "outputs": [],
   "source": [
    "#Subset and Superset: Check if one set is a subset or superset of the other."
   ]
  },
  {
   "cell_type": "code",
   "execution_count": 11,
   "id": "09771bc3-9ca4-4117-88bd-eaba8f9f04e5",
   "metadata": {},
   "outputs": [
    {
     "name": "stdout",
     "output_type": "stream",
     "text": [
      "Is set1 a subset of set2? True\n",
      "Is set2 a superset of set1? True\n"
     ]
    }
   ],
   "source": [
    "set1 = {1, 2}\n",
    "set2 = {1, 2, 3, 4}\n",
    "\n",
    "is_subset = set1.issubset(set2)\n",
    "is_superset = set2.issuperset(set1)\n",
    "\n",
    "print(\"Is set1 a subset of set2?\", is_subset)\n",
    "print(\"Is set2 a superset of set1?\", is_superset)\n"
   ]
  },
  {
   "cell_type": "code",
   "execution_count": 12,
   "id": "03a9992d-b1a9-4fab-97ae-9e678feb8c6c",
   "metadata": {},
   "outputs": [],
   "source": [
    "#Intersection and Disjoint: Check if two sets have any common elements."
   ]
  },
  {
   "cell_type": "code",
   "execution_count": 13,
   "id": "9792ce5d-97ac-4a51-8345-ab86491d52c7",
   "metadata": {},
   "outputs": [
    {
     "name": "stdout",
     "output_type": "stream",
     "text": [
      "Do the sets have any common elements? True\n"
     ]
    }
   ],
   "source": [
    "set1 = {1, 2, 3}\n",
    "set2 = {3, 4, 5}\n",
    "\n",
    "has_intersection = not set1.isdisjoint(set2)\n",
    "print(\"Do the sets have any common elements?\", has_intersection)\n"
   ]
  },
  {
   "cell_type": "code",
   "execution_count": 14,
   "id": "3ac6b5e1-df36-4569-8d2b-ab24c38af884",
   "metadata": {},
   "outputs": [],
   "source": [
    "#Difference: Find the elements that are unique to each set"
   ]
  },
  {
   "cell_type": "code",
   "execution_count": 15,
   "id": "6a44e9c9-5d5e-4c63-9bc8-1fa8b105de5e",
   "metadata": {},
   "outputs": [
    {
     "name": "stdout",
     "output_type": "stream",
     "text": [
      "Elements unique to set1: {1, 2}\n",
      "Elements unique to set2: {4, 5}\n"
     ]
    }
   ],
   "source": [
    "set1 = {1, 2, 3}\n",
    "set2 = {3, 4, 5}\n",
    "\n",
    "set1_unique = set1.difference(set2)\n",
    "set2_unique = set2.difference(set1)\n",
    "\n",
    "print(\"Elements unique to set1:\", set1_unique)\n",
    "print(\"Elements unique to set2:\", set2_unique)\n"
   ]
  },
  {
   "cell_type": "code",
   "execution_count": 16,
   "id": "85d5d908-777a-4ba8-b65f-d1911d8fe415",
   "metadata": {},
   "outputs": [],
   "source": [
    "#Union: Combine two sets while eliminating duplicates."
   ]
  },
  {
   "cell_type": "code",
   "execution_count": 17,
   "id": "1d638ba9-6354-405c-99e3-bb118fd95a6b",
   "metadata": {},
   "outputs": [
    {
     "name": "stdout",
     "output_type": "stream",
     "text": [
      "Combined set: {1, 2, 3, 4, 5}\n"
     ]
    }
   ],
   "source": [
    "set1 = {1, 2, 3}\n",
    "set2 = {3, 4, 5}\n",
    "\n",
    "combined_set = set1.union(set2)\n",
    "print(\"Combined set:\", combined_set)\n"
   ]
  },
  {
   "cell_type": "code",
   "execution_count": 18,
   "id": "b3fc8d2b-feaf-4df3-9079-e71df6d1d2db",
   "metadata": {},
   "outputs": [],
   "source": [
    "#Symmetric Difference: Find elements that are in either of the sets but not in their intersection."
   ]
  },
  {
   "cell_type": "code",
   "execution_count": 19,
   "id": "fccaf43c-1597-43ba-b5eb-9142ff43d4ca",
   "metadata": {},
   "outputs": [
    {
     "name": "stdout",
     "output_type": "stream",
     "text": [
      "Symmetric difference: {1, 2, 4, 5}\n"
     ]
    }
   ],
   "source": [
    "set1 = {1, 2, 3}\n",
    "set2 = {3, 4, 5}\n",
    "\n",
    "symmetric_diff = set1.symmetric_difference(set2)\n",
    "print(\"Symmetric difference:\", symmetric_diff)\n"
   ]
  },
  {
   "cell_type": "markdown",
   "id": "3c94443a-a224-4eed-9927-bfd8bab9bf39",
   "metadata": {},
   "source": [
    "q.33 Create a set from a string."
   ]
  },
  {
   "cell_type": "code",
   "execution_count": 20,
   "id": "97fc82cf-0460-4ef8-9490-ce4a475ebfa3",
   "metadata": {},
   "outputs": [
    {
     "name": "stdout",
     "output_type": "stream",
     "text": [
      "Original String: hello\n",
      "Set of Characters: {'h', 'e', 'o', 'l'}\n"
     ]
    }
   ],
   "source": [
    "my_string = \"hello\"\n",
    "char_set = set(my_string)\n",
    "\n",
    "print(\"Original String:\", my_string)\n",
    "print(\"Set of Characters:\", char_set)\n"
   ]
  },
  {
   "cell_type": "markdown",
   "id": "b607114f-8006-4ff3-beff-4af5fc5aaf8f",
   "metadata": {},
   "source": [
    "q.34 Convert a set of strings to a set of integers."
   ]
  },
  {
   "cell_type": "code",
   "execution_count": 21,
   "id": "b377579d-c159-42de-b357-66a74f1e4a96",
   "metadata": {},
   "outputs": [
    {
     "name": "stdout",
     "output_type": "stream",
     "text": [
      "Original Set of Strings: {'5', '2', '3', '4', '1'}\n",
      "Set of Integers: {1, 2, 3, 4, 5}\n"
     ]
    }
   ],
   "source": [
    "string_set = {\"1\", \"2\", \"3\", \"4\", \"5\"}\n",
    "integer_set = set(int(x) for x in string_set)\n",
    "\n",
    "print(\"Original Set of Strings:\", string_set)\n",
    "print(\"Set of Integers:\", integer_set)\n"
   ]
  },
  {
   "cell_type": "markdown",
   "id": "dae8b926-3bd9-4058-a88d-6085cf4aa89f",
   "metadata": {},
   "source": [
    "q.35 Convert a set of integers to a set of strings."
   ]
  },
  {
   "cell_type": "code",
   "execution_count": 22,
   "id": "c707030e-5d72-42f8-9dca-24e3f205a994",
   "metadata": {},
   "outputs": [
    {
     "name": "stdout",
     "output_type": "stream",
     "text": [
      "Original Set of Integers: {1, 2, 3, 4, 5}\n",
      "Set of Strings: {'5', '1', '2', '3', '4'}\n"
     ]
    }
   ],
   "source": [
    "integer_set = {1, 2, 3, 4, 5}\n",
    "string_set = set(str(x) for x in integer_set)\n",
    "\n",
    "print(\"Original Set of Integers:\", integer_set)\n",
    "print(\"Set of Strings:\", string_set)\n"
   ]
  },
  {
   "cell_type": "markdown",
   "id": "eb190b44-171b-476e-a2e3-50fb5b18f0fb",
   "metadata": {},
   "source": [
    "q.36 Create a set from a tuple."
   ]
  },
  {
   "cell_type": "code",
   "execution_count": 23,
   "id": "a2d937cd-9446-4c64-a432-c17796da0e05",
   "metadata": {},
   "outputs": [
    {
     "name": "stdout",
     "output_type": "stream",
     "text": [
      "Original Tuple: (1, 2, 3, 4, 5)\n",
      "Set from Tuple: {1, 2, 3, 4, 5}\n"
     ]
    }
   ],
   "source": [
    "my_tuple = (1, 2, 3, 4, 5)\n",
    "tuple_set = set(my_tuple)\n",
    "\n",
    "print(\"Original Tuple:\", my_tuple)\n",
    "print(\"Set from Tuple:\", tuple_set)\n"
   ]
  },
  {
   "cell_type": "markdown",
   "id": "1d5635a9-730e-413f-8d46-0380b7afff58",
   "metadata": {},
   "source": [
    "q.37 Convert a set to a tuple."
   ]
  },
  {
   "cell_type": "code",
   "execution_count": 24,
   "id": "614f2acd-2e9f-4fa5-80c2-bcf93725393d",
   "metadata": {},
   "outputs": [
    {
     "name": "stdout",
     "output_type": "stream",
     "text": [
      "Original Set: {1, 2, 3, 4, 5}\n",
      "Tuple from Set: (1, 2, 3, 4, 5)\n"
     ]
    }
   ],
   "source": [
    "my_set = {1, 2, 3, 4, 5}\n",
    "set_tuple = tuple(my_set)\n",
    "\n",
    "print(\"Original Set:\", my_set)\n",
    "print(\"Tuple from Set:\", set_tuple)\n"
   ]
  },
  {
   "cell_type": "markdown",
   "id": "dda45f2d-2e16-4211-b37a-c488593fada0",
   "metadata": {},
   "source": [
    "q.38 Find the maximum value in a set."
   ]
  },
  {
   "cell_type": "code",
   "execution_count": 25,
   "id": "000c74dc-c599-4fbc-a19e-31daf7119d6c",
   "metadata": {},
   "outputs": [
    {
     "name": "stdout",
     "output_type": "stream",
     "text": [
      "Set: {3, 5, 25, 10, 15}\n",
      "Maximum value: 25\n"
     ]
    }
   ],
   "source": [
    "my_set = {10, 5, 25, 3, 15}\n",
    "max_value = max(my_set)\n",
    "\n",
    "print(\"Set:\", my_set)\n",
    "print(\"Maximum value:\", max_value)\n"
   ]
  },
  {
   "cell_type": "markdown",
   "id": "22bd7883-5290-4792-ab6a-bb5f77836a98",
   "metadata": {},
   "source": [
    "q.39 Find the minimum value in a set."
   ]
  },
  {
   "cell_type": "code",
   "execution_count": 26,
   "id": "50dc581c-ed6a-4d09-96a6-297a8ae4c41c",
   "metadata": {},
   "outputs": [
    {
     "name": "stdout",
     "output_type": "stream",
     "text": [
      "Set: {3, 5, 25, 10, 15}\n",
      "Minimum value: 3\n"
     ]
    }
   ],
   "source": [
    "my_set = {10, 5, 25, 3, 15}\n",
    "min_value = min(my_set)\n",
    "\n",
    "print(\"Set:\", my_set)\n",
    "print(\"Minimum value:\", min_value)\n"
   ]
  },
  {
   "cell_type": "markdown",
   "id": "c3cca73f-7083-4861-9f76-3ad7984c4970",
   "metadata": {},
   "source": [
    "q.40 Create a set from user input."
   ]
  },
  {
   "cell_type": "code",
   "execution_count": 27,
   "id": "e7fe80d8-3904-4ebc-9728-bad9e1e8bd95",
   "metadata": {},
   "outputs": [
    {
     "name": "stdin",
     "output_type": "stream",
     "text": [
      "Enter a value (or 'stop' to finish):  20\n",
      "Enter a value (or 'stop' to finish):  60\n",
      "Enter a value (or 'stop' to finish):  80\n",
      "Enter a value (or 'stop' to finish):  100\n",
      "Enter a value (or 'stop' to finish):  300\n",
      "Enter a value (or 'stop' to finish):  50\n",
      "Enter a value (or 'stop' to finish):  0\n",
      "Enter a value (or 'stop' to finish):  10\n",
      "Enter a value (or 'stop' to finish):  10\n",
      "Enter a value (or 'stop' to finish):  20\n",
      "Enter a value (or 'stop' to finish):  30\n",
      "Enter a value (or 'stop' to finish):  40\n",
      "Enter a value (or 'stop' to finish):  finish\n"
     ]
    },
    {
     "name": "stdout",
     "output_type": "stream",
     "text": [
      "Invalid input. Please enter a valid integer or 'stop'.\n"
     ]
    },
    {
     "name": "stdin",
     "output_type": "stream",
     "text": [
      "Enter a value (or 'stop' to finish):  stop\n"
     ]
    },
    {
     "name": "stdout",
     "output_type": "stream",
     "text": [
      "Final Set: {0, 100, 40, 10, 300, 80, 50, 20, 60, 30}\n"
     ]
    }
   ],
   "source": [
    "user_set = set()\n",
    "\n",
    "while True:\n",
    "    user_input = input(\"Enter a value (or 'stop' to finish): \")\n",
    "    if user_input.lower() == 'stop':\n",
    "        break\n",
    "    try:\n",
    "        value = int(user_input)\n",
    "        user_set.add(value)\n",
    "    except ValueError:\n",
    "        print(\"Invalid input. Please enter a valid integer or 'stop'.\")\n",
    "\n",
    "print(\"Final Set:\", user_set)\n"
   ]
  },
  {
   "cell_type": "markdown",
   "id": "bf5fef23-6320-420c-b9ff-4ae74c4ceeff",
   "metadata": {},
   "source": [
    "q.41 Check if the intersection of two sets is empty."
   ]
  },
  {
   "cell_type": "code",
   "execution_count": 28,
   "id": "d8e02255-6eb2-4b36-92c7-74974544dcbe",
   "metadata": {},
   "outputs": [
    {
     "name": "stdout",
     "output_type": "stream",
     "text": [
      "Set 1: {1, 2, 3}\n",
      "Set 2: {4, 5, 6}\n",
      "Is the intersection empty? True\n"
     ]
    }
   ],
   "source": [
    "set1 = {1, 2, 3}\n",
    "set2 = {4, 5, 6}\n",
    "\n",
    "is_intersection_empty = set1.isdisjoint(set2)\n",
    "\n",
    "print(\"Set 1:\", set1)\n",
    "print(\"Set 2:\", set2)\n",
    "print(\"Is the intersection empty?\", is_intersection_empty)\n"
   ]
  },
  {
   "cell_type": "markdown",
   "id": "aa9001d3-6c99-4139-85a1-ba647a3a858c",
   "metadata": {},
   "source": [
    "q.42 Create a set of the first 5 Fibonacci numbers."
   ]
  },
  {
   "cell_type": "code",
   "execution_count": 29,
   "id": "6f8acba4-8eb2-427c-b779-0cf0d9b28ac5",
   "metadata": {},
   "outputs": [
    {
     "name": "stdout",
     "output_type": "stream",
     "text": [
      "Set of the first 5 Fibonacci numbers: {0, 1, 2, 3}\n"
     ]
    }
   ],
   "source": [
    "def generate_fibonacci(n):\n",
    "    fibonacci_set = set()\n",
    "    a, b = 0, 1\n",
    "    for _ in range(n):\n",
    "        fibonacci_set.add(a)\n",
    "        a, b = b, a + b\n",
    "    return fibonacci_set\n",
    "\n",
    "n = 5\n",
    "fibonacci_numbers = generate_fibonacci(n)\n",
    "\n",
    "print(\"Set of the first\", n, \"Fibonacci numbers:\", fibonacci_numbers)\n"
   ]
  },
  {
   "cell_type": "markdown",
   "id": "64501565-1a9c-4f06-948c-a99a47417fea",
   "metadata": {},
   "source": [
    "q.43 Remove duplicates from a list using sets."
   ]
  },
  {
   "cell_type": "code",
   "execution_count": 30,
   "id": "5573012b-22e3-4ca7-a34b-ce61c201d9b0",
   "metadata": {},
   "outputs": [
    {
     "name": "stdout",
     "output_type": "stream",
     "text": [
      "Original List: [1, 2, 2, 3, 4, 4, 5, 6, 6]\n",
      "List after removing duplicates: [1, 2, 3, 4, 5, 6]\n"
     ]
    }
   ],
   "source": [
    "original_list = [1, 2, 2, 3, 4, 4, 5, 6, 6]\n",
    "\n",
    "# Convert the list to a set to remove duplicates\n",
    "unique_set = set(original_list)\n",
    "\n",
    "# Convert the set back to a list to preserve order (if needed)\n",
    "unique_list = list(unique_set)\n",
    "\n",
    "print(\"Original List:\", original_list)\n",
    "print(\"List after removing duplicates:\", unique_list)\n"
   ]
  },
  {
   "cell_type": "markdown",
   "id": "11419996-ffe0-44fc-b412-8f7a4dae1f25",
   "metadata": {},
   "source": [
    "q.44 Check if two sets have the same elements, regardless of their count."
   ]
  },
  {
   "cell_type": "code",
   "execution_count": 31,
   "id": "0586af99-e5e4-4469-83f2-cf1e1ca4c688",
   "metadata": {},
   "outputs": [
    {
     "name": "stdout",
     "output_type": "stream",
     "text": [
      "Set 1: {1, 2, 3, 4, 5}\n",
      "Set 2: {1, 2, 3, 4, 5}\n",
      "Do the sets have the same elements? True\n"
     ]
    }
   ],
   "source": [
    "set1 = {1, 2, 3, 4, 4, 5}\n",
    "set2 = {5, 4, 3, 2, 1}\n",
    "\n",
    "are_equal = set1 == set2\n",
    "\n",
    "print(\"Set 1:\", set1)\n",
    "print(\"Set 2:\", set2)\n",
    "print(\"Do the sets have the same elements?\", are_equal)\n"
   ]
  },
  {
   "cell_type": "markdown",
   "id": "43463527-f8f2-4e13-9881-ac1791966a40",
   "metadata": {},
   "source": [
    "q.45 Create a set of the first `n` powers of 2."
   ]
  },
  {
   "cell_type": "code",
   "execution_count": 32,
   "id": "adb8c79d-c3d1-4d07-8e90-c80d5c5262cd",
   "metadata": {},
   "outputs": [
    {
     "name": "stdout",
     "output_type": "stream",
     "text": [
      "Set of the first 5 powers of 2: {1, 2, 4, 8, 16}\n"
     ]
    }
   ],
   "source": [
    "def generate_powers_of_2(n):\n",
    "    powers_set = set()\n",
    "    for i in range(n):\n",
    "        powers_set.add(2 ** i)\n",
    "    return powers_set\n",
    "\n",
    "n = 5\n",
    "powers_of_2 = generate_powers_of_2(n)\n",
    "\n",
    "print(\"Set of the first\", n, \"powers of 2:\", powers_of_2)\n"
   ]
  },
  {
   "cell_type": "markdown",
   "id": "798187aa-2df7-4d79-9795-8efcb19257b5",
   "metadata": {},
   "source": [
    "q.46 Find the common elements between a set and a list."
   ]
  },
  {
   "cell_type": "code",
   "execution_count": 33,
   "id": "67621fdc-955e-4478-b3ee-f4b879e1d4ff",
   "metadata": {},
   "outputs": [
    {
     "name": "stdout",
     "output_type": "stream",
     "text": [
      "Set: {1, 2, 3, 4, 5}\n",
      "List: [3, 4, 5, 6, 7]\n",
      "Common elements using intersection(): {3, 4, 5}\n",
      "Common elements using set comprehension: {3, 4, 5}\n"
     ]
    }
   ],
   "source": [
    "set1 = {1, 2, 3, 4, 5}\n",
    "list1 = [3, 4, 5, 6, 7]\n",
    "\n",
    "# Using intersection() method\n",
    "common_elements = set1.intersection(list1)\n",
    "\n",
    "print(\"Set:\", set1)\n",
    "print(\"List:\", list1)\n",
    "print(\"Common elements using intersection():\", common_elements)\n",
    "\n",
    "# Using set comprehension\n",
    "common_elements_set = {x for x in set1 if x in list1}\n",
    "\n",
    "print(\"Common elements using set comprehension:\", common_elements_set)\n"
   ]
  },
  {
   "cell_type": "markdown",
   "id": "7edfffcb-086d-4029-ba2f-c75080d07b46",
   "metadata": {},
   "source": [
    "q.47 Create a set of the first `n` triangular numbers."
   ]
  },
  {
   "cell_type": "code",
   "execution_count": 34,
   "id": "d9d64632-ec55-48ad-be31-a88d34e7e6c5",
   "metadata": {},
   "outputs": [
    {
     "name": "stdout",
     "output_type": "stream",
     "text": [
      "Set of the first 5 triangular numbers: {1, 3, 6, 10, 15}\n"
     ]
    }
   ],
   "source": [
    "def generate_triangular_numbers(n):\n",
    "    triangular_set = set()\n",
    "    current_sum = 0\n",
    "    for i in range(1, n + 1):\n",
    "        current_sum += i\n",
    "        triangular_set.add(current_sum)\n",
    "    return triangular_set\n",
    "\n",
    "n = 5\n",
    "triangular_numbers = generate_triangular_numbers(n)\n",
    "\n",
    "print(\"Set of the first\", n, \"triangular numbers:\", triangular_numbers)\n"
   ]
  },
  {
   "cell_type": "markdown",
   "id": "4b4afadb-b283-4dc8-96c4-d108ddcaf00b",
   "metadata": {},
   "source": [
    "q.48 Check if a set contains another set as a subset."
   ]
  },
  {
   "cell_type": "code",
   "execution_count": 35,
   "id": "5bb83685-f2ae-4555-9da6-3a79541ea276",
   "metadata": {},
   "outputs": [
    {
     "name": "stdout",
     "output_type": "stream",
     "text": [
      "Set 1: {1, 2, 3, 4, 5}\n",
      "Set 2: {2, 3}\n",
      "Is set2 a subset of set1? True\n"
     ]
    }
   ],
   "source": [
    "set1 = {1, 2, 3, 4, 5}\n",
    "set2 = {2, 3}\n",
    "\n",
    "is_subset = set2.issubset(set1)\n",
    "\n",
    "print(\"Set 1:\", set1)\n",
    "print(\"Set 2:\", set2)\n",
    "print(\"Is set2 a subset of set1?\", is_subset)\n"
   ]
  },
  {
   "cell_type": "markdown",
   "id": "aac4c6ed-1aed-4d0b-97bb-c5418a76b832",
   "metadata": {},
   "source": [
    "q.49 Create a set of alternating 1s and 0s of length `n`."
   ]
  },
  {
   "cell_type": "code",
   "execution_count": 36,
   "id": "265168f5-5067-44a4-986d-b20601285ac1",
   "metadata": {},
   "outputs": [
    {
     "name": "stdout",
     "output_type": "stream",
     "text": [
      "Set of alternating 1s and 0s of length 10 : {0, 1}\n"
     ]
    }
   ],
   "source": [
    "def generate_alternating_set(n):\n",
    "    alternating_set = set()\n",
    "    for i in range(n):\n",
    "        alternating_set.add(i % 2)\n",
    "    return alternating_set\n",
    "\n",
    "n = 10\n",
    "alternating_sequence = generate_alternating_set(n)\n",
    "\n",
    "print(\"Set of alternating 1s and 0s of length\", n, \":\", alternating_sequence)\n"
   ]
  },
  {
   "cell_type": "markdown",
   "id": "28f8bfc1-b837-4398-b1d9-dfb0a79b1637",
   "metadata": {},
   "source": [
    "q.50 Merge multiple sets into one."
   ]
  },
  {
   "cell_type": "code",
   "execution_count": 37,
   "id": "871a51ec-4021-49d4-b898-54fbac2c0425",
   "metadata": {},
   "outputs": [],
   "source": [
    "#Using union() method:"
   ]
  },
  {
   "cell_type": "code",
   "execution_count": 38,
   "id": "cba7cdeb-2911-442c-9c9d-0aa5c89d7eac",
   "metadata": {},
   "outputs": [
    {
     "name": "stdout",
     "output_type": "stream",
     "text": [
      "Merged Set using union(): {1, 2, 3, 4, 5, 6, 7}\n"
     ]
    }
   ],
   "source": [
    "set1 = {1, 2, 3}\n",
    "set2 = {3, 4, 5}\n",
    "set3 = {5, 6, 7}\n",
    "\n",
    "merged_set = set1.union(set2, set3)\n",
    "\n",
    "print(\"Merged Set using union():\", merged_set)\n"
   ]
  },
  {
   "cell_type": "code",
   "execution_count": 39,
   "id": "c0d8a7df-949b-4be9-aa03-eadfc3de8b63",
   "metadata": {},
   "outputs": [],
   "source": [
    "#Using | operator:"
   ]
  },
  {
   "cell_type": "code",
   "execution_count": 40,
   "id": "6f05af1b-20dd-4153-a662-7bcbad349d84",
   "metadata": {},
   "outputs": [
    {
     "name": "stdout",
     "output_type": "stream",
     "text": [
      "Merged Set using | operator: {1, 2, 3, 4, 5, 6, 7}\n"
     ]
    }
   ],
   "source": [
    "set1 = {1, 2, 3}\n",
    "set2 = {3, 4, 5}\n",
    "set3 = {5, 6, 7}\n",
    "\n",
    "merged_set = set1 | set2 | set3\n",
    "\n",
    "print(\"Merged Set using | operator:\", merged_set)\n"
   ]
  },
  {
   "cell_type": "code",
   "execution_count": 41,
   "id": "e2cd262e-6bb8-488e-b31f-4b264a734d78",
   "metadata": {},
   "outputs": [],
   "source": [
    "# ASSIGNMENT FINISH 20 AUG 2023"
   ]
  }
 ],
 "metadata": {
  "kernelspec": {
   "display_name": "Python 3 (ipykernel)",
   "language": "python",
   "name": "python3"
  },
  "language_info": {
   "codemirror_mode": {
    "name": "ipython",
    "version": 3
   },
   "file_extension": ".py",
   "mimetype": "text/x-python",
   "name": "python",
   "nbconvert_exporter": "python",
   "pygments_lexer": "ipython3",
   "version": "3.10.8"
  }
 },
 "nbformat": 4,
 "nbformat_minor": 5
}
